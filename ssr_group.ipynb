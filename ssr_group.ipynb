{
 "cells": [
  {
   "cell_type": "markdown",
   "metadata": {
    "collapsed": false
   },
   "source": [
    "# Symbolic calculation for covariant transform on the SSR group\n",
    "### [Vladimir V Kisil](http://www1.maths.leeds.ac.uk/~kisilv/)\n",
    "\n",
    "This is a [working Jupyter notebook](https://github.com/vvkisil/SSR-group-computations) which was used for research published in [Ref.4](#refKisil21c). The notebook is very detailed with numerous cross-checks of the correctness and supplementary computation. It may serve also as a demonstration of [pyGiNaC](#http://moebinv.sourceforge.net/pyGiNaC.html) abilities for symbolic computations in actual research environment. \n",
    "\n",
    "**Note:** *to execute the notebook you may need to [install software](https://colab.research.google.com/github/vvkisil/MoebInv-notebooks/blob/master/Introduction/Software_installation_GUI_integration.ipynb).* If you do not have a local installation of  [pyGiNaC](#http://moebinv.sourceforge.net/pyGiNaC.html) then you can use a CodeOcean capsule [Ref.5](#refKisil21b).\n",
    "\n",
    "There is also the [processed HTML](http://www1.maths.leeds.ac.uk/~kisilv/SSR-group-computations/ssr_group.html).\n",
    "\n",
    "<a id=\"ToC\"></a>\n",
    "#### Table of contents of this notebook\n",
    "\n",
    "+ [Initialisation, auxiliary functions and variables](#initialisation)\n",
    "\n",
    "+ [SSR group](#ssrGroup)\n",
    "  - [Lie algebra of the SSR group](#LieAlgebra)\n",
    "  - [Exponential map](#exponentialMap)\n",
    "    * [Elements conversion](#elementsConversion)\n",
    "  - [Lie group definition](#LieGroup)\n",
    "  \n",
    "+ [Subgroups and homogeneous spaces](#subgroupsHS)\n",
    "  - [Maximal abelian subgroup](#maxabelianSubgroup)\n",
    "  - [The centre of the SSR group](#centreSSRGroup)\n",
    "\n",
    "+ [Induced representations of the SSR group](#indeycedRepresentations)\n",
    "  - [Definition of the symbolic functions](#definitionFunctions)\n",
    "  - [Representations of the SSR group induced from the centre](#inductionCentre)\n",
    "    * [Infinitesimal (derived) representations](#infinitesimalCentre)\n",
    "  - [The representation induced from the maximal abelian subgroup](#inducedMaximal)  \n",
    "+ [Coherent states](#coherentStates)\n",
    "  - [Identifying the vacuum vectors](#identifyingVacuum)\n",
    "  - [Case of non-zero derivative in R direction (Er is not zero)](#transmutationErNonZero)\n",
    "  - [The case of vanishing derivative in R direction (Er = 0)](#transmutationErZero)\n",
    "  - [Annihilating operators of Cauchy–Riemann type (first order)](#CRannihilator)\n",
    "    * [The phase-space pair](#CRphaseSpace)\n",
    "    * [Affine group analyticity](#CRaffineGroup)\n",
    "    * [Complex symbolic variables](#complexVariables)\n",
    "  - [Wave/Schrödinger annihilators (second order)](#secondOrderAnnihilator)\n",
    "    * [Second order annihilator for B](#secondOrderAnnihilatorB)\n",
    "    * [Second order annihilator for R](#secondOrderAnnihilatorR)\n",
    "    * [An example: wave packet](#exampleWavePacket)\n",
    "    * [An example: plane wave](#examplePlaneWave)\n",
    "+ [Metamorphism](#metamorphism)\n",
    "  - [Basic properties of the metamorphism](#metamorphismBasics)\n",
    "  - [Solving the image of the Helmholtz equation](#solvingHelmholtz)\n",
    "    * [Example: plane wave solution](#solvingPlaneWave)\n",
    "    * [Example: wave packet solution](#solvingWavePaclet)\n",
    "+ [Generic solution of the Helmholtz equation](#HelmholtzGeneric)\n",
    "  - [Cartesian coordinates representation](#CartesianRepresentation)\n",
    "  - [Plane wave from the partial solution](#partialPlaneWave)\n",
    "  - [Jacobi (Hankel) functions](#JacobiFunctions)\n",
    "  - [Fundamental solution](#fundamentalSolution)\n",
    "+ [Helmholtz 3D](#Helmholtz3D)\n",
    "  - [Generic solution of the Helmholtz equation in 3D](#generalHelmholtz3D)\n",
    "+ [References](#references)\n"
   ]
  },
  {
   "cell_type": "markdown",
   "metadata": {
    "collapsed": false
   },
   "source": [
    "<a id=\"initialisation\"></a>\n",
    "## Initialisation, auxiliary functions and variables \n",
    "\n",
    "Initialise the system by loading `pyGiNaC`."
   ]
  },
  {
   "cell_type": "code",
   "execution_count": null,
   "metadata": {
    "collapsed": false
   },
   "outputs": [],
   "source": [
    "from ginac import *\n",
    "from IPython.display import Latex\n",
    "#latex_off()\n",
    "latex_on()"
   ]
  },
  {
   "cell_type": "markdown",
   "metadata": {
    "collapsed": false
   },
   "source": [
    "Fine-tine $\\LaTeX$ output of calculations."
   ]
  },
  {
   "cell_type": "code",
   "execution_count": null,
   "metadata": {
    "autoscroll": false,
    "collapsed": false,
    "ein.hycell": false,
    "ein.tags": "worksheet-0",
    "slideshow": {
     "slide_type": "-"
    }
   },
   "outputs": [],
   "source": [
    "def bool_highlighted(ginac):\n",
    "    if is_latex_on():\n",
    "        ginac = ginac.replace(\"True\", \"\\\\textbf{True}\")\n",
    "        ginac = ginac.replace(\"False\", \"\\\\textbf{False}\")\n",
    "        return Latex(ginac)\n",
    "    else:\n",
    "        ginac = ginac.replace(\"True\", \"_True_\")\n",
    "        ginac = ginac.replace(\"False\", \"_False_\")\n",
    "        return str(ginac)\n",
    "\n",
    "def print_plain(String, Expr):\n",
    "    was_latex = is_latex_on()\n",
    "    latex_off()\n",
    "    print(String, Expr)\n",
    "    if (was_latex):\n",
    "        latex_on()"
   ]
  },
  {
   "cell_type": "markdown",
   "metadata": {
    "collapsed": false,
    "ein.tags": "worksheet-0",
    "slideshow": {
     "slide_type": "-"
    }
   },
   "source": [
    "We will need to use the following algebraic transformations regularly to simplify expressions"
   ]
  },
  {
   "cell_type": "code",
   "execution_count": null,
   "metadata": {
    "autoscroll": false,
    "collapsed": false,
    "ein.hycell": false,
    "ein.tags": "worksheet-0",
    "slideshow": {
     "slide_type": "-"
    }
   },
   "outputs": [],
   "source": [
    "power_laws = {power(wild(9),wild(10))*wild(11)*power(wild(9),wild(12))\\\n",
    "              : power(wild(9), (wild(10)+wild(12)))*wild(11), \\\n",
    "    power(wild(1),wild(2))*power(wild(1),wild(3)) : power(wild(1),(wild(2)+wild(3))),\\\n",
    "    power(power(wild(0),wild(1)),wild(2)) : power(wild(0),wild(1)*wild(2))}\n",
    "extra_power_laws = {power(wild(8),wild(10))*wild(11)*power(wild(9),wild(10))\\\n",
    "                    : power(wild(8)*wild(9), wild(10))*wild(11),\\\n",
    "                    power(wild(1),wild(2))*power(wild(3),wild(2))\\\n",
    "                    : power(wild(1)*wild(3), wild(2))}\n",
    "exponent_laws = {power(exp(wild(5)), wild(6))  :  exp(wild(5)*wild(6)), \\\n",
    "                 exp(wild(0))*exp(wild(1)) : exp(wild(0)+wild(1)), \\\n",
    "                 exp(wild(2))*wild(3)*exp(wild(4)) : exp(wild(2)+wild(4))*wild(3)}\n",
    "\n",
    "def apply_laws(Expr, with_powers = False, options = 0):\n",
    "    X = Expr.normal()\\\n",
    "        .subs({pow(exp(wild(5)),-1) : exp(-wild(5))})\\\n",
    "        .subs(exponent_laws, options).normal()\\\n",
    "        .expand().subs(exponent_laws, options).normal()\n",
    "    if with_powers:\n",
    "        return X.expand().subs(power_laws, options).normal()\n",
    "    else:\n",
    "        return X"
   ]
  },
  {
   "cell_type": "markdown",
   "metadata": {
    "collapsed": false
   },
   "source": [
    "Some mnemonic values for logical parameters."
   ]
  },
  {
   "cell_type": "code",
   "execution_count": null,
   "metadata": {
    "collapsed": false
   },
   "outputs": [],
   "source": [
    "with_power_laws = True\n",
    "Left_action = True\n",
    "Right_action = False"
   ]
  },
  {
   "cell_type": "markdown",
   "metadata": {
    "collapsed": false
   },
   "source": [
    "[Back to ToC](#ToC)"
   ]
  },
  {
   "cell_type": "markdown",
   "metadata": {
    "collapsed": false
   },
   "source": [
    "<a id=\"ssrGroup\"></a>\n",
    "## SSR group\n",
    "\n",
    "First, we construct the machinery to work with SSR group. The process is as follows:\n",
    "\n",
    "1. We realise the [Lie algebra](#LieAlgebra) through matrices to represent known commutators.\n",
    "2. The [exponential map](#exponentialMap) is used to find the group law\n",
    "3. The obtained expressions are implemented into procedures for speed."
   ]
  },
  {
   "cell_type": "markdown",
   "metadata": {
    "collapsed": false,
    "ein.tags": "worksheet-0",
    "slideshow": {
     "slide_type": "-"
    }
   },
   "source": [
    "<a id=\"LieAlgebra\"></a>\n",
    "### Lie algebra of the SSR group\n",
    "\n",
    "Some initial setting: names of vector fields in the Lie algebra basis."
   ]
  },
  {
   "cell_type": "code",
   "execution_count": null,
   "metadata": {
    "autoscroll": false,
    "collapsed": false,
    "ein.hycell": false,
    "ein.tags": "worksheet-0",
    "slideshow": {
     "slide_type": "-"
    }
   },
   "outputs": [],
   "source": [
    "fields = ['S', 'X', 'Y', 'B', 'R']"
   ]
  },
  {
   "cell_type": "markdown",
   "metadata": {
    "collapsed": false,
    "ein.tags": "worksheet-0",
    "slideshow": {
     "slide_type": "-"
    }
   },
   "source": [
    "We start from the matrix representation of the Lie algebra."
   ]
  },
  {
   "cell_type": "code",
   "execution_count": null,
   "metadata": {
    "collapsed": false
   },
   "outputs": [],
   "source": [
    "B0=symbolic_matrix(4,4,\"b\")\n",
    "X=matrix([[0,0,1,0],[0,0,0,1],[0,0,0,0],[0,0,0,0]])\n",
    "Y=matrix([[0,-1,0,0],[0,0,0,0],[0,0,0,1],[0,0,0,0]])\n",
    "S=matrix([[0,0,0,2],[0,0,0,0],[0,0,0,0],[0,0,0,0]])\n",
    "R=matrix([[0,0,0,0],[0,1,0,0],[0,0,-1,0],[0,0,0,0]])\n",
    "B=matrix([[0,0,0,0],[0,0,-1,0],[0,0,0,0],[0,0,0,0]])"
   ]
  },
  {
   "cell_type": "markdown",
   "metadata": {
    "collapsed": false
   },
   "source": [
    "*Excercise*. We check that the commutators of the representing matrices are right."
   ]
  },
  {
   "cell_type": "code",
   "execution_count": null,
   "metadata": {
    "collapsed": false
   },
   "outputs": [],
   "source": [
    "display(bool_highlighted(\"[X,Y]=S: \"+f'${(X*Y-Y*X-S).evalm().is_zero_matrix()}$'))\n",
    "display(bool_highlighted(\"[R,X]=X: \"+f'${(R*X-X*R-X).evalm().is_zero_matrix()}$'))\n",
    "display(bool_highlighted(\"[R,Y]=-Y: \"+f'${(R*Y-Y*R+Y).evalm().is_zero_matrix()}$'))\n",
    "display(bool_highlighted(\"[R,S]=0: \"+f'${(R*S-S*R).evalm().is_zero_matrix()}$'))\n",
    "display(bool_highlighted(\"[B,X]=0: \"+f'${(B*X-X*B).evalm().is_zero_matrix()}$'))\n",
    "display(bool_highlighted(\"[B,Y]=-X: \"+f'${(B*Y-Y*B+X).evalm().is_zero_matrix()}$'))\n",
    "(bool_highlighted(\"[R,B]=2B: \"+f'${(R*B-B*R-2*B).evalm().is_zero_matrix()}$'))"
   ]
  },
  {
   "cell_type": "markdown",
   "metadata": {
    "collapsed": false
   },
   "source": [
    "*Excercise*. We also check nilpotency of the basis elements, \\(R\\) shall be the\n",
    "only exception."
   ]
  },
  {
   "cell_type": "code",
   "execution_count": null,
   "metadata": {
    "autoscroll": false,
    "collapsed": false,
    "ein.hycell": false,
    "ein.tags": "worksheet-0",
    "scrolled": true,
    "slideshow": {
     "slide_type": "-"
    }
   },
   "outputs": [],
   "source": [
    "vectors={\"S\": S, \"X\": X, \"Y\" : Y, \"R\" : R, \"B\" : B}\n",
    "for v in vectors:\n",
    "    display(bool_highlighted(f'{v} is nilpotent: ${pow(vectors[v],2).evalm().is_zero_matrix()}$'))"
   ]
  },
  {
   "cell_type": "markdown",
   "metadata": {
    "collapsed": false
   },
   "source": [
    "[Back to ToC](#ToC)"
   ]
  },
  {
   "cell_type": "markdown",
   "metadata": {
    "collapsed": false,
    "ein.tags": "worksheet-0",
    "slideshow": {
     "slide_type": "-"
    }
   },
   "source": [
    "<a id=\"exponentialMap\"></a>\n",
    "### Exponential map\n",
    "\n",
    "The SSR group is constructed through the exponential map of the above Lie\n",
    "algebra.  Here is a matrix for a generic element."
   ]
  },
  {
   "cell_type": "code",
   "execution_count": null,
   "metadata": {
    "autoscroll": false,
    "collapsed": false,
    "ein.hycell": false,
    "ein.tags": "worksheet-0",
    "slideshow": {
     "slide_type": "-"
    }
   },
   "outputs": [],
   "source": [
    "s=realsymbol(\"s\")\n",
    "x=realsymbol(\"x\")\n",
    "y=realsymbol(\"y\")\n",
    "r=possymbol(\"r\")\n",
    "b=realsymbol(\"b\")\n",
    "u=realsymbol(\"u\")\n",
    "u2=realsymbol(\"u2\")\n",
    "I4=unit_matrix(4)\n",
    "expR=matrix([[1,0,0,0],[0,r,0,0],[0,0,1/r,0],[0,0,0,1]])\n",
    "g=((I4+s*S)*(I4+y*Y)*(I4+x*X)*(I4+b*B)*expR).evalm()\n",
    "Latex(f'Generic SSR group element: ${g}$')"
   ]
  },
  {
   "cell_type": "markdown",
   "metadata": {
    "collapsed": false,
    "ein.tags": "worksheet-0",
    "slideshow": {
     "slide_type": "-"
    }
   },
   "source": [
    "More generally,we represent a generic element of the Schrödinger–Jacobi group, the group SSR is its subgroup, cf. [Ref.6](#EichlerZagier85), Thm.6.1."
   ]
  },
  {
   "cell_type": "code",
   "execution_count": null,
   "metadata": {
    "autoscroll": false,
    "collapsed": false,
    "ein.hycell": false,
    "ein.tags": "worksheet-0",
    "slideshow": {
     "slide_type": "-"
    }
   },
   "outputs": [],
   "source": [
    "a=realsymbol(\"a\")\n",
    "b=realsymbol(\"b\")\n",
    "c=realsymbol(\"c\")\n",
    "d=realsymbol(\"d\")\n",
    "\n",
    "Sch=((I4+s*S)*(I4+y*Y)*(I4+x*X)*matrix([[1,0,0,0],[0,a,b,0],[0,c,d,0],[0,0,0,1]])).evalm()\n",
    "Latex(f'Generic Schrödinger–Jacobi group element: ${Sch}$')"
   ]
  },
  {
   "cell_type": "markdown",
   "metadata": {
    "collapsed": false
   },
   "source": [
    "[Back to ToC](#ToC)"
   ]
  },
  {
   "cell_type": "markdown",
   "metadata": {
    "collapsed": false,
    "ein.tags": "worksheet-0",
    "slideshow": {
     "slide_type": "-"
    }
   },
   "source": [
    "<a id=\"elementsConversion\"></a>\n",
    "#### Elements conversion\n",
    "\n",
    "We define several convenience routines, which convert between different forms of the SSR group.\n",
    "\n",
    "The next routine converts a tuple into the matrix representing of the respective SSR element. "
   ]
  },
  {
   "cell_type": "code",
   "execution_count": null,
   "metadata": {
    "autoscroll": false,
    "collapsed": false,
    "ein.hycell": false,
    "ein.tags": "worksheet-0",
    "slideshow": {
     "slide_type": "-"
    }
   },
   "outputs": [],
   "source": [
    "def tuple_to_ssr_matrix(s, x, y, b, r=1):\n",
    "    \"\"\"Convert a 4/5-tuple into a matrix representing SSR group\"\"\" \n",
    "    return matrix([[1,-y*r, (x+b*y)/r, 2*s-x*y],\\\n",
    "                    [ 0, r, -b/r, x],\\\n",
    "                    [ 0, 0, 1/r, y],\\\n",
    "                    [ 0, 0, 0, 1]])"
   ]
  },
  {
   "cell_type": "markdown",
   "metadata": {
    "collapsed": false,
    "ein.tags": "worksheet-0",
    "slideshow": {
     "slide_type": "-"
    }
   },
   "source": [
    "Alternatively we make a SSR element as a vector from a list or elements"
   ]
  },
  {
   "cell_type": "code",
   "execution_count": null,
   "metadata": {
    "autoscroll": false,
    "collapsed": false,
    "ein.hycell": false,
    "ein.tags": "worksheet-0",
    "slideshow": {
     "slide_type": "-"
    }
   },
   "outputs": [],
   "source": [
    "def ssr_element(*args):\n",
    "    if len(args) == 1:\n",
    "        if type(args) is list:\n",
    "            return matrix([].append(args))\n",
    "        elif type(args) is cginac.matrix:\n",
    "            return args\n",
    "    elif len(args) == 4:\n",
    "        return matrix([[args[0], args[1], args[2], args[3], 1]])\n",
    "    elif len(args) == 5:\n",
    "        return matrix([[args[0], args[1], args[2], args[3], args[4]]])\n",
    "    else:\n",
    "        print(\"Do not recognise an argument type\")"
   ]
  },
  {
   "cell_type": "markdown",
   "metadata": {
    "collapsed": false,
    "ein.tags": "worksheet-0",
    "slideshow": {
     "slide_type": "-"
    }
   },
   "source": [
    "Also we make SSR matrix from a vector or a list."
   ]
  },
  {
   "cell_type": "code",
   "execution_count": null,
   "metadata": {
    "autoscroll": false,
    "collapsed": false,
    "ein.hycell": false,
    "ein.tags": "worksheet-0",
    "slideshow": {
     "slide_type": "-"
    }
   },
   "outputs": [],
   "source": [
    "def to_ssr_matrix(L):\n",
    "    if L.nops() == 4:\n",
    "        return tuple_to_ssr_matrix(L.op(0), L.op(1), L.op(2), L.op(3), 1)\n",
    "    else:\n",
    "        return tuple_to_ssr_matrix(L.op(0), L.op(1), L.op(2), L.op(3), L.op(4))"
   ]
  },
  {
   "cell_type": "markdown",
   "metadata": {
    "collapsed": false,
    "ein.tags": "worksheet-0",
    "slideshow": {
     "slide_type": "-"
    }
   },
   "source": [
    "The converse operation: from matrix to the group element."
   ]
  },
  {
   "cell_type": "code",
   "execution_count": null,
   "metadata": {
    "autoscroll": false,
    "collapsed": false,
    "ein.hycell": false,
    "ein.tags": "worksheet-0",
    "slideshow": {
     "slide_type": "-"
    }
   },
   "outputs": [],
   "source": [
    "def from_ssr_matrix(M1):\n",
    "    \"\"\"Convert a suitable 4x4 matrix into 5-tuple for the SSR matrix\"\"\" \n",
    "    M=evalm(M1)\n",
    "    if (not ((M.op(1) + M.op(2*4+3)*M.op(4+1)).normal().is_zero() and \\\n",
    "        (M.op(2)*M.op(4+1)-M.op(4+3)-M.op(1)*M.op(4+2)).normal().is_zero())):\n",
    "        print(\"Matrix is of the wrong form\")\n",
    "        return [0, 0, 0, 0]\n",
    "    else:\n",
    "        return matrix([[((M.op(3)+M.op(4+3)*M.op(2*4+3))/2).normal(), M.op(4+3), M.op(2*4+3), -M.op(4+2)*M.op(4+1), M.op(4+1)]])"
   ]
  },
  {
   "cell_type": "markdown",
   "metadata": {
    "collapsed": false,
    "ein.tags": "worksheet-0",
    "slideshow": {
     "slide_type": "-"
    }
   },
   "source": [
    "Define some generic elements of SSR group for the symbolic computations."
   ]
  },
  {
   "cell_type": "code",
   "execution_count": null,
   "metadata": {
    "autoscroll": false,
    "collapsed": false,
    "ein.hycell": false,
    "ein.tags": "worksheet-0",
    "slideshow": {
     "slide_type": "-"
    }
   },
   "outputs": [],
   "source": [
    "G0=matrix([[s,x,y,b,1]])\n",
    "G=matrix([[s,x,y,b,r]])\n",
    "\n",
    "s1=realsymbol(\"s'\")\n",
    "x1=realsymbol(\"x'\")\n",
    "y1=realsymbol(\"y'\")\n",
    "b1=realsymbol(\"b'\")\n",
    "r1=possymbol(\"r'\")\n",
    "\n",
    "G1=matrix([[s1,x1,y1,b1,r1]])\n",
    "G10=matrix([[s1,x1,y1,b1,1]])\n",
    "\n",
    "s2=realsymbol(\"s''\")\n",
    "x2=realsymbol(\"x''\")\n",
    "y2=realsymbol(\"y''\")\n",
    "b2=realsymbol(\"b''\")\n",
    "r2=possymbol(\"r''\")\n",
    "\n",
    "G2=matrix([[s2,x2,y2,b2,r2]])\n",
    "G20=matrix([[s2,x2,y2,b2,1]])"
   ]
  },
  {
   "cell_type": "markdown",
   "metadata": {
    "collapsed": false
   },
   "source": [
    "[Back to ToC](#ToC)"
   ]
  },
  {
   "cell_type": "markdown",
   "metadata": {
    "collapsed": false,
    "ein.tags": "worksheet-0",
    "slideshow": {
     "slide_type": "-"
    }
   },
   "source": [
    "<a id=\"LieGroup\"></a>\n",
    "### Lie group definition\n",
    "\n",
    "We look for the SSR group law in term of the canonical coordinates.\n",
    "\n",
    "First define two elements for helper routines: their outputs produce a valid Python code. The output is used to define the group law in a routine below. The direct definition will execute slightly faster."
   ]
  },
  {
   "cell_type": "code",
   "execution_count": null,
   "metadata": {
    "collapsed": false
   },
   "outputs": [],
   "source": [
    "gs=realsymbol(\"G.op(0)\")\n",
    "gx=realsymbol(\"G.op(1)\")\n",
    "gy=realsymbol(\"G.op(2)\")\n",
    "gb=realsymbol(\"G.op(3)\")\n",
    "gr=realsymbol(\"G.op(4)\")\n",
    "Gop=matrix([[gs,gx,gy,gb,gr]])\n",
    "\n",
    "g1s=realsymbol(\"G1.op(0)\")\n",
    "g1x=realsymbol(\"G1.op(1)\")\n",
    "g1y=realsymbol(\"G1.op(2)\")\n",
    "g1b=realsymbol(\"G1.op(3)\")\n",
    "g1r=realsymbol(\"G1.op(4)\")\n",
    "\n",
    "G1op=matrix([[g1s,g1x,g1y,g1b,g1r]])"
   ]
  },
  {
   "cell_type": "markdown",
   "metadata": {
    "collapsed": false
   },
   "source": [
    "We calculate the group law in the above coordinates and output in plain notations."
   ]
  },
  {
   "cell_type": "code",
   "execution_count": null,
   "metadata": {
    "autoscroll": false,
    "collapsed": false,
    "ein.hycell": false,
    "ein.tags": "worksheet-0",
    "slideshow": {
     "slide_type": "-"
    }
   },
   "outputs": [],
   "source": [
    "print_plain(\"Product: \",  from_ssr_matrix(to_ssr_matrix(Gop) * to_ssr_matrix(G1op)))\n",
    "    \n",
    "Latex(\"Product: $%s$\" % evalm(to_ssr_matrix(G) * to_ssr_matrix(G1)))"
   ]
  },
  {
   "cell_type": "markdown",
   "metadata": {
    "collapsed": false,
    "ein.tags": "worksheet-0",
    "slideshow": {
     "slide_type": "-"
    }
   },
   "source": [
    "We cut & paste the above output to define the multiplication on the group in the next routine:"
   ]
  },
  {
   "cell_type": "code",
   "execution_count": null,
   "metadata": {
    "autoscroll": false,
    "collapsed": false,
    "ein.hycell": false,
    "ein.tags": "worksheet-0",
    "slideshow": {
     "slide_type": "-"
    }
   },
   "outputs": [],
   "source": [
    "def ssr_mul(G, G1):\n",
    "    if type(G) is list:\n",
    "        if len(G) == 4:\n",
    "            G.append(1)\n",
    "        return matrix([[(2*G[1]*G1[2]*G[4]+2*G1[0]*G[4]**2-G[3]*G1[2]**2+2*G[4]**2*G[0])/2*G[4]**(-2),\\\n",
    "                        G[1]-G[3]*G1[2]*G[4]**(-1)+G1[1]*G[4],\\\n",
    "                        G[2]+G1[2]*G[4]**(-1),\\\n",
    "                        G1[3]*G[4]**2+G[3],\\\n",
    "                        G1[4]*G[4]]])\n",
    "    return matrix([[-G.op(4)**(-2)*(G.op(3)*G1.op(2)**2-2*G.op(0)*G.op(4)**2-2*G1.op(2)*G.op(4)*G.op(1)-2*G.op(4)**2*G1.op(0))/2,\\\n",
    "                        G1.op(1)*G.op(4)-G.op(3)*G1.op(2)*G.op(4)**(-1)+G.op(1),\\\n",
    "                        G1.op(2)*G.op(4)**(-1)+G.op(2),\\\n",
    "                        G.op(4)*(G.op(4)*G1.op(3)*G1.op(4)**(-1)+G.op(3)*G.op(4)**(-1)*G1.op(4)**(-1))*G1.op(4),G.op(4)*G1.op(4)]]).normal()    "
   ]
  },
  {
   "cell_type": "markdown",
   "metadata": {
    "collapsed": false
   },
   "source": [
    "New formulae are used to print reduced multiplication law."
   ]
  },
  {
   "cell_type": "code",
   "execution_count": null,
   "metadata": {
    "autoscroll": false,
    "collapsed": false,
    "ein.hycell": false,
    "ein.tags": "worksheet-0",
    "slideshow": {
     "slide_type": "-"
    }
   },
   "outputs": [],
   "source": [
    "display(bool_highlighted(f'Restriction to shear (sub)group: ${ssr_mul(G,G1).subs({r : 1, r1 : 1})}$'))\n",
    "bool_highlighted(f'Group multiplication: ${ssr_mul(G,G1)}$')"
   ]
  },
  {
   "cell_type": "markdown",
   "metadata": {
    "collapsed": false,
    "ein.tags": "worksheet-0",
    "slideshow": {
     "slide_type": "-"
    }
   },
   "source": [
    "*Exercise*. We check if the above definition is accurate and agrees with the original formula."
   ]
  },
  {
   "cell_type": "code",
   "execution_count": null,
   "metadata": {
    "autoscroll": false,
    "collapsed": false,
    "ein.hycell": false,
    "ein.tags": "worksheet-0",
    "slideshow": {
     "slide_type": "-"
    }
   },
   "outputs": [],
   "source": [
    "display(bool_highlighted(\"Multiplication the same as from matrices: $%s$\" % evalm(from_ssr_matrix(to_ssr_matrix(G) * to_ssr_matrix(G1))-ssr_mul(G,G1)).normal().is_zero_matrix()))\n",
    "bool_highlighted(\"Check associativity: $%s$\" % evalm(ssr_mul(G,ssr_mul(G1,G2))-ssr_mul(ssr_mul(G,G1),G2)).normal().is_zero_matrix())"
   ]
  },
  {
   "cell_type": "markdown",
   "metadata": {
    "collapsed": false
   },
   "source": [
    "*Exercise*. Check the identity element in the SSR group."
   ]
  },
  {
   "cell_type": "code",
   "execution_count": null,
   "metadata": {
    "collapsed": false
   },
   "outputs": [],
   "source": [
    "ssr_identity = matrix([[0, 0, 0, 0, 1]])\n",
    "display(bool_highlighted(f'Identity from left: ${(ssr_mul(ssr_identity, G) - G).is_zero()}$' ))\n",
    "bool_highlighted(f'Identity from right: ${(ssr_mul(G, ssr_identity) - G).is_zero()}$' )"
   ]
  },
  {
   "cell_type": "markdown",
   "metadata": {
    "collapsed": false
   },
   "source": [
    "Now we produce a string, which can be used to define the inverse element."
   ]
  },
  {
   "cell_type": "code",
   "execution_count": null,
   "metadata": {
    "collapsed": false
   },
   "outputs": [],
   "source": [
    "print_plain('Group inverse: ', from_ssr_matrix(pow(to_ssr_matrix(Gop),-1)))"
   ]
  },
  {
   "cell_type": "markdown",
   "metadata": {
    "collapsed": false,
    "ein.tags": "worksheet-0",
    "slideshow": {
     "slide_type": "-"
    }
   },
   "source": [
    "The last output can be used to create a direct routine SSR inverse:"
   ]
  },
  {
   "cell_type": "code",
   "execution_count": null,
   "metadata": {
    "collapsed": false
   },
   "outputs": [],
   "source": [
    "def ssr_inverse(G):\n",
    "    if type(G) is list:\n",
    "        if len(G) == 4:\n",
    "            G.append(1)\n",
    "        return matrix([[G[3]*G[2]**2/2+G[1]*G[2]-G[0],-(G[1]+G[3]*G[2])*G[4]**(-1),-G[2]*G[4],-G[3]*G[4]**(-1),G[4]**(-1)]])\n",
    "    else:\n",
    "        return matrix([[G.op(1)*G.op(2)-G.op(0)+G.op(3)*G.op(2)**2/2,-G.op(4)**(-1)*(G.op(1)+G.op(3)*G.op(2)),-G.op(4)*G.op(2),-G.op(3)*G.op(4)**(-2),G.op(4)**(-1)]])"
   ]
  },
  {
   "cell_type": "markdown",
   "metadata": {
    "collapsed": false,
    "ein.tags": "worksheet-0",
    "slideshow": {
     "slide_type": "-"
    }
   },
   "source": [
    "Check the inverse method:"
   ]
  },
  {
   "cell_type": "code",
   "execution_count": null,
   "metadata": {
    "autoscroll": false,
    "collapsed": false,
    "ein.hycell": false,
    "ein.tags": "worksheet-0",
    "slideshow": {
     "slide_type": "-"
    }
   },
   "outputs": [],
   "source": [
    "display(bool_highlighted(f'Inverse in matrix terms coincides: ${evalm(from_ssr_matrix(pow(to_ssr_matrix(G),-1))-ssr_inverse(G)).is_zero()}$'))\n",
    "display(bool_highlighted(f'Left inverse: ${(ssr_mul(G,ssr_inverse(G))-ssr_identity).is_zero()}$'))\n",
    "bool_highlighted(f'Right inverse: ${(ssr_mul(ssr_inverse(G),G)-ssr_identity).is_zero()}$')\n",
    "Latex(f'Inverse is: ${ssr_inverse(G)}$')"
   ]
  },
  {
   "cell_type": "markdown",
   "metadata": {
    "collapsed": false
   },
   "source": [
    "We calculate the left action on the group:"
   ]
  },
  {
   "cell_type": "code",
   "execution_count": null,
   "metadata": {
    "collapsed": false
   },
   "outputs": [],
   "source": [
    "bool_highlighted(f'${ssr_mul(ssr_inverse(G1),G2)}$')"
   ]
  },
  {
   "cell_type": "markdown",
   "metadata": {
    "collapsed": false
   },
   "source": [
    "[Back to ToC](#ToC)"
   ]
  },
  {
   "cell_type": "markdown",
   "metadata": {
    "collapsed": false
   },
   "source": [
    "<a id=\"subgroupsHS\"></a>\n",
    "## Subgroups and homogeneous spaces\n",
    "\n",
    "We calculate the SSR actions on two homogeneous spaces $G/H$, where $H$ is either\n",
    "\n",
    "+ the maximal abelian subgroup of the SSR group; or\n",
    "+ the centre of the SSR group.\n",
    "\n",
    "We use techniques and notations from [Ref.1](#refAlmalkiKisil19)."
   ]
  },
  {
   "cell_type": "markdown",
   "metadata": {
    "collapsed": false
   },
   "source": [
    "[Back to ToC](#ToC)"
   ]
  },
  {
   "cell_type": "markdown",
   "metadata": {
    "collapsed": false,
    "ein.tags": "worksheet-0",
    "slideshow": {
     "slide_type": "-"
    }
   },
   "source": [
    "<a id=\"maxabelianSubgroup\"></a>\n",
    "### Maximal abelian subgroup\n",
    "\n",
    "Here we define the maximal abelian subgroup and the respective maps:\n",
    "\n",
    "+ projection $p: G \\rightarrow G/H$;\n",
    "+ section $s: G/H \\rightarrow G$;\n",
    "+ the complementary map $r: G \\rightarrow H$."
   ]
  },
  {
   "cell_type": "code",
   "execution_count": null,
   "metadata": {
    "collapsed": false
   },
   "outputs": [],
   "source": [
    "def ssr_r_map(G):\n",
    "    return matrix([[G.op(0), G.op(1), 0, G.op(3), G.op(4)]])\n",
    "def ssr_p_map(G):\n",
    "    return ssr_mul(G, ssr_inverse(ssr_r_map(G)))\n",
    "def ssr_p_map_param(G):\n",
    "    return ssr_p_map(G).op(2)\n",
    "def ssr_s_map(y):\n",
    "    return matrix([[0, 0, y, 0, 1]])"
   ]
  },
  {
   "cell_type": "markdown",
   "metadata": {
    "collapsed": false
   },
   "source": [
    "*Exercise*. Print the maps  and check the compatibility."
   ]
  },
  {
   "cell_type": "code",
   "execution_count": null,
   "metadata": {
    "autoscroll": false,
    "collapsed": false,
    "ein.hycell": false,
    "ein.tags": "worksheet-0",
    "slideshow": {
     "slide_type": "-"
    }
   },
   "outputs": [],
   "source": [
    "display(Latex(f'Map $p({G})={ssr_p_map(G)}$'))\n",
    "display(Latex(f'Map $s({y})={ssr_s_map(y)}$'))\n",
    "display(Latex(f'Map $r({G})={ssr_r_map(G)}$'))\n",
    "display(bool_highlighted(f'Maps agree: $y=p(s(y)): {(y - ssr_p_map_param(ssr_s_map(y))).is_zero()}$'))\n",
    "bool_highlighted(f'Maps agree: $g=s(p(g))r(g): {evalm(G - ssr_mul(ssr_p_map(G),ssr_r_map(G))).is_zero()}$')"
   ]
  },
  {
   "cell_type": "markdown",
   "metadata": {
    "collapsed": false
   },
   "source": [
    "The group action $G: G/H \\rightarrow G/H$ on the homogeneous space. "
   ]
  },
  {
   "cell_type": "code",
   "execution_count": null,
   "metadata": {
    "autoscroll": false,
    "collapsed": false,
    "ein.hycell": false,
    "ein.tags": "worksheet-0",
    "slideshow": {
     "slide_type": "-"
    }
   },
   "outputs": [],
   "source": [
    "display(Latex(\"Action: $%s$\" % ssr_p_map_param(ssr_mul(ssr_inverse(G0), ssr_s_map(y1)))))\n",
    "Latex(\"Char: $%s$\" % ssr_r_map(ssr_mul(ssr_inverse(G0), ssr_s_map(y1))))"
   ]
  },
  {
   "cell_type": "markdown",
   "metadata": {
    "collapsed": false,
    "ein.tags": "worksheet-0",
    "slideshow": {
     "slide_type": "-"
    }
   },
   "source": [
    "Derivatives of the character of the representation."
   ]
  },
  {
   "cell_type": "code",
   "execution_count": null,
   "metadata": {
    "autoscroll": false,
    "collapsed": false,
    "ein.hycell": false,
    "ein.tags": "worksheet-0",
    "slideshow": {
     "slide_type": "-"
    }
   },
   "outputs": [],
   "source": [
    "h=realsymbol(\"h\", \"\\hbar\")\n",
    "h2=realsymbol(\"h2\", \"h_2\")\n",
    "def chi(G):\n",
    "    return exp(2*Pi*I*(h2*G.op(3)+h*G.op(0)))\n",
    "\n",
    "display(bool_highlighted(\"ds: $%s$\" % chi(ssr_r_map(ssr_mul(ssr_inverse(G0), ssr_s_map(y1)))).diff(s).subs({s:0, x:0, y:0, b:0, r:1})))\n",
    "display(bool_highlighted(\"dx: $%s$\" % chi(ssr_r_map(ssr_mul(ssr_inverse(G0), ssr_s_map(y1)))).diff(x).subs({s:0, x:0, y:0, b:0, r:1})))\n",
    "display(bool_highlighted(\"dy: $%s$\" % chi(ssr_r_map(ssr_mul(ssr_inverse(G0), ssr_s_map(y1)))).diff(y).subs({s:0, x:0, y:0, b:0, r:1})))\n",
    "bool_highlighted(\"db: $%s$\" % chi(ssr_r_map(ssr_mul(ssr_inverse(G0), ssr_s_map(y1)))).diff(b).subs({s:0, x:0, y:0, b:0, r:1}))"
   ]
  },
  {
   "cell_type": "markdown",
   "metadata": {
    "collapsed": false
   },
   "source": [
    "[Back to ToC](#ToC)"
   ]
  },
  {
   "cell_type": "markdown",
   "metadata": {
    "collapsed": false,
    "ein.tags": "worksheet-0",
    "slideshow": {
     "slide_type": "-"
    }
   },
   "source": [
    "<a id=\"centreSSRGroup\"></a>\n",
    "### The centre of the SSR group\n",
    "\n",
    "Now we repeat the same steps to define homogeneous space for the centre of the SSR group."
   ]
  },
  {
   "cell_type": "code",
   "execution_count": null,
   "metadata": {
    "collapsed": false
   },
   "outputs": [],
   "source": [
    "def ssr_r0_map(G):\n",
    "    return matrix([[G.op(0),0, 0, 0, 1]])\n",
    "def ssr_p0_map(G):\n",
    "    return ssr_mul(G, ssr_inverse(ssr_r0_map(G)))\n",
    "def ssr_p0_map_param(G):\n",
    "    Y = ssr_p0_map(G)\n",
    "    return matrix([[Y.op(1), Y.op(2), Y.op(3), Y.op(4)]])\n",
    "def ssr_s0_map(*args):\n",
    "    if len(args)==1:\n",
    "        if type(args[0]) is list:\n",
    "            return matrix([[0, args[0][0], args[0][1], args[0][2], args[0][3]]])\n",
    "        elif type(args[0]) is cginac.matrix:\n",
    "            return matrix([[0, args[0].op(0), args[0].op(1), args[0].op(2), args[0].op(3)]])\n",
    "    elif len(args)==3:\n",
    "        return matrix([[0, args[0], args[1], args[2], 1]])\n",
    "    elif len(args)==4:\n",
    "        return matrix([[0, args[0], args[1], args[2], args[3]]])\n",
    "    else:\n",
    "        print(\"Do not know how to handle this number of parameters\")"
   ]
  },
  {
   "cell_type": "markdown",
   "metadata": {
    "collapsed": false
   },
   "source": [
    "*Exercise*. Print the maps  and check the compatibility."
   ]
  },
  {
   "cell_type": "code",
   "execution_count": null,
   "metadata": {
    "autoscroll": false,
    "collapsed": false,
    "ein.hycell": false,
    "ein.tags": "worksheet-0",
    "slideshow": {
     "slide_type": "-"
    }
   },
   "outputs": [],
   "source": [
    "display(Latex(f'p-map: $p({G})={ssr_p0_map(G)}$'))\n",
    "display(Latex(f'r-map: $r({G})={ssr_r0_map(G)}$'))\n",
    "display(Latex(f's-map: $s({x},{y},{b},{r})={ssr_s0_map([x,y,b,r])}$'))\n",
    "display(bool_highlighted(f's-map is p-map inverse: $x=p(s(x)): {evalm(matrix([[x,y,b,r]])-ssr_p0_map_param(ssr_s0_map([x,y,b,r]))).is_zero()}$'))\n",
    "bool_highlighted(f'Maps agree: ${bool(evalm(G - ssr_mul(ssr_p0_map(G), ssr_r0_map(G)))==0)}$')"
   ]
  },
  {
   "cell_type": "markdown",
   "metadata": {
    "collapsed": false,
    "ein.tags": "worksheet-0",
    "slideshow": {
     "slide_type": "-"
    }
   },
   "source": [
    "The action of the SSR group on the $\\mathbb{R}^4$ from the centre."
   ]
  },
  {
   "cell_type": "code",
   "execution_count": null,
   "metadata": {
    "autoscroll": false,
    "collapsed": false,
    "ein.hycell": false,
    "ein.tags": "worksheet-0",
    "slideshow": {
     "slide_type": "-"
    }
   },
   "outputs": [],
   "source": [
    "display(bool_highlighted(\"half-Action: $%s$\" % ssr_p0_map_param(ssr_mul(G0, ssr_s0_map(x1,y1,b1,1)))))\n",
    "display(bool_highlighted(\"Action: $%s$\" % ssr_p0_map_param(ssr_mul(ssr_inverse(G0), ssr_s0_map(x1,y1,b1,1)))))\n",
    "bool_highlighted(\"Char: $%s$\" % ssr_r0_map(ssr_mul(ssr_inverse(G0), ssr_s0_map(x1,y1,b1,1))))"
   ]
  },
  {
   "cell_type": "markdown",
   "metadata": {
    "collapsed": false
   },
   "source": [
    "[Back to ToC](#ToC)"
   ]
  },
  {
   "cell_type": "markdown",
   "metadata": {
    "collapsed": false
   },
   "source": [
    "<a id=\"indeycedRepresentations\"></a>\n",
    "## Induced representations of the SSR group\n",
    "\n",
    "For the above two subgroups (the centre and the maximal abelian) we write down the induced representations."
   ]
  },
  {
   "cell_type": "markdown",
   "metadata": {
    "collapsed": false,
    "ein.tags": "worksheet-0",
    "slideshow": {
     "slide_type": "-"
    }
   },
   "source": [
    "<a id=\"definitionFunctions\"></a>\n",
    "### Definition of the symbolic functions\n",
    "\n",
    "First we need define generic functions `f1`,...,`f6` of several variables to test properties of representations."
   ]
  },
  {
   "cell_type": "code",
   "execution_count": null,
   "metadata": {
    "autoscroll": false,
    "collapsed": false,
    "ein.hycell": false,
    "ein.tags": "worksheet-0",
    "slideshow": {
     "slide_type": "-"
    }
   },
   "outputs": [],
   "source": [
    "f1_serial = function.register_new(\"f1\", 1, \"f_1\")\n",
    "\n",
    "def f1(param):\n",
    "    return function(f1_serial, param)\n",
    "\n",
    "f1p_serial = function.register_new(\"f1p\", 1, \"f_{1p}\")\n",
    "\n",
    "def f1p(param):\n",
    "    return function(f1p_serial, param)\n",
    "\n",
    "f2_serial = function.register_new(\"f2\", 2, \"f_2\")\n",
    "\n",
    "def f2(param1, param2):\n",
    "    return function(f2_serial, param1, param2)\n",
    "\n",
    "f2p_serial = function.register_new(\"f2p\", 2, \"f_{2p}\")\n",
    "\n",
    "def f2p(param1, param2):\n",
    "    return function(f2p_serial, param1, param2)\n",
    "\n",
    "f3_serial = function.register_new(\"f3\", 3, \"f_3\")\n",
    "\n",
    "def f3(param1, param2, param3):\n",
    "    return function(f3_serial, param1, param2, param3)\n",
    "\n",
    "f4_serial = function.register_new(\"f4\", 4, \"f_4\")\n",
    "\n",
    "def f4(*args):\n",
    "    if len(args)==1:\n",
    "        M = args[0]\n",
    "        return function(f4_serial, M.op(0), M.op(1), M.op(2), M.op(3))\n",
    "    elif len(args)==4:\n",
    "        return function(f4_serial, args[0], args[1], args[2], args[3])\n",
    "    else:\n",
    "        print(\"Wrong number of argumentsfor f4\")\n",
    "\n",
    "f5_serial = function.register_new(\"f5\", 5, \"f_5\")\n",
    "\n",
    "def f5(param1, param2, param3, param4, param5):\n",
    "    return function(f5_serial, param1, param2, param3, param4, param5)\n",
    "\n",
    "f6_serial = function.register_new(\"f6\", 6, \"f_6\")\n",
    "\n",
    "def f6(param1, param2, param3, param4, param5, param6):\n",
    "    return function(f6_serial, param1, param2, param3, param4, param5, param6)"
   ]
  },
  {
   "cell_type": "markdown",
   "metadata": {
    "collapsed": false
   },
   "source": [
    "[Back to ToC](#ToC)"
   ]
  },
  {
   "cell_type": "markdown",
   "metadata": {
    "collapsed": false,
    "ein.tags": "worksheet-0",
    "slideshow": {
     "slide_type": "-"
    }
   },
   "source": [
    "<a id=\"inductionCentre\"></a>\n",
    "### Representations of the SSR group induced from the centre\n",
    "\n",
    "Based on the previous construction of homogeneous space we define the representation."
   ]
  },
  {
   "cell_type": "code",
   "execution_count": null,
   "metadata": {
    "autoscroll": false,
    "collapsed": false,
    "ein.hycell": false,
    "ein.tags": "worksheet-0",
    "slideshow": {
     "slide_type": "-"
    }
   },
   "outputs": [],
   "source": [
    "def rho0(f, G1, derived = Left_action, g=matrix([[x,y,b,r]])):\n",
    "    # The ation is either on the left  (derived=True) or on the right (derived=False)\n",
    "    if derived:\n",
    "        G2 = ssr_mul(ssr_inverse(G1), ssr_s0_map(g))\n",
    "    else:\n",
    "        G2 = ssr_mul(ssr_s0_map(g), G1)\n",
    "\n",
    "    return exp(-2*Pi*I*h*G2.op(0)) \\\n",
    "    * f.subs({g.op(0) : G2.op(1), g.op(1) : G2.op(2), g.op(2) : G2.op(3), g.op(3) : G2.op(4)})"
   ]
  },
  {
   "cell_type": "markdown",
   "metadata": {
    "collapsed": false,
    "ein.tags": "worksheet-0",
    "slideshow": {
     "slide_type": "-"
    }
   },
   "source": [
    "Print the expression of the representation."
   ]
  },
  {
   "cell_type": "code",
   "execution_count": null,
   "metadata": {
    "autoscroll": false,
    "collapsed": false,
    "ein.hycell": false,
    "ein.tags": "worksheet-0",
    "slideshow": {
     "slide_type": "-"
    }
   },
   "outputs": [],
   "source": [
    "display(Latex(\"The representation: $%s$\" % rho0(f4(x1, y1, b1, r1), G, Left_action, matrix([[x1, y1, b1, r1]]))))\n",
    "Latex(\"The right action: $%s$\" % rho0(f4(x, y, b, r), G1, Right_action))"
   ]
  },
  {
   "cell_type": "markdown",
   "metadata": {
    "collapsed": false,
    "ein.tags": "worksheet-0",
    "slideshow": {
     "slide_type": "-"
    }
   },
   "source": [
    "*Exercise*. Check the associativity (the group homomorphism) of the right action."
   ]
  },
  {
   "cell_type": "code",
   "execution_count": null,
   "metadata": {
    "autoscroll": false,
    "collapsed": false,
    "ein.hycell": false,
    "ein.tags": "worksheet-0",
    "slideshow": {
     "slide_type": "-"
    }
   },
   "outputs": [],
   "source": [
    "Answer = (rho0(rho0(f4(x, y, b, r), G1, Right_action), G2, Right_action)/rho0(f4(x, y, b, r), ssr_mul(G2,G1), Right_action))\n",
    "Answer = apply_laws(Answer)\n",
    "bool_highlighted(f'Group homomorphism/associativity of the right action: ${(Answer-1).is_zero()}$')"
   ]
  },
  {
   "cell_type": "markdown",
   "metadata": {
    "collapsed": false,
    "ein.tags": "worksheet-0",
    "slideshow": {
     "slide_type": "-"
    }
   },
   "source": [
    "*Exercise*. Check the associativity (the group homomorphism) the representation."
   ]
  },
  {
   "cell_type": "code",
   "execution_count": null,
   "metadata": {
    "autoscroll": false,
    "collapsed": false,
    "ein.hycell": false,
    "ein.tags": "worksheet-0",
    "slideshow": {
     "slide_type": "-"
    }
   },
   "outputs": [],
   "source": [
    "Answer = (rho0(rho0(f4(x, y, b, r), G1), G2)/rho0(f4(x, y, b, r), ssr_mul(G2,G1)))\n",
    "Answer = apply_laws(Answer)\n",
    "bool_highlighted(f'Group homomorphism/associativity of the representation: ${(Answer-1).is_zero()}$')"
   ]
  },
  {
   "cell_type": "markdown",
   "metadata": {
    "collapsed": false
   },
   "source": [
    "[Back to ToC](#ToC)"
   ]
  },
  {
   "cell_type": "markdown",
   "metadata": {
    "collapsed": false,
    "ein.tags": "worksheet-0",
    "slideshow": {
     "slide_type": "-"
    }
   },
   "source": [
    "<a id=\"infinitesimalCentre\"></a>\n",
    "#### Infinitesimal (derived) representations of the SSR group induced from the centre\n",
    "\n",
    "We define the routines for calculate infinitesimal derived representations as well"
   ]
  },
  {
   "cell_type": "code",
   "execution_count": null,
   "metadata": {
    "autoscroll": false,
    "collapsed": false,
    "ein.hycell": false,
    "ein.tags": "worksheet-0",
    "slideshow": {
     "slide_type": "-"
    }
   },
   "outputs": [],
   "source": [
    "def der(Rho, f, i, Derived=True, g = 0): \n",
    "    t = realsymbol(\"t\")\n",
    "    T = [0, 0, 0, 0, 1]\n",
    "    if i<4:\n",
    "        T[i]=t\n",
    "    else:\n",
    "        T[4] = exp(t)\n",
    "\n",
    "    L=[]\n",
    "    L.append(T)\n",
    "    T = matrix(L)\n",
    "    if (g==0):\n",
    "        return Rho(f, T, Derived).diff(t).subs({t : 0}).normal()\n",
    "    else:\n",
    "        return Rho(f, T, Derived, g).diff(t).subs({t : 0}).normal()        "
   ]
  },
  {
   "cell_type": "markdown",
   "metadata": {
    "collapsed": false,
    "ein.tags": "worksheet-0",
    "slideshow": {
     "slide_type": "-"
    }
   },
   "source": [
    "The procedure to find first order differential operator of a function"
   ]
  },
  {
   "cell_type": "code",
   "execution_count": null,
   "metadata": {
    "autoscroll": false,
    "collapsed": false,
    "ein.hycell": false,
    "ein.tags": "worksheet-0",
    "slideshow": {
     "slide_type": "-"
    }
   },
   "outputs": [],
   "source": [
    "def first_order_vec(Rho, Func, Coef, Derived = Left_action):\n",
    "    vect = []\n",
    "    if type(Coef) is list:\n",
    "        vect = Coef\n",
    "    else:\n",
    "        for i in range(Coef.nops()):\n",
    "            vect.append(Coef.op(i))\n",
    "    result = 0\n",
    "    for i in range(len(vect)):\n",
    "        result = result + vect[i]*der(Rho, Func, i, Derived)\n",
    "    return result"
   ]
  },
  {
   "cell_type": "markdown",
   "metadata": {
    "collapsed": false,
    "ein.tags": "worksheet-0",
    "slideshow": {
     "slide_type": "-"
    }
   },
   "source": [
    "This is the procedure to check commutator relations between vector fields."
   ]
  },
  {
   "cell_type": "code",
   "execution_count": null,
   "metadata": {
    "autoscroll": false,
    "collapsed": false,
    "ein.hycell": false,
    "ein.tags": "worksheet-0",
    "slideshow": {
     "slide_type": "-"
    }
   },
   "outputs": [],
   "source": [
    "def check_commutator(Rho, Func, i, j, Coef, Derived = Left_action):\n",
    "    Val = (der(Rho, der(Rho, Func, j, Derived), i, Derived)\\\n",
    "        - der(Rho, der(Rho, Func, i, Derived), j, Derived)\\\n",
    "        - first_order_vec(Rho, Func, Coef, Derived)).normal()\n",
    "    return Val"
   ]
  },
  {
   "cell_type": "markdown",
   "metadata": {
    "collapsed": false,
    "ein.tags": "worksheet-0",
    "slideshow": {
     "slide_type": "-"
    }
   },
   "source": [
    "Here is the table of non-zero commutators to check:"
   ]
  },
  {
   "cell_type": "code",
   "execution_count": null,
   "metadata": {
    "autoscroll": false,
    "collapsed": false,
    "ein.hycell": false,
    "ein.tags": "worksheet-0",
    "slideshow": {
     "slide_type": "-"
    }
   },
   "outputs": [],
   "source": [
    "Commutators = [ [1, 2, [1,0,0,0,0] ],\\\n",
    "                [4, 1, [0,1,0,0,0] ],\\\n",
    "                [4, 2, [0,0,-1,0,0] ],\\\n",
    "                [4, 3, [0,0,0,2,0] ],\\\n",
    "                [3, 1, [0,0,0,0,0] ],\\\n",
    "                [3, 2, [0,-1,0,0,0] ] ]\n",
    "\n",
    "def check_all_commutator(Rho, Func, Derived = Left_action):\n",
    "    title = [\"Checking Derived representation\", \"Checking Lie derivatives\"]\n",
    "    for j in range(2):\n",
    "        print(title[j])\n",
    "        for i in range(len(Commutators)):\n",
    "            display(bool_highlighted(\"$\\qquad$ Check $[%s,%s]$ is correct: $%s$\" % (fields[Commutators[i][0]], fields[Commutators[i][1]],\\\n",
    "                                                                              check_commutator(Rho, Func, Commutators[i][0], Commutators[i][1], Commutators[i][2], j==0).is_zero())))"
   ]
  },
  {
   "cell_type": "markdown",
   "metadata": {
    "collapsed": false,
    "ein.tags": "worksheet-0",
    "slideshow": {
     "slide_type": "-"
    }
   },
   "source": [
    "Output of the derived representations and Lie derivatives:"
   ]
  },
  {
   "cell_type": "code",
   "execution_count": null,
   "metadata": {
    "autoscroll": false,
    "collapsed": false,
    "ein.hycell": false,
    "ein.tags": "worksheet-0",
    "slideshow": {
     "slide_type": "-"
    }
   },
   "outputs": [],
   "source": [
    "print(\"Derived representations:\")\n",
    "for i in range(5):\n",
    "    display(Latex(f\"$\\qquad$ d[{fields[i]}] = ${der(rho0, f4(x, y, b, r), i)}$\"))\n",
    "\n",
    "print(\"Lie derivatives:\")\n",
    "for i in range(5):\n",
    "    display(Latex(f\"$\\qquad$ L[{fields[i]}] = ${der(rho0, f4(x, y, b, r), i, Right_action)}$\"))"
   ]
  },
  {
   "cell_type": "markdown",
   "metadata": {
    "collapsed": false,
    "ein.tags": "worksheet-0",
    "slideshow": {
     "slide_type": "-"
    }
   },
   "source": [
    "We are checking all commutators for these vector fields:"
   ]
  },
  {
   "cell_type": "code",
   "execution_count": null,
   "metadata": {
    "autoscroll": false,
    "collapsed": false,
    "ein.hycell": false,
    "ein.tags": "worksheet-0",
    "slideshow": {
     "slide_type": "-"
    }
   },
   "outputs": [],
   "source": [
    "check_all_commutator(rho0, f4(x,y,b,r))"
   ]
  },
  {
   "cell_type": "markdown",
   "metadata": {
    "collapsed": false
   },
   "source": [
    "[Back to ToC](#ToC)"
   ]
  },
  {
   "cell_type": "markdown",
   "metadata": {
    "collapsed": false,
    "ein.tags": "worksheet-0",
    "slideshow": {
     "slide_type": "-"
    }
   },
   "source": [
    "<a id=\"inducedMaximal\"></a>\n",
    "### The representation induced from the maximal abelian subgroup \n",
    "\n",
    "This representation acts on the real line:"
   ]
  },
  {
   "cell_type": "code",
   "execution_count": null,
   "metadata": {
    "autoscroll": false,
    "collapsed": false,
    "ein.hycell": false,
    "ein.tags": "worksheet-0",
    "slideshow": {
     "slide_type": "-"
    }
   },
   "outputs": [],
   "source": [
    "def rho(f, G1, derived = Left_action, g=u):\n",
    "    # The ation is either on the left (derived=True) or on the right (derived=False)\n",
    "    if derived:\n",
    "        G2 = ssr_mul(ssr_inverse(G1), ssr_s_map(g))\n",
    "    else:\n",
    "        G2 = ssr_mul(ssr_s_map(g), G1)\n",
    " \n",
    "    return exp(-2*Pi*I*h*ssr_r_map(G2).op(0)) \\\n",
    "    * pow(G2.op(4),  - numeric(1,2)) * f.subs({g : ssr_p_map_param(G2)})"
   ]
  },
  {
   "cell_type": "markdown",
   "metadata": {
    "collapsed": false
   },
   "source": [
    "Print the formula for the representation"
   ]
  },
  {
   "cell_type": "code",
   "execution_count": null,
   "metadata": {
    "autoscroll": false,
    "collapsed": false,
    "ein.hycell": false,
    "ein.tags": "worksheet-0",
    "slideshow": {
     "slide_type": "-"
    }
   },
   "outputs": [],
   "source": [
    "Latex(\"The representation is: $%s$\" % rho(f1(y1), G, True, y1))"
   ]
  },
  {
   "cell_type": "markdown",
   "metadata": {
    "collapsed": false,
    "ein.tags": "worksheet-0",
    "slideshow": {
     "slide_type": "-"
    }
   },
   "source": [
    "Check associativity (group homomorphism) for the right action, this shall fail."
   ]
  },
  {
   "cell_type": "code",
   "execution_count": null,
   "metadata": {
    "collapsed": false
   },
   "outputs": [],
   "source": [
    "Answer = rho(rho(f1(u), G1, Right_action), G2, Right_action)/rho(f1(u), ssr_mul(G2,G1), Right_action)\n",
    "Answer = apply_laws(Answer)\n",
    "Latex(f'Right action associativity fails: ${Answer}$')"
   ]
  },
  {
   "cell_type": "markdown",
   "metadata": {
    "collapsed": false
   },
   "source": [
    "Check associativity (group homomorphism) for the representation."
   ]
  },
  {
   "cell_type": "code",
   "execution_count": null,
   "metadata": {
    "autoscroll": false,
    "collapsed": false,
    "ein.hycell": false,
    "ein.tags": "worksheet-0",
    "slideshow": {
     "slide_type": "-"
    }
   },
   "outputs": [],
   "source": [
    "Answer = rho(rho(f1(u), G1, Left_action), G2, Left_action)/rho(f1(u), ssr_mul(G2,G1), Left_action)\n",
    "Answer = apply_laws(Answer)\n",
    "bool_highlighted(f'Left action associativity holds: ${(Answer-1).is_zero()}$')\n"
   ]
  },
  {
   "cell_type": "code",
   "execution_count": null,
   "metadata": {
    "autoscroll": false,
    "collapsed": false,
    "ein.hycell": false,
    "ein.tags": "worksheet-0",
    "slideshow": {
     "slide_type": "-"
    }
   },
   "outputs": [],
   "source": [
    "print(\"Derived representation\")\n",
    "for i in range(5):\n",
    "    display(bool_highlighted(f\"$\\qquad$ d[{fields[i]}] = ${der(rho, f1(u), i)}$\"))\n",
    "\n",
    "print(\"Lie deribvatioves\")\n",
    "for i in range(5):\n",
    "    display(bool_highlighted(f\"$\\qquad$ L[{fields[i]}] = ${der(rho, f1(u), i, Right_action)}$\"))    "
   ]
  },
  {
   "cell_type": "markdown",
   "metadata": {
    "collapsed": false,
    "ein.tags": "worksheet-0",
    "slideshow": {
     "slide_type": "-"
    }
   },
   "source": [
    "We check commutators of those field, for the Lie derivative errors can\n",
    "be ignored."
   ]
  },
  {
   "cell_type": "code",
   "execution_count": null,
   "metadata": {
    "autoscroll": false,
    "collapsed": false,
    "ein.hycell": false,
    "ein.tags": "worksheet-0",
    "slideshow": {
     "slide_type": "-"
    }
   },
   "outputs": [],
   "source": [
    "check_all_commutator(rho, f1(u))"
   ]
  },
  {
   "cell_type": "markdown",
   "metadata": {
    "collapsed": false
   },
   "source": [
    "[Back to ToC](#ToC)"
   ]
  },
  {
   "cell_type": "markdown",
   "metadata": {
    "collapsed": false
   },
   "source": [
    "<a id=\"coherentStates\"></a>\n",
    "## Coherent states\n",
    "\n",
    "We are studying the suitable coherent state transforms for the above representation. "
   ]
  },
  {
   "cell_type": "markdown",
   "metadata": {
    "collapsed": false,
    "ein.tags": "worksheet-0",
    "slideshow": {
     "slide_type": "-"
    }
   },
   "source": [
    "<a id=\"identifyingVacuum\"></a>\n",
    "### Identifying the vacuum vectors\n",
    "\n",
    "We find the differential equation for vacuum. To construct useful coherent states for the induced covariant transform a vacuum vector needs to be satisfy a couple of conditions, see [Ref.2](#refKisil15), [Ref.3](#refKisil17):\n",
    "\n",
    "+ be joint eigenfunction for all representation operators $\\rho(h)$ with $h$ in some subgroup $H$ (the Perelomov's condition).\n",
    "+ be a null solution to certain annihilation operators (analyticity condition) [Ref.2](#refKisil15).\n",
    "\n",
    "We are searching for all vacuums satisfying to both conditions."
   ]
  },
  {
   "cell_type": "markdown",
   "metadata": {
    "collapsed": false,
    "ein.tags": "worksheet-0",
    "slideshow": {
     "slide_type": "-"
    }
   },
   "source": [
    "The following parameters will be used to simplify expressions related\n",
    "to vacuum vector."
   ]
  },
  {
   "cell_type": "code",
   "execution_count": null,
   "metadata": {
    "autoscroll": false,
    "collapsed": false,
    "ein.hycell": false,
    "ein.tags": "worksheet-0",
    "slideshow": {
     "slide_type": "-"
    }
   },
   "outputs": [],
   "source": [
    "Ex = realsymbol(\"Ex\", \"E_x\")\n",
    "Er = realsymbol(\"Er\", \"E_r\")\n",
    "Eb = realsymbol(\"Eb\", \"E_b\")\n",
    "sigma = realsymbol(\"sigma\")\n",
    "tau = realsymbol(\"tau\")\n",
    "E_vals = {Eb : sigma*Er, Ex : (Er*tau-sigma)/2}"
   ]
  },
  {
   "cell_type": "markdown",
   "metadata": {
    "collapsed": false,
    "ein.tags": "worksheet-0",
    "slideshow": {
     "slide_type": "-"
    }
   },
   "source": [
    "Here is the complex operator annihilating the vacuum vector:"
   ]
  },
  {
   "cell_type": "code",
   "execution_count": null,
   "metadata": {
    "autoscroll": false,
    "collapsed": false,
    "ein.hycell": false,
    "ein.tags": "worksheet-0",
    "slideshow": {
     "slide_type": "-"
    }
   },
   "outputs": [],
   "source": [
    "## A direct input\n",
    "#Annihilator = ((Ex*der(rho, f1(u), 1) + I*der(rho, f1(u), 2) + Er*der(rho, f1(u), 4) + I*Eb*der(rho, f1(u), 3))).normal().collect([f1(u),diff(f1(u),u)])\n",
    "## Using the routines\n",
    "Operator = matrix([[0,Ex, I, I*Eb, Er]])\n",
    "Annihilator = first_order_vec(rho, f1(u), Operator).normal().collect([f1(u),diff(f1(u),u)])\n",
    "display(bool_highlighted(f'Annihilator of vacuum: ${Annihilator}$'))\n",
    "Latex(f'Annihilator of vacuum substituted: ${Annihilator.subs(E_vals).normal().collect([f1(u),diff(f1(u),u)])}$')"
   ]
  },
  {
   "cell_type": "markdown",
   "metadata": {
    "collapsed": false,
    "ein.tags": "worksheet-0",
    "slideshow": {
     "slide_type": "-"
    }
   },
   "source": [
    "We define two vacuum vectors, they are correspond to cases `Er=0` (for `V0`) and non-zero `Er` (for `V1`):"
   ]
  },
  {
   "cell_type": "code",
   "execution_count": null,
   "metadata": {
    "autoscroll": false,
    "collapsed": false,
    "ein.hycell": false,
    "ein.tags": "worksheet-0",
    "slideshow": {
     "slide_type": "-"
    }
   },
   "outputs": [],
   "source": [
    "a = realsymbol (\"a\")\n",
    "V1 = exp(-Pi*I*h*(2*Ex*Er+Eb)/Er/Er*u-Pi*h*Eb/Er/2*pow(u,2)) \\\n",
    "    * pow(Er*u-I, -numeric(1,2)+Pi*h/pow(Er,3)*(2*Ex*Er+Eb))\n",
    "#    * pow(Er*y-I, a)\n",
    "V0 = exp(-Pi*h*I*Eb/3*pow(u,3) + Pi*h*Ex*pow(u,2) )\n",
    "\n",
    "display(Latex(f'Vacuum: ${V1}$'))\n",
    "display(Latex(f'Vacuum substituted: ${V1.subs(E_vals).normal()}$'))\n",
    "bool_highlighted(f'${V0}$')"
   ]
  },
  {
   "cell_type": "markdown",
   "metadata": {
    "collapsed": false,
    "ein.tags": "worksheet-0",
    "slideshow": {
     "slide_type": "-"
    }
   },
   "source": [
    "Check that they are solutions of the derived representations:"
   ]
  },
  {
   "cell_type": "code",
   "execution_count": null,
   "metadata": {
    "autoscroll": false,
    "collapsed": false,
    "ein.hycell": false,
    "ein.tags": "worksheet-0",
    "slideshow": {
     "slide_type": "-"
    }
   },
   "outputs": [],
   "source": [
    "bool_highlighted(f'V0 is annihilated by the Operator: ${first_order_vec(rho, V0, Operator.subs({Er : 0})).normal().is_zero()}$')"
   ]
  },
  {
   "cell_type": "code",
   "execution_count": null,
   "metadata": {
    "autoscroll": false,
    "collapsed": false,
    "ein.hycell": false,
    "ein.tags": "worksheet-0",
    "slideshow": {
     "slide_type": "-"
    }
   },
   "outputs": [],
   "source": [
    "bool_highlighted(f'V1 is annihilated by the Operator: ${first_order_vec(rho, V1, Operator).normal().is_zero()}$')"
   ]
  },
  {
   "cell_type": "markdown",
   "metadata": {
    "collapsed": false
   },
   "source": [
    "[Back to ToC](#ToC)"
   ]
  },
  {
   "cell_type": "markdown",
   "metadata": {
    "collapsed": false,
    "ein.tags": "worksheet-0",
    "slideshow": {
     "slide_type": "-"
    }
   },
   "source": [
    "<a id=\"transmutationErNonZero\"></a>\n",
    "### Case of non-zero derivative in R direction (`Er` is not zero)\n",
    "\n",
    "We can consider two different cases for the above two different vacuum vectors depending on either `Er` is zero or not.."
   ]
  },
  {
   "cell_type": "markdown",
   "metadata": {
    "collapsed": false,
    "ein.tags": "worksheet-0",
    "slideshow": {
     "slide_type": "-"
    }
   },
   "source": [
    "We calculate the coherent state through the group action on the vacuums:"
   ]
  },
  {
   "cell_type": "code",
   "execution_count": null,
   "metadata": {
    "autoscroll": false,
    "collapsed": false,
    "ein.hycell": false,
    "ein.tags": "worksheet-0",
    "slideshow": {
     "slide_type": "-"
    }
   },
   "outputs": [],
   "source": [
    "display(Latex(\"Coherent states for $E_r\\\\neq 0$: $%s$\" % \\\n",
    "                 apply_laws(rho(V1, G, Left_action).subs(E_vals))))\n",
    "display(Latex(\"Coherent states for $E_r=0$: $%s$\" % \\\n",
    "         apply_laws(rho(V0, G, Left_action).subs({Er : 0}))))\n",
    "Latex(\"Coherent states for $E_r=0$ with substitution quadratic: $%s$\" % \\\n",
    "         apply_laws(rho(V0, G, Left_action).subs({Er : 0, Eb : 0})))"
   ]
  },
  {
   "cell_type": "markdown",
   "metadata": {
    "collapsed": false,
    "ein.tags": "worksheet-0",
    "slideshow": {
     "slide_type": "-"
    }
   },
   "source": [
    "It shows that without a loss of generality we can put $\\sigma = 1$ and\n",
    "$\\tau = 0$, or $E_b = E_r$ and $E_x = -1/2$."
   ]
  },
  {
   "cell_type": "code",
   "execution_count": null,
   "metadata": {
    "autoscroll": false,
    "collapsed": false,
    "ein.hycell": false,
    "ein.tags": "worksheet-0",
    "slideshow": {
     "slide_type": "-"
    }
   },
   "outputs": [],
   "source": [
    "E_narrow = {Ex : -numeric(1,2), Eb : Er}\n",
    "E_strict = {Ex : -numeric(1,2), Eb : 1, Er : 1}\n",
    "Kernel = apply_laws(rho(V1.subs(E_strict), matrix([[0,x,y,b,r]]), Left_action))\n",
    "Latex(\"The kernel: $%s$\" % Kernel)"
   ]
  },
  {
   "cell_type": "markdown",
   "metadata": {
    "collapsed": false,
    "ein.tags": "worksheet-0",
    "slideshow": {
     "slide_type": "-"
    }
   },
   "source": [
    "This is the function which need to be integrated in $u$ to obtain the\n",
    "reproducing kernel of the image space."
   ]
  },
  {
   "cell_type": "code",
   "execution_count": null,
   "metadata": {
    "autoscroll": false,
    "collapsed": false,
    "ein.hycell": false,
    "ein.tags": "worksheet-0",
    "slideshow": {
     "slide_type": "-"
    }
   },
   "outputs": [],
   "source": [
    "Repro_pre = apply_laws(V1.subs(E_strict)*conjugate(Kernel))\n",
    "Latex(\"The pre-reproducing kernel: $%s$\" % Repro_pre)"
   ]
  },
  {
   "cell_type": "markdown",
   "metadata": {
    "collapsed": false,
    "ein.tags": "worksheet-0",
    "slideshow": {
     "slide_type": "-"
    }
   },
   "source": [
    "The image space shall be annihilated by the operator:"
   ]
  },
  {
   "cell_type": "code",
   "execution_count": null,
   "metadata": {
    "autoscroll": false,
    "collapsed": false,
    "ein.hycell": false,
    "ein.tags": "worksheet-0",
    "slideshow": {
     "slide_type": "-"
    }
   },
   "outputs": [],
   "source": [
    "Image_annihilator = first_order_vec(rho0, f4(x, y, b, r), conjugate(Operator)).normal() \\\n",
    "    .collect([f4(x, y, b, r), diff(f4(x, y, b, r),x), diff(f4(x, y, b, r),y), diff(f4(x, y, b, r),b), diff(f4(x, y, b, r),r)])\n",
    "display(Latex(f'Annihilator of the image space: ${Image_annihilator}$'))\n",
    "Latex(f'Annihilator of the image space substituted: ${Image_annihilator.subs(E_vals).normal().collect([f4(x, y, b, r), diff(f4(x, y, b, r),x), diff(f4(x, y, b, r),y), diff(f4(x, y, b, r),b), diff(f4(x, y, b, r),r)])}$')"
   ]
  },
  {
   "cell_type": "markdown",
   "metadata": {
    "collapsed": false,
    "ein.tags": "worksheet-0",
    "slideshow": {
     "slide_type": "-"
    }
   },
   "source": [
    "The restricted value is:"
   ]
  },
  {
   "cell_type": "code",
   "execution_count": null,
   "metadata": {
    "autoscroll": false,
    "collapsed": false,
    "ein.hycell": false,
    "ein.tags": "worksheet-0",
    "slideshow": {
     "slide_type": "-"
    }
   },
   "outputs": [],
   "source": [
    "display(Latex(f'Annihilator of the image space narrow: ${Image_annihilator.subs(E_narrow).normal().collect([f4(x, y, b, r), diff(f4(x, y, b, r),x), diff(f4(x, y, b, r),y), diff(f4(x, y, b, r),b), diff(f4(x, y, b, r),r)])}$'))\n",
    "Latex(f'Annihilator of the image space strict: ${Image_annihilator.subs(E_strict).normal().collect([f4(x, y, b, r), diff(f4(x, y, b, r),x), diff(f4(x, y, b, r),y), diff(f4(x, y, b, r),b), diff(f4(x, y, b, r),r)])}$')"
   ]
  },
  {
   "cell_type": "markdown",
   "metadata": {
    "collapsed": false,
    "ein.tags": "worksheet-0",
    "slideshow": {
     "slide_type": "-"
    }
   },
   "source": [
    "Check if the kernel is annihilated by operator:"
   ]
  },
  {
   "cell_type": "code",
   "execution_count": null,
   "metadata": {
    "autoscroll": false,
    "collapsed": false,
    "ein.hycell": false,
    "ein.tags": "worksheet-0",
    "slideshow": {
     "slide_type": "-"
    }
   },
   "outputs": [],
   "source": [
    "MyKernel = Kernel.normal()\n",
    "Answer = (first_order_vec(rho0, MyKernel, Operator.subs(E_strict), Right_action)/MyKernel*sqrt(r)).expand().normal()\n",
    "display(bool_highlighted(f'Kernel is analytic: ${Answer.is_zero()}$'))\n",
    "print_plain('Kernel is analytic: ', Answer)"
   ]
  },
  {
   "cell_type": "markdown",
   "metadata": {
    "collapsed": false
   },
   "source": [
    "[Back to ToC](#ToC)"
   ]
  },
  {
   "cell_type": "markdown",
   "metadata": {
    "collapsed": false,
    "ein.tags": "worksheet-0",
    "slideshow": {
     "slide_type": "-"
    }
   },
   "source": [
    "<a id=\"transmutationErZero\"></a>\n",
    "### The case of vanishing derivative in R direction (`Er = 0`)\n",
    "\n",
    "For our purposes it is enough to consider the simplest possible case."
   ]
  },
  {
   "cell_type": "code",
   "execution_count": null,
   "metadata": {
    "autoscroll": false,
    "collapsed": false,
    "ein.hycell": false,
    "ein.tags": "worksheet-0",
    "slideshow": {
     "slide_type": "-"
    }
   },
   "outputs": [],
   "source": [
    "E_simple = {Ex : -1, Eb : 0, Er : 0}\n",
    "Kernel = conjugate(rho(V0.subs(E_simple), matrix([[0,x,y,b,r]]), True))\\\n",
    "         .subs(exponent_laws).normal()\n",
    "Latex(\"The kernel: $%s$\" % Kernel)"
   ]
  },
  {
   "cell_type": "markdown",
   "metadata": {
    "collapsed": false,
    "ein.tags": "worksheet-0",
    "slideshow": {
     "slide_type": "-"
    }
   },
   "source": [
    "Manually inserted kernel, shall be the same as calculated"
   ]
  },
  {
   "cell_type": "code",
   "execution_count": null,
   "metadata": {
    "autoscroll": false,
    "collapsed": false,
    "ein.hycell": false,
    "ein.tags": "worksheet-0",
    "slideshow": {
     "slide_type": "-"
    }
   },
   "outputs": [],
   "source": [
    "MyKernel = sqrt(r)*exp(-Pi*h*((r**2-I*b)*pow(u-y,2)+2*I*(u-y)*x))\n",
    "bool_highlighted(f'The manual kernel is correct: ${(apply_laws((Kernel/MyKernel).subs(E_simple))-1).is_zero()}$')"
   ]
  },
  {
   "cell_type": "markdown",
   "metadata": {
    "collapsed": false
   },
   "source": [
    "Manually type the kernel in the reduced form and check it correctness:"
   ]
  },
  {
   "cell_type": "code",
   "execution_count": null,
   "metadata": {
    "collapsed": false
   },
   "outputs": [],
   "source": [
    "#Denom1 = (sqrt(r)*pow(-I+r*(u-y), -numeric(1,2))).normal()\n",
    "MyKernel = (exp(Pi*h*(-(r**2+I*b)*pow(u-y,2)+2*I*(u-y)*x))*sqrt(r)).normal()\n",
    "Delta = apply_laws(conjugate(MyKernel)/Kernel, with_power_laws)\n",
    "MyKernel = (exp(Pi*h*(-(r**2-I*b)*pow(u-y,2)-2*I*(u-y)*x))*sqrt(r)).normal()\n",
    "bool_highlighted(f'Manual kernel is correct: ${(Delta-1).is_zero()}$')"
   ]
  },
  {
   "cell_type": "markdown",
   "metadata": {
    "collapsed": false
   },
   "source": [
    "We calculate the reproducing kernel $K=\\langle \\phi_{g_1},\n",
    "\\phi_{g_2}\\rangle = \\langle \\phi_{0}, \\phi_{g_1^{-1}g_2}\\rangle$. It\n",
    "is the shift on the group of the image of the vacuum $e^{-\\pi h u^2}$\n",
    ", which is the function $\\sqrt{\\frac{r}{b+i(r^2+1)}} \\exp(-\\pi h y^2)\n",
    "\\exp(-\\pi h (x-iy)/(r^2+1-ib))$. "
   ]
  },
  {
   "cell_type": "code",
   "execution_count": null,
   "metadata": {
    "collapsed": false
   },
   "outputs": [],
   "source": [
    "vacuum =  sqrt(r1/(b1+I*(r1**2+1))) * exp(-Pi * h * y1**2) * exp(-Pi * h * pow(x1-I*y1,2)/(r1**2+1-I*b1))\n",
    "#display(str(f'{apply_laws(rho0(vacuum, (matrix([[0,x,y,b,r]])), Left_action, matrix([[x1,y1,b1,r1]])).normal()).normal()}'))\n",
    "Latex(\"The kernel: $%s$\" % rho0(vacuum, (matrix([[0,x,y,b,r]])), Left_action, matrix([[x1,y1,b1,r1]])).normal())"
   ]
  },
  {
   "cell_type": "markdown",
   "metadata": {
    "collapsed": false
   },
   "source": [
    "[Back to ToC](#ToC)"
   ]
  },
  {
   "cell_type": "markdown",
   "metadata": {
    "collapsed": false
   },
   "source": [
    "<a id=\"CRannihilator\"></a>\n",
    "### Annihilating operators of Cauchy–Riemann type (first order)\n",
    "\n",
    "There is two pairs of complex coordinates which define a sort of analyticity. We call the respective operators of Cauchy–Riemann type."
   ]
  },
  {
   "cell_type": "markdown",
   "metadata": {
    "collapsed": false,
    "ein.tags": "worksheet-0",
    "slideshow": {
     "slide_type": "-"
    }
   },
   "source": [
    "<a id=\"CRphaseSpace\"></a>\n",
    "#### The phase-space pair\n",
    "\n",
    "We check that it satisfies the analyticity condition for the variable $z=x + (b+i r^2)y$.."
   ]
  },
  {
   "cell_type": "code",
   "execution_count": null,
   "metadata": {
    "autoscroll": false,
    "collapsed": false,
    "ein.hycell": false,
    "ein.tags": "worksheet-0",
    "slideshow": {
     "slide_type": "-"
    }
   },
   "outputs": [],
   "source": [
    "Answer = (first_order_vec(rho0, Kernel, conjugate(Operator.subs(E_simple)), Right_action)/MyKernel*sqrt(r)).expand().normal()\n",
    "bool_highlighted(f'Kernel satisfies the first analyticity condition: ${Answer.is_zero()}$')\n",
    "#Latex(f'Kernel satisfies the first analyticity condition: {Answer}')"
   ]
  },
  {
   "cell_type": "markdown",
   "metadata": {
    "collapsed": false,
    "ein.tags": "worksheet-0",
    "slideshow": {
     "slide_type": "-"
    }
   },
   "source": [
    "The form of the annihilated operator:"
   ]
  },
  {
   "cell_type": "code",
   "execution_count": null,
   "metadata": {
    "autoscroll": false,
    "collapsed": false,
    "ein.hycell": false,
    "ein.tags": "worksheet-0",
    "slideshow": {
     "slide_type": "-"
    }
   },
   "outputs": [],
   "source": [
    "def Cauchy_first(Func):\n",
    "    return -first_order_vec(rho0, Func, conjugate(Operator.subs(E_simple)), Right_action)\n",
    "\n",
    "Image_annihilator = Cauchy_first(f4(x, y, b, r)).normal().expand() \\\n",
    "    .collect([f4(x, y, b, r), diff(f4(x, y, b, r),x), diff(f4(x, y, b, r),y), diff(f4(x, y, b, r),b), diff(f4(x, y, b, r),r)])\n",
    "bool_highlighted(f'Annihilator of the image space strict: ${Image_annihilator}$')"
   ]
  },
  {
   "cell_type": "markdown",
   "metadata": {
    "collapsed": false
   },
   "source": [
    "For the better performance some basic expressions need to be stored in\n",
    "the normalised form."
   ]
  },
  {
   "cell_type": "code",
   "execution_count": null,
   "metadata": {
    "collapsed": false
   },
   "outputs": [],
   "source": [
    "zn = (x+(b+I*r**2)*y).normal()\n",
    "wn = (b+I*r**2).normal()"
   ]
  },
  {
   "cell_type": "markdown",
   "metadata": {
    "collapsed": false
   },
   "source": [
    "The generic solution of this equation:"
   ]
  },
  {
   "cell_type": "code",
   "execution_count": null,
   "metadata": {
    "collapsed": false
   },
   "outputs": [],
   "source": [
    "Generic_factor = (sqrt(r)*exp(-Pi*I*h*x*x/wn)).normal()\n",
    "Generic_first = Generic_factor*f2(zn, wn)\n",
    "Image_annihilator = Cauchy_first(Generic_first).normal()\n",
    "bool_highlighted(f'Annihilator of the image space phase-space pair: ${Image_annihilator.is_zero()}$')"
   ]
  },
  {
   "cell_type": "markdown",
   "metadata": {
    "collapsed": false
   },
   "source": [
    "[Back to ToC](#ToC)"
   ]
  },
  {
   "cell_type": "markdown",
   "metadata": {
    "collapsed": false,
    "ein.tags": "worksheet-0",
    "slideshow": {
     "slide_type": "-"
    }
   },
   "source": [
    "<a id=\"CRaffineGroup\"></a>\n",
    "#### Affine group analyticity\n",
    "\n",
    "The second pair of variables connected by the first-order relations:"
   ]
  },
  {
   "cell_type": "code",
   "execution_count": null,
   "metadata": {
    "autoscroll": false,
    "collapsed": false,
    "ein.hycell": false,
    "ein.tags": "worksheet-0",
    "slideshow": {
     "slide_type": "-"
    }
   },
   "outputs": [],
   "source": [
    "Answer = (first_order_vec(rho, V0.subs(E_simple), matrix([[I/h/Pi/4,0,0,2*I,1]]))).expand().normal()\n",
    "bool_highlighted(f'Vacuum is annihilated by the second operator: ${Answer.is_zero()}$')"
   ]
  },
  {
   "cell_type": "code",
   "execution_count": null,
   "metadata": {
    "autoscroll": false,
    "collapsed": false,
    "ein.hycell": false,
    "ein.tags": "worksheet-0",
    "slideshow": {
     "slide_type": "-"
    }
   },
   "outputs": [],
   "source": [
    "def Cauchy_second(Func):\n",
    "    return first_order_vec(rho0, Func, conjugate(matrix([[1/h/Pi/4,0,0,2,-I]])), Right_action)\n",
    "\n",
    "Answer = Cauchy_second(MyKernel).expand().normal()\n",
    "bool_highlighted(f'Kernel satisfies the second analyticity condition: ${Answer.is_zero()}$')"
   ]
  },
  {
   "cell_type": "markdown",
   "metadata": {
    "collapsed": false,
    "ein.tags": "worksheet-0",
    "slideshow": {
     "slide_type": "-"
    }
   },
   "source": [
    "This is the respective differential operator:"
   ]
  },
  {
   "cell_type": "code",
   "execution_count": null,
   "metadata": {
    "autoscroll": false,
    "collapsed": false,
    "ein.hycell": false,
    "ein.tags": "worksheet-0",
    "slideshow": {
     "slide_type": "-"
    }
   },
   "outputs": [],
   "source": [
    "Answer = Cauchy_second(f4(x,y,b,r)).expand().normal()\n",
    "Latex(f'Annihilator of the image space strict: ${Answer}$')"
   ]
  },
  {
   "cell_type": "markdown",
   "metadata": {
    "collapsed": false
   },
   "source": [
    "Check the generic solution of both analyticity conditions:"
   ]
  },
  {
   "cell_type": "code",
   "execution_count": null,
   "metadata": {
    "collapsed": false
   },
   "outputs": [],
   "source": [
    "Image_annihilator = Cauchy_second(Generic_first).expand().normal()\n",
    "bool_highlighted(f'Check the second analyticity condition: ${Image_annihilator.is_zero()}$')"
   ]
  },
  {
   "cell_type": "markdown",
   "metadata": {
    "collapsed": false
   },
   "source": [
    "[Back to ToC](#ToC)"
   ]
  },
  {
   "cell_type": "markdown",
   "metadata": {
    "collapsed": false
   },
   "source": [
    "<a id=\"complexVariables\"></a>\n",
    "#### Complex symbolic variables\n",
    "\n",
    "The above first-order differential operators prompts introduction of pairs of complex variables, which we symbolically denote by the following symbolic variables."
   ]
  },
  {
   "cell_type": "code",
   "execution_count": null,
   "metadata": {
    "collapsed": false
   },
   "outputs": [],
   "source": [
    "Z = symbol(\"Z\", \"z\")\n",
    "W = symbol(\"W\", \"w\")\n",
    "complex_vars = {Z : zn, W : wn}\n",
    "\n",
    "Z1 = symbol(\"Z1\", \"z_1\")\n",
    "Z2 = symbol(\"Z2\", \"z_2\")\n",
    "W1 = symbol(\"W1\", \"w_1\")\n",
    "W2 = symbol(\"W2\", \"w_2\")\n",
    "\n",
    "z2n = (x2+(b2+I*r2**2)*y2).normal()\n",
    "w2n = (b2+I*r2**2).normal()\n",
    "complex_vars1 = {Z1 : zn, W1 : wn}\n",
    "\n",
    "complex_vars2 = {Z1 : zn, W1 : wn,  Z2 : z2n, W2 : w2n}"
   ]
  },
  {
   "cell_type": "markdown",
   "metadata": {
    "collapsed": false
   },
   "source": [
    "[Back to ToC](#ToC)"
   ]
  },
  {
   "cell_type": "markdown",
   "metadata": {
    "collapsed": false
   },
   "source": [
    "<a id=\"secondOrderAnnihilator\"></a>\n",
    "### Wave/Schrödinger annihilators (second order)\n",
    "\n",
    "Search for the second-order relations. "
   ]
  },
  {
   "cell_type": "markdown",
   "metadata": {
    "collapsed": false,
    "ein.tags": "worksheet-0",
    "slideshow": {
     "slide_type": "-"
    }
   },
   "source": [
    "<a id=\"secondOrderAnnihilatorB\"></a>\n",
    "#### Second order annihilator for $B$\n",
    "\n",
    "First we do it for the vector field $B$. The particular property of the representation is $X^2-SB=0$:"
   ]
  },
  {
   "cell_type": "code",
   "execution_count": null,
   "metadata": {
    "autoscroll": false,
    "collapsed": false,
    "ein.hycell": false,
    "ein.tags": "worksheet-0",
    "slideshow": {
     "slide_type": "-"
    }
   },
   "outputs": [],
   "source": [
    "Answer = ((der(rho, der(rho, f1(u), 1), 1) + 2*der(rho, der(rho, f1(u), 3), 0)))\\\n",
    "    .subs(exponent_laws).normal()\n",
    "bool_highlighted(f'Vacuum is annihilated by free-particle hamiltonian: ${Answer.is_zero()}$')"
   ]
  },
  {
   "cell_type": "code",
   "execution_count": null,
   "metadata": {
    "autoscroll": false,
    "collapsed": false,
    "ein.hycell": false,
    "ein.tags": "worksheet-0",
    "slideshow": {
     "slide_type": "-"
    }
   },
   "outputs": [],
   "source": [
    "def Structural(Func, g = matrix([[x,y,b,r]])):\n",
    "    return -(der(rho0, der(rho0, Func, 1, Right_action, g), 1, Right_action, g) \\\n",
    "            + 2*der(rho0, der(rho0, Func, 3, Right_action, g), 0, Right_action, g))\n",
    "\n",
    "Answer = (Structural(MyKernel)/Generic_factor)\\\n",
    "    .subs(exponent_laws).expand().normal()\n",
    "bool_highlighted(f'Annihilated by the first second-order operator: ${Answer.is_zero()}$')"
   ]
  },
  {
   "cell_type": "markdown",
   "metadata": {
    "collapsed": false
   },
   "source": [
    "The form of the annihilating operator."
   ]
  },
  {
   "cell_type": "code",
   "execution_count": null,
   "metadata": {
    "autoscroll": false,
    "collapsed": false,
    "ein.hycell": false,
    "ein.tags": "worksheet-0",
    "slideshow": {
     "slide_type": "-"
    }
   },
   "outputs": [],
   "source": [
    "Answer = Structural(f4(x,y,b,r)).subs(exponent_laws).normal()\n",
    "Latex(f'The form of the operator: ${Answer}$')"
   ]
  },
  {
   "cell_type": "markdown",
   "metadata": {
    "collapsed": false
   },
   "source": [
    "We will often prefer to have expressions in complex variables, The\n",
    "next method makes such a substitution:"
   ]
  },
  {
   "cell_type": "code",
   "execution_count": null,
   "metadata": {
    "collapsed": false
   },
   "outputs": [],
   "source": [
    "def to_complex(Expr):\n",
    "    return Expr.subs({x : Z -(b+I*r**2)*y}).subs({b : W -I*r**2})\\\n",
    "        .subs({x2 : Z2 -(b2+I*r2**2)*y2}).subs({b2 : W2 -I*r2**2}).normal()"
   ]
  },
  {
   "cell_type": "markdown",
   "metadata": {
    "collapsed": false
   },
   "source": [
    "Structural action on the generic solution is:"
   ]
  },
  {
   "cell_type": "code",
   "execution_count": null,
   "metadata": {
    "collapsed": false
   },
   "outputs": [],
   "source": [
    "f2_derivatives = [f2(Z,W), diff(f2(Z,W),Z), diff(f2(Z,W),W),\\\n",
    "        diff(diff(f2(Z,W),Z),Z), diff(diff(f2(Z,W),W),Z), diff(diff(f2(Z,W),W),W)]\n",
    "Generic_first_derivatives = list(map(lambda d : d.subs(complex_vars), f2_derivatives))\n",
    "        \n",
    "Answer = apply_laws(Structural(Generic_first)/sqrt(r)/exp(-Pi*h*x*x/(r**2-I*b))*(r**2-I*b)**2)\n",
    "Answer = to_complex(Answer).expand().collect(f2_derivatives)\n",
    "Latex(f'Action on the generic solution : ${Answer}$')"
   ]
  },
  {
   "cell_type": "markdown",
   "metadata": {
    "collapsed": false
   },
   "source": [
    "We check that the above equation has the simpler form."
   ]
  },
  {
   "cell_type": "code",
   "execution_count": null,
   "metadata": {
    "collapsed": false
   },
   "outputs": [],
   "source": [
    "def Structural_complex(Func):\n",
    "    return W*diff(diff(Func,Z),Z)\\\n",
    "    - 4*Pi*I*h*Z*diff(Func,Z)\\\n",
    "    - 4*Pi*I*h*W*diff(Func,W)\\\n",
    "    - 2*Pi*I*h*Func\n",
    "\n",
    "display(Latex(f'Simplified equation: ${Structural_complex(f2(Z, W))}$'))\n",
    "\n",
    "bool_highlighted(f'The simplified equation is correct: ${(Answer- r**2*W*Structural_complex(f2(Z, W))).normal().is_zero()}$')"
   ]
  },
  {
   "cell_type": "markdown",
   "metadata": {
    "collapsed": false
   },
   "source": [
    "We check that a change of variables produces a simpler equation:"
   ]
  },
  {
   "cell_type": "code",
   "execution_count": null,
   "metadata": {
    "collapsed": false
   },
   "outputs": [],
   "source": [
    "Answer = (Structural_complex(1/sqrt(W)*f2(1/W, Z/W))*sqrt(W)).expand()\\\n",
    "          .subs(power_laws).normal()\n",
    "Latex(f'Schroodinger equation for free particle: ${Answer*W}$')"
   ]
  },
  {
   "cell_type": "markdown",
   "metadata": {
    "collapsed": false
   },
   "source": [
    "[Back to ToC](#ToC)"
   ]
  },
  {
   "cell_type": "markdown",
   "metadata": {
    "collapsed": false,
    "ein.tags": "worksheet-0",
    "slideshow": {
     "slide_type": "-"
    }
   },
   "source": [
    "<a id=\"secondOrderAnnihilatorR\"></a>\n",
    "#### Second order annihilator for $R$\n",
    "\n",
    "Now a similar relation for the vector field $R$. It comes from the\n",
    "following property of the vacuum."
   ]
  },
  {
   "cell_type": "code",
   "execution_count": null,
   "metadata": {
    "autoscroll": false,
    "collapsed": false,
    "ein.hycell": false,
    "ein.tags": "worksheet-0",
    "slideshow": {
     "slide_type": "-"
    }
   },
   "outputs": [],
   "source": [
    "Answer = ((der(rho, der(rho, V0.subs(E_simple), 2), 1) + der(rho, der(rho, V0.subs(E_simple), 4), 0) \\\n",
    "           -der(rho, V0.subs(E_simple),                                         \n",
    "0)/2)*sqrt(r)).subs(exponent_laws).subs(power_laws).normal()\n",
    "\n",
    "bool_highlighted(f'Vacuum sarisfies the secon second-order relation: ${Answer.is_zero()}$')"
   ]
  },
  {
   "cell_type": "markdown",
   "metadata": {
    "collapsed": false
   },
   "source": [
    "The respective operator on the image space is:"
   ]
  },
  {
   "cell_type": "code",
   "execution_count": null,
   "metadata": {
    "autoscroll": false,
    "collapsed": false,
    "ein.hycell": false,
    "ein.tags": "worksheet-0",
    "slideshow": {
     "slide_type": "-"
    }
   },
   "outputs": [],
   "source": [
    "Answer = apply_laws((der(rho0, der(rho0, MyKernel, 2, Right_action), 1, Right_action) + der(rho0, der(rho0, MyKernel, 4, Right_action), 0, Right_action) \\\n",
    "           -der(rho0, MyKernel, 0, Right_action)/2)/Generic_factor)\n",
    "bool_highlighted(f'The image space is annihilated by the second second-order relation: ${Answer.is_zero()}$')"
   ]
  },
  {
   "cell_type": "markdown",
   "metadata": {
    "collapsed": false
   },
   "source": [
    "The explicit expression of this operator:"
   ]
  },
  {
   "cell_type": "code",
   "execution_count": null,
   "metadata": {
    "autoscroll": false,
    "collapsed": false,
    "ein.hycell": false,
    "ein.tags": "worksheet-0",
    "slideshow": {
     "slide_type": "-"
    }
   },
   "outputs": [],
   "source": [
    "Answer = (der(rho0, der(rho0, f4(x,y,b,r), 2, Right_action), 1, Right_action) + der(rho0, der(rho0, f4(x,y,b,r), 4, Right_action), 0, Right_action) \\\n",
    "           -der(rho0, f4(x,y,b,r), 0, Right_action)/2).subs(exponent_laws).subs(power_laws).normal()\n",
    "Latex(f'The form of the second second-order operator: ${Answer}$')"
   ]
  },
  {
   "cell_type": "markdown",
   "metadata": {
    "collapsed": false
   },
   "source": [
    "Its restriction to the generic solution of the first-order system"
   ]
  },
  {
   "cell_type": "code",
   "execution_count": null,
   "metadata": {
    "collapsed": false
   },
   "outputs": [],
   "source": [
    "Answer = ((der(rho0, der(rho0, Generic_first, 2, Right_action), 1, Right_action) \\\n",
    "           + der(rho0, der(rho0, Generic_first, 4, Right_action), 0, Right_action) \\\n",
    "           -der(rho0, Generic_first, 0, Right_action)/2)\\\n",
    "          /Generic_factor*(r**2-I*b)**2)\n",
    "Answer = to_complex(apply_laws(Answer, True)).expand().collect(f2_derivatives)\n",
    "Latex(f'Action on the generic solution : ${Answer}$')"
   ]
  },
  {
   "cell_type": "markdown",
   "metadata": {
    "collapsed": false
   },
   "source": [
    "Check that it is reduces to the same equation on the image space as\n",
    "the first second-order equation. "
   ]
  },
  {
   "cell_type": "code",
   "execution_count": null,
   "metadata": {
    "collapsed": false
   },
   "outputs": [],
   "source": [
    "Check = (I*Answer/r**2- wn*Structural_complex(f2(Z, W))).subs(complex_vars).normal()\\\n",
    "    .subs(power_laws).normal()\\\n",
    "    .collect(Generic_first_derivatives)\n",
    "\n",
    "bool_highlighted(f'The equation is the same: ${Check.is_zero()}$')"
   ]
  },
  {
   "cell_type": "markdown",
   "metadata": {
    "collapsed": false
   },
   "source": [
    "[Back to ToC](#ToC)"
   ]
  },
  {
   "cell_type": "markdown",
   "metadata": {
    "collapsed": false
   },
   "source": [
    "<a id=\"examplePlaneWave\"></a>\n",
    "### An example: plane wave\n",
    "\n",
    "We work out the example of a plane wave."
   ]
  },
  {
   "cell_type": "code",
   "execution_count": null,
   "metadata": {
    "collapsed": false
   },
   "outputs": [],
   "source": [
    "k = symbol(\"k\")\n",
    "\n",
    "Plane_wave1d = sqrt(r)/sqrt(b+I*r**2)*exp(-2*Pi*I*k*y)*exp(-Pi*h*(x+k/h)**2/(r**2 - I*b))\n",
    "display(Latex(f'Plane wave: ${Plane_wave1d}$'))\n",
    "Answer = to_complex(apply_laws(Plane_wave1d/Generic_factor))\n",
    "display(Latex(f'Plane wave in complex form: ${Answer}$'))"
   ]
  },
  {
   "cell_type": "markdown",
   "metadata": {
    "collapsed": false
   },
   "source": [
    "We check that the plane wave transform satisfies all the requirement\n",
    "for the image space. "
   ]
  },
  {
   "cell_type": "code",
   "execution_count": null,
   "metadata": {
    "collapsed": false
   },
   "outputs": [],
   "source": [
    "display(bool_highlighted(f'First analicity: ${to_complex(apply_laws(Cauchy_first(Plane_wave1d))).is_zero()}$'))\n",
    "display(bool_highlighted(f'Second analicity: ${to_complex(apply_laws(Cauchy_second(Plane_wave1d)*sqrt(wn))).is_zero()}$'))\n",
    "bool_highlighted(f'Structural: ${to_complex(apply_laws(Structural(Plane_wave1d))).is_zero()}$')"
   ]
  },
  {
   "cell_type": "markdown",
   "metadata": {
    "collapsed": false
   },
   "source": [
    "[Back to ToC](#ToC)"
   ]
  },
  {
   "cell_type": "markdown",
   "metadata": {
    "collapsed": false
   },
   "source": [
    "<a id=\"exampleWavePacket\"></a>\n",
    "#### An example: wave packet\n",
    "\n",
    "We work out the example of a wave packet."
   ]
  },
  {
   "cell_type": "code",
   "execution_count": null,
   "metadata": {
    "collapsed": false
   },
   "outputs": [],
   "source": [
    "sigma = possymbol(\"sigma\")\n",
    "lam = realsymbol(\"lambda\")\n",
    "\n",
    "packet_factor = ((b*h+I*h*r**2+I*sigma)/h).normal()\n",
    "\n",
    "Wave_packet_1d = sqrt(r)/sqrt(packet_factor)*exp(-2*Pi*I*lam*y-Pi*sigma*y**2)\\\n",
    "    *exp(-Pi*h*(x+(lam-I*sigma*y)/h)**2/(r**2+sigma/h - I*b))\n",
    "display(Latex(f'Wave packet: ${Wave_packet_1d}$'))\n",
    "Answer = to_complex(apply_laws(Wave_packet_1d/Generic_factor))\n",
    "display(Latex(f'Plane wave in complex form: ${Answer}$'))"
   ]
  },
  {
   "cell_type": "markdown",
   "metadata": {
    "collapsed": false
   },
   "source": [
    "We check that the wave packet transform satisfies all the requirement\n",
    "for the image space. "
   ]
  },
  {
   "cell_type": "code",
   "execution_count": null,
   "metadata": {
    "collapsed": false
   },
   "outputs": [],
   "source": [
    "display(bool_highlighted(f'First analicity: ${to_complex(apply_laws(Cauchy_first(Wave_packet_1d))).is_zero()}$'))\n",
    "display(bool_highlighted(f'Second analicity: ${to_complex(apply_laws(Cauchy_second(Wave_packet_1d)*sqrt(wn))).is_zero()}$'))\n",
    "bool_highlighted(f'Structural: ${to_complex(apply_laws(Structural(Wave_packet_1d)/sqrt(packet_factor), True)).is_zero()}$')"
   ]
  },
  {
   "cell_type": "markdown",
   "metadata": {
    "collapsed": false
   },
   "source": [
    "These examples will be continued in the context of the Helmholtz equation.\n",
    "\n",
    "[Back to ToC](#ToC)"
   ]
  },
  {
   "cell_type": "markdown",
   "metadata": {
    "collapsed": false
   },
   "source": [
    "<a id=\"metamorphism\"></a>\n",
    "## Metamorphism\n",
    "Metamorphism is the covariant transform for the above defined coherent states. \n"
   ]
  },
  {
   "cell_type": "markdown",
   "metadata": {
    "collapsed": false,
    "ein.tags": "worksheet-0",
    "slideshow": {
     "slide_type": "-"
    }
   },
   "source": [
    "<a id=\"metamorphismBasics\"></a>\n",
    "### Basic properties of the metamorphism\n",
    "\n",
    "Calculate the image of the derivative of the delta function:"
   ]
  },
  {
   "cell_type": "code",
   "execution_count": null,
   "metadata": {
    "autoscroll": false,
    "collapsed": false,
    "ein.hycell": false,
    "ein.tags": "worksheet-0",
    "slideshow": {
     "slide_type": "-"
    }
   },
   "outputs": [],
   "source": [
    "Answer = der(rho0, MyKernel, 2, True).subs(exponent_laws).subs(power_laws).subs({u : 0}).normal()\n",
    "Latex(f'${Answer}$')"
   ]
  },
  {
   "cell_type": "markdown",
   "metadata": {
    "collapsed": false,
    "ein.tags": "worksheet-0",
    "slideshow": {
     "slide_type": "-"
    }
   },
   "source": [
    "We look for the order reduction of the derivatives using variable\n",
    "coefficients indeterminate"
   ]
  },
  {
   "cell_type": "code",
   "execution_count": null,
   "metadata": {
    "collapsed": false
   },
   "outputs": [],
   "source": [
    "X=realsymbol(\"X\")\n",
    "Y=realsymbol(\"Y\")\n",
    "B=realsymbol(\"B\")\n",
    "R=possymbol(\"R\")\n",
    "F=realsymbol(\"F\")\n",
    "\n",
    "f4_derivatives = [f4(x, y, b, r), diff(f4(x, y, b, r),x), diff(f4(x, y, b, r),y), diff(f4(x, y, b, r),b), diff(f4(x, y, b, r),r),\\\n",
    "        diff(diff(f4(x, y, b, r),x),x), diff(diff(f4(x, y, b, r),y),x), diff(diff(f4(x, y, b, r),b),x), diff(diff(f4(x, y, b, r),r),x),\\\n",
    "        diff(diff(f4(x, y, b, r),y),y), diff(diff(f4(x, y, b, r),b),y), diff(diff(f4(x, y, b, r),r),y),\\\n",
    "        diff(diff(f4(x, y, b, r),b),b), diff(diff(f4(x, y, b, r),r),b),\\\n",
    "        diff(diff(f4(x, y, b, r),r),r)]\n",
    "correction_val1 = {X : -I*r*b+2*I*r*b+b**2/r-r**3-b**2/r, Y : I*r,  B : 0, R : 0, F : 2*I*b+b**2/r/r-r**2}\n",
    "\n",
    "correction_val = {Y : I*r, X : -I*r*b+2*I*r*b+b**2/r-r**3-b**2/r, B : 0, R : 0, F : 2*I*b+b**2/r/r-r**2}\n",
    "\n",
    "Dz = Cauchy_first(f4(x, y, b, r))\n",
    "Answer = (der(rho0, der(rho0, f4(x,y,b,r), 2, True), 2, True) \\\n",
    "          - X*Dz.diff(x)  - Y*Dz.diff(y)  - B*Dz.diff(b) - R*Dz.diff(r)\\\n",
    "          - F*Structural(f4(x,y,b,r)))\\\n",
    "          .subs(correction_val)\\\n",
    "          .subs(exponent_laws).normal().expand()\\\n",
    "\t.collect(f4_derivatives)\n",
    "display(Latex(f'The form of the operator: ${Answer}$'))\n",
    "Latex('For the values: ' + ', '.join(map(lambda a: f'${a}={correction_val[a]}$', correction_val.keys())))"
   ]
  },
  {
   "cell_type": "markdown",
   "metadata": {
    "collapsed": false
   },
   "source": [
    "We check that our calculation was correct"
   ]
  },
  {
   "cell_type": "code",
   "execution_count": null,
   "metadata": {
    "autoscroll": false,
    "collapsed": false,
    "ein.hycell": false,
    "ein.tags": "worksheet-0",
    "slideshow": {
     "slide_type": "-"
    }
   },
   "outputs": [],
   "source": [
    "Answer = (der(rho0, der(rho0, f4(x,y,b,r), 2, True), 2, True) \\\n",
    "          + I*r*((b+I*r**2)*Dz.diff(x)  - Dz.diff(y))\\\n",
    "          + (b+I*r**2)**2/r**2*Structural(f4(x,y,b,r)))\\\n",
    "          .subs(exponent_laws).normal().expand()\\\n",
    "\t.collect(f4_derivatives)\n",
    "Latex(f'The form of the operator: ${Answer}$')"
   ]
  },
  {
   "cell_type": "markdown",
   "metadata": {
    "collapsed": false
   },
   "source": [
    "Now we look on the action of this operator on the generic solution:"
   ]
  },
  {
   "cell_type": "code",
   "execution_count": null,
   "metadata": {
    "collapsed": false
   },
   "outputs": [],
   "source": [
    "Dz_special = Cauchy_first(Generic_first)\n",
    "\n",
    "Answer = apply_laws((der(rho0, der(rho0, Generic_first, 2, True), 2, True) \\\n",
    "          + I*r*((b+I*r**2)*Dz_special.diff(x)  - Dz_special.diff(y))\\\n",
    "          + (b+I*r**2)**2/r**2*Structural(Generic_first))\\\n",
    "            /Generic_factor)\n",
    "\n",
    "Answer = to_complex(Answer).expand().collect(f2_derivatives)\n",
    "Latex(f'The complexified form of the operator on the generic solution: ${Answer}$')"
   ]
  },
  {
   "cell_type": "markdown",
   "metadata": {
    "collapsed": false
   },
   "source": [
    "Check the simpler form of this operator:"
   ]
  },
  {
   "cell_type": "code",
   "execution_count": null,
   "metadata": {
    "collapsed": false
   },
   "outputs": [],
   "source": [
    "def Second_der_oper(Func, z = Z, w = W):\n",
    "    return  2*z*diff(Func, z) \\\n",
    "        + 2*w*diff(Func, w) \\\n",
    "        + Func\n",
    "def Second_der_trans(Func, z = Z, w = W):\n",
    "    return 2*Pi*I*h*w*Second_der_oper(Func, z, w)\n",
    "\n",
    "display(Latex('The transmuted second derivative on the generic solution: $%s$' %\\\n",
    "                 Second_der_trans(f2(Z,W))))\n",
    "bool_highlighted(f'The simpler expression is correct: ${(Answer- Second_der_trans(f2(Z,W))).normal().is_zero()}$')"
   ]
  },
  {
   "cell_type": "markdown",
   "metadata": {
    "collapsed": false
   },
   "source": [
    "[Back to ToC](#ToC)"
   ]
  },
  {
   "cell_type": "markdown",
   "metadata": {
    "collapsed": false
   },
   "source": [
    "<a id=\"solvingHelmholtz\"></a>\n",
    "### Solving the image of the Helmholtz equation\n",
    "\n",
    "Using the Euler operator we can reduce the equation to a simpler one\n",
    "for a function `f2`of two variables only."
   ]
  },
  {
   "cell_type": "code",
   "execution_count": null,
   "metadata": {
    "collapsed": false
   },
   "outputs": [],
   "source": [
    "def Helmholtz(Func, K = k**2):\n",
    "    return diff(diff(Func, y), y) + diff(diff(Func, y2), y2) + K * Func\n",
    "\n",
    "def Helmholtz_trans(Func, K = k**2):\n",
    "    return Second_der_trans(Func, Z1, W1) \\\n",
    "        + Second_der_trans(Func, Z2, W2) \\\n",
    "        + K * Func"
   ]
  },
  {
   "cell_type": "markdown",
   "metadata": {
    "collapsed": false
   },
   "source": [
    "<a id=\"solvingPlaneWave\"></a>\n",
    "#### Example: plane wave solution\n",
    "\n",
    "We check that a product of two plane waves solves the Helmholtz equation."
   ]
  },
  {
   "cell_type": "code",
   "execution_count": null,
   "metadata": {
    "collapsed": false
   },
   "outputs": [],
   "source": [
    "k1=realsymbol(\"k1\", \"k_1\")\n",
    "k2=realsymbol(\"k2\", \"k_2\")\n",
    "Plane_wave = Plane_wave1d.subs({k : k1}) * Plane_wave1d.subs({x : x2, y : y2, b : b2, r : r2, k : k2})\n",
    "\n",
    "Answer = apply_laws(to_complex(Plane_wave1d/Generic_factor), True)\n",
    "Latex(f'Plane wave expression complex: ${Answer}$')"
   ]
  },
  {
   "cell_type": "markdown",
   "metadata": {
    "collapsed": false
   },
   "source": [
    "We use the above output to enter the plane wave in the complex form:"
   ]
  },
  {
   "cell_type": "code",
   "execution_count": null,
   "metadata": {
    "collapsed": false
   },
   "outputs": [],
   "source": [
    "Plane_wave_complex1d = exp((-2*Pi*I*h*k*Z-Pi*I*k**2)/(h*W))*W**numeric(-1,2)"
   ]
  },
  {
   "cell_type": "code",
   "execution_count": null,
   "metadata": {
    "collapsed": false
   },
   "outputs": [],
   "source": [
    "Answer = apply_laws(der(rho0, der(rho0, Plane_wave1d, 2), 2)/Plane_wave1d, True)\n",
    "display(Latex(f'Eigenvalue of the second derivative on the plane wave: ${Answer}$')) \n",
    "\n",
    "Answer = apply_laws(Second_der_trans(Plane_wave_complex1d) / Plane_wave_complex1d, True)\n",
    "Latex(f'${Answer}$')"
   ]
  },
  {
   "cell_type": "code",
   "execution_count": null,
   "metadata": {
    "collapsed": false
   },
   "outputs": [],
   "source": [
    "Plane_wave_complex = Plane_wave_complex1d.subs({Z : Z1, W : W1, k : k1}) *Plane_wave_complex1d.subs({Z : Z2, W : W2, k : k2})\n",
    "\n",
    "Full_Plane_wave = Generic_factor*Plane_wave_complex.subs(complex_vars2)\n",
    "\n",
    "Answer = apply_laws(Helmholtz(Full_Plane_wave, 4*Pi**2*(k1**2+k2**2))/Full_Plane_wave, True)\n",
    "\n",
    "display(Latex(f'Plane wave: ${Full_Plane_wave}$'))\n",
    "display(bool_highlighted(f'Full Helnholtz solution: ${Answer.is_zero()}$'))\n",
    "\n",
    "Answer = apply_laws(Helmholtz_trans(Plane_wave_complex,  4*Pi**2*(k1**2+k2**2))/Plane_wave_complex)\n",
    "bool_highlighted(f'Reduced Helmholtz solution: ${Answer.is_zero()}$')"
   ]
  },
  {
   "cell_type": "markdown",
   "metadata": {
    "collapsed": false
   },
   "source": [
    "[Back to ToC](#ToC)"
   ]
  },
  {
   "cell_type": "markdown",
   "metadata": {
    "collapsed": false
   },
   "source": [
    "<a id=\"solvingWavePaclet\"></a>\n",
    "#### Example: wave packet solution\n",
    "\n",
    "We check that a product of two plane waves solves the Helmholtz equation."
   ]
  },
  {
   "cell_type": "code",
   "execution_count": null,
   "metadata": {
    "collapsed": false
   },
   "outputs": [],
   "source": [
    "Wave_packet = Wave_packet_1d.subs({k : k1}) * Wave_packet_1d.subs({x : x2, y : y2, b : b2, r : r2, k : k2})\n",
    "\n",
    "Answer = apply_laws(to_complex(Wave_packet_1d/Generic_factor), True)\n",
    "Latex(f'Plane wave expression complex: ${Answer}$')"
   ]
  },
  {
   "cell_type": "markdown",
   "metadata": {
    "collapsed": false
   },
   "source": [
    "We use the above output to enter the plane wave in the complex form:"
   ]
  },
  {
   "cell_type": "code",
   "execution_count": null,
   "metadata": {
    "collapsed": false
   },
   "outputs": [],
   "source": [
    "Wave_packet_complex_1d = sqrt(h/(h*W+I*sigma)) \\\n",
    "    * exp(-(Pi*lam**2/W+2*Pi*h*lam*Z/W-Pi*I*h*sigma*Z**2/W**2)/(sigma/W-I*h))\n",
    "FAC=(h+I*sigma*W).normal()\n",
    "SOL=(sqrt(h)/sqrt(FAC) \\\n",
    "             * exp(-(I*(Pi*lam**2-k**2/(8*Pi))*W+2*I*Pi*h*lam*Z+Pi*h*sigma*Z**2)/FAC))\\\n",
    "             .subs({lam : k1/(2*Pi)})\n",
    "display(Latex(f'${apply_laws((SOL).diff(W)/SOL,True)}$'))\n",
    "bool_highlighted(f'Complex form is correct: ${(Answer-Wave_packet_complex_1d).normal().is_zero()}$')"
   ]
  },
  {
   "cell_type": "markdown",
   "metadata": {
    "collapsed": false
   },
   "source": [
    "The next chunk needs an improvement as well."
   ]
  },
  {
   "cell_type": "code",
   "execution_count": null,
   "metadata": {
    "collapsed": false
   },
   "outputs": [],
   "source": [
    "Wave_packet_complex = Wave_packet_complex_1d.subs({Z : Z1, W : W1, lam : k1/(2*Pi)}) *Wave_packet_complex_1d.subs({Z : Z2, W : W2, lam : k2/(2*Pi)})\n",
    "\n",
    "Full_Wave_packet = Generic_factor*Wave_packet_complex.subs(complex_vars2)\n",
    "\n",
    "Answer = apply_laws(Helmholtz(Full_Wave_packet, 4*Pi**2*(k1**2+k2**2))/Full_Wave_packet, True)\n",
    "\n",
    "#display(Latex(f'Wave packet: ${Full_Wave_packet}$'))\n",
    "#display(str(f'True Helnholtz solution: {Answer}'))\n",
    "#display(str(f'True Helnholtz solution: {Answer.is_zero()}'))\n",
    "\n",
    "Answer = apply_laws(Helmholtz_trans(Wave_packet_complex,  4*Pi**2*(k1**2+k2**2))/Wave_packet_complex)\n",
    "#display(Latex(f'${Answer}$'))\n",
    "#bool_highlighted(f'Reduced Helmholtz solution: ${Answer.is_zero()}$')"
   ]
  },
  {
   "cell_type": "markdown",
   "metadata": {
    "collapsed": false
   },
   "source": [
    "[Back to ToC](#ToC)"
   ]
  },
  {
   "cell_type": "markdown",
   "metadata": {
    "collapsed": false
   },
   "source": [
    "<a id=\"HelmholtzGeneric\"></a>\n",
    "## Generic solution of the Helmholtz equation\n",
    "\n",
    "We find and check the generic solution to the Helmholtz equation obtained from the metamorphism."
   ]
  },
  {
   "cell_type": "markdown",
   "metadata": {
    "collapsed": false
   },
   "source": [
    "<a id=\"CartesianRepresentation\"></a>\n",
    "### Cartesian coordinates representation\n",
    "\n",
    "Here we present the generic solution expressed in Cartesian coordinates."
   ]
  },
  {
   "cell_type": "code",
   "execution_count": null,
   "metadata": {
    "collapsed": false
   },
   "outputs": [],
   "source": [
    "Helmholtz_factor = exp(k**2/(8*Pi*I*h)*(W1**(-1)+W2**(-1)))/sqrt(W1)/sqrt(W2)\n",
    "Solution = Helmholtz_factor*f3(W2**(-1)-W1**(-1), Z1/W1, Z2/W2)\n",
    "display(Latex(f'The solution is: ${Solution}$'))\n",
    "Answer = (Helmholtz_trans(Solution)).normal()\n",
    "bool_highlighted(f'Solution is correct: ${Answer.is_zero()}$')"
   ]
  },
  {
   "cell_type": "markdown",
   "metadata": {
    "collapsed": false
   },
   "source": [
    "Find the form of the structural condition on this solution:"
   ]
  },
  {
   "cell_type": "code",
   "execution_count": null,
   "metadata": {
    "collapsed": false
   },
   "outputs": [],
   "source": [
    "Generic_factor_double = Generic_factor * Generic_factor.subs({x : x2, y : y2, b : b2, r : r2})\n",
    "\n",
    "Full_solution = Generic_factor_double * Solution.subs(complex_vars2).normal()"
   ]
  },
  {
   "cell_type": "markdown",
   "metadata": {
    "collapsed": false
   },
   "source": [
    "We check that the solution satisfies to both analyticity conditions:"
   ]
  },
  {
   "cell_type": "code",
   "execution_count": null,
   "metadata": {
    "collapsed": false
   },
   "outputs": [],
   "source": [
    "Answer = apply_laws(Cauchy_first(Full_solution), True)\n",
    "display(bool_highlighted(f'The first Cauchy equation: ${Answer.is_zero()}$'))\n",
    "\n",
    "Answer = apply_laws(Cauchy_second(Full_solution), True)\n",
    "Answer = to_complex(Answer*r**(-2))\n",
    "bool_highlighted(f'The second Cauchy equation: ${Answer.is_zero()}$')"
   ]
  },
  {
   "cell_type": "markdown",
   "metadata": {
    "collapsed": false
   },
   "source": [
    "We find the form of the structural condition for the function `f3` in\n",
    "the generic solution, it turns to be the Schrodinger equation of a\n",
    "free particle."
   ]
  },
  {
   "cell_type": "code",
   "execution_count": null,
   "metadata": {
    "collapsed": false
   },
   "outputs": [],
   "source": [
    "Answer = apply_laws(Structural(Full_solution) / Generic_factor_double / Helmholtz_factor.subs(complex_vars2), True)\n",
    "Structural1 = to_complex(Answer*r**(-2)*wn**2).normal()\n",
    "display(Latex(f'The form of the first structural condition: ${Structural1}$'))\n",
    "\n",
    "Answer = apply_laws(Structural(Full_solution, matrix([[x2,y2,b2,r2]])) / Generic_factor_double / Helmholtz_factor.subs(complex_vars2), True)\n",
    "Structural2 = to_complex(Answer*r2**(-2)*w2n**2).normal()\n",
    "Latex(f'The form of the second structural condition: ${Structural2}$')"
   ]
  },
  {
   "cell_type": "markdown",
   "metadata": {
    "collapsed": false
   },
   "source": [
    "Finally we are checking the unmodified Helmholtz operator on the\n",
    "generic solution:"
   ]
  },
  {
   "cell_type": "code",
   "execution_count": null,
   "metadata": {
    "collapsed": false
   },
   "outputs": [],
   "source": [
    "Answer = apply_laws(Helmholtz(Full_solution) / Generic_factor_double / Helmholtz_factor.subs(complex_vars2), True)\n",
    "Answer = to_complex(Answer)\n",
    "bool_highlighted('Satisfies the full Helmholtz (subject to the strucutural conditions): $%s$' % \\\n",
    "                 (Answer+Structural1+Structural2).normal().is_zero())"
   ]
  },
  {
   "cell_type": "markdown",
   "metadata": {
    "collapsed": false
   },
   "source": [
    "The derivative of the generic solution for the boundary value problems."
   ]
  },
  {
   "cell_type": "code",
   "execution_count": null,
   "metadata": {
    "collapsed": false
   },
   "outputs": [],
   "source": [
    "Answer = apply_laws(der(rho0, Full_solution, 2, True) / Generic_factor_double / Helmholtz_factor.subs(complex_vars2), True)\n",
    "Answer = to_complex(Answer).normal()\n",
    "display(Latex(f'Derivative in Y1: ${Answer}$'))\n",
    "\n",
    "Answer = apply_laws(der(rho0, Full_solution, 2, True, matrix([[x2,y2,b2,r2]])) / Generic_factor_double / Helmholtz_factor.subs(complex_vars2), True)\n",
    "Answer = to_complex(Answer).normal()\n",
    "display(Latex(f'Derivative in Y2: ${Answer}$'))"
   ]
  },
  {
   "cell_type": "markdown",
   "metadata": {
    "collapsed": false
   },
   "source": [
    "[Back to ToC](#ToC)"
   ]
  },
  {
   "cell_type": "markdown",
   "metadata": {
    "collapsed": false
   },
   "source": [
    "<a id=\"partialPlaneWave\"></a>\n",
    "### Plane wave from the partial solution\n",
    "\n",
    "We start from a partial solutions of the structural conditions to\n",
    "re-create a plane wave."
   ]
  },
  {
   "cell_type": "code",
   "execution_count": null,
   "metadata": {
    "collapsed": false
   },
   "outputs": [],
   "source": [
    "Partial_Schrodinger1 = exp(((k1**2-k**2/2))/(4*Pi*I*h)*W1**(-1) - I*k1*Z1/W1)\n",
    "Partial_Schrodinger2 = exp(((k2**2-k**2/2))/(4*Pi*I*h)*W2**(-1) - I*k2*Z2/W2)\n",
    "Partial_plane_wave = (Helmholtz_factor*Partial_Schrodinger1 * Partial_Schrodinger2).subs({k**2 : k1**2+k2**2})\n",
    "\n",
    "Answer = apply_laws(Partial_plane_wave/(exp((k1**2+k2**2)/(8*Pi*I*h)*(W1**(-1)+W2**(-1)))/sqrt(W1)/sqrt(W2)\\\n",
    "                              *exp(((k1**2-k2**2))/(8*I*h*Pi)*(W1**(-1)-W2**(-1)) - I*k1*Z1/W1 - I*k2*Z2/W2)), True)\n",
    "display(bool_highlighted(f'Wave has the required form: ${(Answer-1).is_zero()}$'))\n",
    "\n",
    "Answer = apply_laws(Helmholtz_trans(Partial_plane_wave, k1**2+k2**2)*sqrt(wn)*sqrt(w2n), True)\n",
    "bool_highlighted(f'Satisfies Transmuted Helmholz: ${Answer.is_zero()}$')"
   ]
  },
  {
   "cell_type": "markdown",
   "metadata": {
    "collapsed": false
   },
   "source": [
    "We make checks of the structural conditions and full Helmholtz for the full plane wave."
   ]
  },
  {
   "cell_type": "code",
   "execution_count": null,
   "metadata": {
    "collapsed": false
   },
   "outputs": [],
   "source": [
    "Partial_solution = Generic_factor_double * Partial_plane_wave.subs(complex_vars2).normal()\n",
    "Answer = apply_laws(Structural(Partial_solution)/Generic_factor_double*sqrt(wn)*sqrt(w2n), True)\n",
    "Answer = to_complex(Answer*r**(-2))\n",
    "display(bool_highlighted(f'Wave satisfies the Structural condition in the first set of variables: ${Answer.is_zero()}$'))\n",
    "\n",
    "Answer = apply_laws(Structural(Partial_solution, matrix([[x2,y2,b2,r2]]))/Generic_factor_double*sqrt(wn)*sqrt(w2n), True)\n",
    "Answer = to_complex(Answer*r**(-2))\n",
    "bool_highlighted(f'Wave satisfies the Structural condition in the second set of variables: ${Answer.is_zero()}$')"
   ]
  },
  {
   "cell_type": "code",
   "execution_count": null,
   "metadata": {
    "collapsed": false
   },
   "outputs": [],
   "source": [
    "Answer =apply_laws(Helmholtz(Partial_solution, k1**2+k2**2)*sqrt(wn)*sqrt(w2n)*sqrt(r)*sqrt(r2))\n",
    "bool_highlighted(f'It is a full Helholtz solution: ${Answer.is_zero()}$')"
   ]
  },
  {
   "cell_type": "markdown",
   "metadata": {
    "collapsed": false
   },
   "source": [
    "[Back to ToC](#ToC)"
   ]
  },
  {
   "cell_type": "markdown",
   "metadata": {
    "collapsed": false
   },
   "source": [
    "<a id=\"JacobiFunctions\"></a>\n",
    "### Jacobi (Hankel) functions\n"
   ]
  },
  {
   "cell_type": "code",
   "execution_count": null,
   "metadata": {
    "collapsed": false
   },
   "outputs": [],
   "source": [
    "Answer = der(rho0, der(rho0, der(rho0, f4(x,y,b,r), 2), 2), 3) + der(rho0, der(rho0, f4(x,y,b,r), 2), 1)\\\n",
    "    + der(rho0, f4(x,y,b,r), 3) - a**2*der(rho0, f4(x,y,b,r), 0)\n",
    "display(Latex(f'Jacoby unmodified: ${Answer.expand().collect(f4_derivatives)}$'))\n",
    "\n",
    "Answer = apply_laws((der(rho0, (der(rho0, der(rho0, Generic_first, 2, True), 2, True) \\\n",
    "          + I*r*((b+I*r**2)*Dz_special.diff(x)  - Dz_special.diff(y))\\\n",
    "                     + (b+I*r**2)**2/r**2*Structural(Generic_first)\\\n",
    "), 3)\\\n",
    "                     + der(rho0, der(rho0, Generic_first, 2), 1)\\\n",
    "    + der(rho0, Generic_first, 3) - a**2*der(rho0, Generic_first, 0)\n",
    "                     )\\\n",
    "            /Generic_factor)\n",
    "\n",
    "Answer = to_complex(Answer).expand().collect(f2_derivatives)\n",
    "display(Latex(f'Jacoby equation on the image space: ${Answer}$'))"
   ]
  },
  {
   "cell_type": "markdown",
   "metadata": {
    "collapsed": false
   },
   "source": [
    "[Back to ToC](#ToC)"
   ]
  },
  {
   "cell_type": "markdown",
   "metadata": {
    "collapsed": false
   },
   "source": [
    "<a id=\"fundamentalSolution\"></a>\n",
    "### Fundamental solution\n"
   ]
  },
  {
   "cell_type": "code",
   "execution_count": null,
   "metadata": {
    "collapsed": false
   },
   "outputs": [],
   "source": [
    "Fundamental = pow((W2-W1)/W1/W2, numeric(-1,2))\\\n",
    "    *exp(Pi*I*h*pow(Z1/W1+Z2/W2, 2)/(W1**(-1)-W2**(-1)) -  a/(8*Pi*I*h)*(W1**(-1)-W2**(-1)) + c*Z1/W1 + d*Z2/W2)\n",
    "#    *exp(Pi*I*h*pow(Z1/W1+Z2/W2, 2)/(W1**(-1)-W2**(-1)) - k**2/(8*Pi*I*h)*(W1**(-1)-W2**(-1)))\n",
    "Full_Fundamental = Helmholtz_factor.subs({k**2 : k1**2+k2**2}) *Fundamental\n",
    "\n",
    "#Answer = apply_laws(Helmholtz_trans(Full_Fundamental, 0)/Full_Fundamental, True)\n",
    "Answer = apply_laws(Helmholtz_trans(Full_Fundamental, k1**2+k2**2)*sqrt(wn)*sqrt(w2n), True)\n",
    "bool_highlighted(f'Satisfies Transmuted Helmholz: ${Answer.is_zero()}$')"
   ]
  },
  {
   "cell_type": "markdown",
   "metadata": {
    "collapsed": false
   },
   "source": [
    "The next bit does not work well."
   ]
  },
  {
   "cell_type": "raw",
   "metadata": {
    "collapsed": false
   },
   "source": [
    "Partial_solution = Generic_factor_double * Full_Fundamental.subs(complex_vars2)\n",
    "display(str(Partial_solution))\n",
    "Answer = apply_laws(Structural(Partial_solution)/Generic_factor_double*sqrt(wn)*sqrt(w2n), True)\n",
    "#Answer = apply_laws((4*Pi*I*h*diff(Partial_solution,b)-diff(diff(Partial_solution,x),x))\\\n",
    "#                    /Generic_factor_double*sqrt(wn)*sqrt(w2n), True)\n",
    "Answer = apply_laws(to_complex(Answer*r**(-2))\\\n",
    "                    *pow((W2-W)/W/W2, numeric(-1,2)).normal(), True)\\\n",
    "                    .subs(extra_power_laws, subs_options.algebraic)\n",
    "\n",
    "display(bool_highlighted(f'Satisfies the First structural condition: {Answer.is_zero()}'))\n",
    "display(Latex(f'Satisfies the First structural condition: ${Answer}$'))\n",
    "\n",
    "Answer = apply_laws(Structural(Partial_solution, matrix([[x2,y2,b2,r2]]))/Generic_factor_double*sqrt(wn)*sqrt(w2n), True)\n",
    "#Answer = apply_laws((4*Pi*I*h*diff(Partial_solution,b2)-diff(diff(Partial_solution,x2),x2))\\# \n",
    "#                   /Generic_factor_double*sqrt(wn)*sqrt(w2n), True)\n",
    "Answer = apply_laws(to_complex(Answer*r**(-2))\\\n",
    "                    *pow((W2-W)/W/W2, numeric(-1,2)), True)\\\n",
    "                    .subs(extra_power_laws, subs_options.algebraic)\n",
    "\n",
    "bool_highlighted(f'Satisfies the Second structural condition: ${Answer.is_zero()}$')\n",
    "Latex(f'Satisfies the Second structural condition: ${Answer}$')"
   ]
  },
  {
   "cell_type": "raw",
   "metadata": {
    "collapsed": false
   },
   "source": [
    "Answer = apply_laws(diff(Partial_solution,b)/Partial_solution, True)\n",
    "Answer = apply_laws((to_complex(Answer*r**(-2)).expand())\\\n",
    "                    .subs(extra_power_laws, subs_options.algebraic).normal(), True)\n",
    "\n",
    "display(Latex(f'db: ${Answer}$'))"
   ]
  },
  {
   "cell_type": "code",
   "execution_count": null,
   "metadata": {
    "collapsed": false
   },
   "outputs": [],
   "source": [
    "Answer =apply_laws(Helmholtz(Partial_solution, k**2)*sqrt(wn)*sqrt(w2n)*sqrt(r)*sqrt(r2)\\\n",
    "                   *sqrt(1/wn -1/w2n))\n",
    "Answer = to_complex(Answer*wn**11*r**(-2)*wn**(-9))\n",
    "\n",
    "bool_highlighted(f'It is a Full Helholtz solution: {Answer.is_zero()}')\n",
    "Latex(f'It is a Full Helholtz solution: ${Answer}$')"
   ]
  },
  {
   "cell_type": "markdown",
   "metadata": {
    "collapsed": false
   },
   "source": [
    "[Back to ToC](#ToC)"
   ]
  },
  {
   "cell_type": "markdown",
   "metadata": {
    "collapsed": false
   },
   "source": [
    "<a id=\"Helmholtz3D\"></a>\n",
    "## Helmholtz 3D\n",
    "\n",
    "Coordinates in the third dimension."
   ]
  },
  {
   "cell_type": "code",
   "execution_count": null,
   "metadata": {
    "collapsed": false
   },
   "outputs": [],
   "source": [
    "s3=realsymbol(\"s3\", \"s_3\")\n",
    "x3=realsymbol(\"x3\", \"x_3\")\n",
    "y3=realsymbol(\"y3\", \"y_3\")\n",
    "b3=realsymbol(\"b3\", \"b_3\")\n",
    "r3=possymbol(\"r3\", \"r_3\")\n",
    "\n",
    "g3=matrix([[s3, x3, y3, b3, r3]])"
   ]
  },
  {
   "cell_type": "markdown",
   "metadata": {
    "collapsed": false
   },
   "source": [
    "Complex variables in the third dimension."
   ]
  },
  {
   "cell_type": "code",
   "execution_count": null,
   "metadata": {
    "collapsed": false
   },
   "outputs": [],
   "source": [
    "Z3 = symbol(\"Z3\", \"z_3\")\n",
    "W3 = symbol(\"W3\", \"w_3\")\n",
    "\n",
    "z3n = (x3+(b3+I*r3**2)*y3).normal()\n",
    "w3n = (b3+I*r3**2).normal()\n",
    "\n",
    "complex_vars3 = {Z1 : zn, W1 : wn,  Z2 : z2n, W2 : w2n,  Z3 : z3n, W3 : w3n}\n",
    "\n",
    "def to_complex3(Expr):\n",
    "    return Expr.subs({x : Z -(b+I*r**2)*y}).subs({b : W -I*r**2})\\\n",
    "        .subs({x2 : Z2 -(b2+I*r2**2)*y2}).subs({b2 : W2 -I*r2**2})\\\n",
    "        .subs({x3 : Z3 -(b3+I*r3**2)*y3}).subs({b3 : W3 -I*r3**2}).normal()"
   ]
  },
  {
   "cell_type": "markdown",
   "metadata": {
    "collapsed": false
   },
   "source": [
    "We define Helmholtz operators in three dimensions:"
   ]
  },
  {
   "cell_type": "code",
   "execution_count": null,
   "metadata": {
    "collapsed": false
   },
   "outputs": [],
   "source": [
    "def Helmholtz3(Func, K = k**2):\n",
    "    return diff(diff(Func, y), y) + diff(diff(Func, y2), y2) + diff(diff(Func, y3), y3) + K * Func\n",
    "\n",
    "def Helmholtz3_trans(Func, K = k**2):\n",
    "    return Second_der_trans(Func, Z1, W1) \\\n",
    "        + Second_der_trans(Func, Z2, W2) \\\n",
    "        + Second_der_trans(Func, Z3, W3) \\\n",
    "        + K * Func"
   ]
  },
  {
   "cell_type": "markdown",
   "metadata": {
    "collapsed": false
   },
   "source": [
    "[Back to ToC](#ToC)"
   ]
  },
  {
   "cell_type": "markdown",
   "metadata": {
    "collapsed": false
   },
   "source": [
    "<a id=\"generalHelmholtz3D\"></a>\n",
    "### Generic solution of the Helmholtz equation in 3D\n",
    "\n",
    "Check the generic solution to the Helmholtz equation "
   ]
  },
  {
   "cell_type": "code",
   "execution_count": null,
   "metadata": {
    "collapsed": false
   },
   "outputs": [],
   "source": [
    "Anzatz = f6(W1, W2, W3, Z1/W1, Z2/W2, Z3/W3)\n",
    "\n",
    "Answer = Helmholtz3_trans(Anzatz).normal()\n",
    "display(Latex(f'Helmholtz3 on the anzatz: ${Answer}$'))"
   ]
  },
  {
   "cell_type": "code",
   "execution_count": null,
   "metadata": {
    "collapsed": false
   },
   "outputs": [],
   "source": [
    "Helmholtz3_factor = exp(k**2/(12*Pi*I*h)*(W1**(-1)+W2**(-1)+W3**(-1)))/sqrt(W1)/sqrt(W2)/sqrt(W3)\n",
    "Solution = Helmholtz3_factor*f5(W1**(-1)-W3**(-1), W2**(-1)-W3**(-1), Z1/W1, Z2/W2, Z3/W3)\n",
    "display(Latex(f'The solution is: ${Solution}$'))\n",
    "Answer = (Helmholtz3_trans(Solution)).normal()\n",
    "bool_highlighted(f'Solution is correct: ${Answer.is_zero()}$')"
   ]
  },
  {
   "cell_type": "code",
   "execution_count": null,
   "metadata": {
    "collapsed": false
   },
   "outputs": [],
   "source": [
    "Generic_factor_triple = Generic_factor_double * Generic_factor.subs({x : x3, y : y3, b : b3, r : r3})\n",
    "\n",
    "Full_solution = Generic_factor_triple * Solution.subs(complex_vars3).normal()"
   ]
  },
  {
   "cell_type": "markdown",
   "metadata": {
    "collapsed": false
   },
   "source": [
    "We check that the solution satisfies to all three analyticity conditions:"
   ]
  },
  {
   "cell_type": "code",
   "execution_count": null,
   "metadata": {
    "collapsed": false
   },
   "outputs": [],
   "source": [
    "Answer = apply_laws(Cauchy_first(Full_solution), True)\n",
    "display(bool_highlighted(f'The first Cauchy equation: ${Answer.is_zero()}$'))\n",
    "\n",
    "Answer = apply_laws(Cauchy_second(Full_solution), True)\n",
    "Answer = to_complex3(Answer*r**(-2))\n",
    "bool_highlighted(f'The second Cauchy equation: ${Answer.is_zero()}$')"
   ]
  },
  {
   "cell_type": "markdown",
   "metadata": {
    "collapsed": false
   },
   "source": [
    "We find the form of the structural condition for the function `f5` in\n",
    "the generic solution, it turns to be the Schrodinger equation of a\n",
    "free particle."
   ]
  },
  {
   "cell_type": "code",
   "execution_count": null,
   "metadata": {
    "collapsed": false
   },
   "outputs": [],
   "source": [
    "Answer = apply_laws(Structural(Full_solution) / Generic_factor_triple / Helmholtz3_factor.subs(complex_vars3), True)\n",
    "Structural1 = to_complex3(Answer*r**(-2)*wn**2).normal()\n",
    "display(Latex(f'The form of the first structural condition: ${Structural1}$'))\n",
    "\n",
    "Answer = apply_laws(Structural(Full_solution, matrix([[x2,y2,b2,r2]])) / Generic_factor_triple / Helmholtz3_factor.subs(complex_vars3), True)\n",
    "Structural2 = to_complex3(Answer*r2**(-2)*w2n**2).normal()\n",
    "display(Latex(f'The form of the second structural condition: ${Structural2}$'))\n",
    "\n",
    "Answer = apply_laws(Structural(Full_solution, matrix([[x3,y3,b3,r3]])) / Generic_factor_triple / Helmholtz3_factor.subs(complex_vars3), True)\n",
    "Structural3 = to_complex3(Answer*r3**(-2)*w3n**2).normal()\n",
    "Latex(f' Form of the second structural condition in third dimension: ${Structural3}$')"
   ]
  },
  {
   "cell_type": "markdown",
   "metadata": {
    "collapsed": false
   },
   "source": [
    "[Back to ToC](#ToC)"
   ]
  },
  {
   "cell_type": "markdown",
   "metadata": {
    "collapsed": false
   },
   "source": [
    "<a id=\"references\"></a>\n",
    "### References\n",
    "\n",
    "   <a id=\"refAlmalkiKisil19\"></a>\n",
    "1.  F. Almalki and V. V. Kisil, *Geometric dynamics of a harmonic oscillator, arbitrary minimal uncertainty states and the smallest step 3 nilpotent Lie group*, J. Phys. A: Math. Theor **52** (2019), 025301. [arXiv:1805.01399](https://arxiv.org/abs/1805.01399).\n",
    "\n",
    "   <a id=\"refKisil15\"></a>\n",
    "2. V. V. Kisil. Uncertainty and analyticity. In V. V. Mityushev and M. V. Ruzhansky (eds.) Current trends in analysis and its applications, pages 583–590, Springer International Publishing, 2015. E-print: [arXiv:1312.4583](https://arxiv.org/abs/1312.4583).\n",
    "\n",
    "   <a id=\"refKisil17\"></a>\n",
    "3. V. V. Kisil. Symmetry, geometry and quantization with hypercomplex numbers. In I.M.Mladenov, G. Meng, and A. Yoshioka (eds.) Geometry, integrability and quantization XVIII, pages 11–76, Bulgar. Acad. Sci., Sofia, 2017. E-print: [arXiv:1611.05650](https://arxiv.org/abs/1611.05650). \n",
    "\n",
    "   <a id=\"refKisil21c\"></a>\n",
    "4. V. V. Kisil, *Metamorphism---an Integral Transform Reducing the Order of a Differential Equation*, 2021, [arXiv:2105.12079](http://arxiv.org/abs/2105.12079).\n",
    "\n",
    "   <a id=\"refKisil21b\"></a>\n",
    "5. V. V. Kisil, *Symbolic calculation for covariant transform on the SSR group*, [CodeOcean capsule](https://codeocean.com/capsule/2676832/tree/), 2021.\n",
    "\n",
    "   <a id=\"EichlerZagier85\"></a>\n",
    "6. M. Eichler, D. Zagier, *The theory of Jacobi forms*, Birkhauser, Boston, 1985."
   ]
  },
  {
   "cell_type": "markdown",
   "metadata": {
    "collapsed": false
   },
   "source": [
    "[Back to ToC](#ToC)"
   ]
  }
 ],
 "metadata": {
  "kernelspec": {
   "argv": [
    "/usr/bin/python3",
    "-m",
    "ipykernel_launcher",
    "-f",
    "{connection_file}"
   ],
   "display_name": "Python 3 (ipykernel)",
   "env": null,
   "interrupt_mode": "signal",
   "language": "python",
   "metadata": {
    "debugger": false
   },
   "name": "python3"
  },
  "language_info": {
   "codemirror_mode": {
    "name": "ipython",
    "version": 3
   },
   "file_extension": ".py",
   "mimetype": "text/x-python",
   "name": "python",
   "nbconvert_exporter": "python",
   "pygments_lexer": "ipython3",
   "version": "3.9.9"
  },
  "name": "ssr_group.ipynb"
 },
 "nbformat": 4,
 "nbformat_minor": 2
}

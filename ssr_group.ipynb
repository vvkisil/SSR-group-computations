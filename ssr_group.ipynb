{
 "cells": [
  {
   "cell_type": "markdown",
   "id": "78d53647-ad65-4c22-92c5-3c9e17597ff7",
   "metadata": {
    "collapsed": false
   },
   "source": [
    "# Symbolic calculation for covariant transform on the SSR group\n",
    "### [Vladimir V Kisil](http://v-v-kisil.scienceontheweb.net/)\n",
    "\n",
    "This is a [working Jupyter notebook](https://github.com/vvkisil/SSR-group-computations) which was used for research published in [Ref.4](#refKisil21c). A readable narrative for this notebook is recorded in [Ref.7](#refAlqurashiKisil23a). \n",
    "\n",
    "The notebook is very detailed with numerous cross-checks of the correctness and supplementary computation. It may serve also as a demonstration of [pyGiNaC](#http://moebinv.sourceforge.net/pyGiNaC.html) abilities for symbolic computations in actual research environment. \n",
    "\n",
    "**Note:** *to execute the notebook you may need to [install software](https://colab.research.google.com/github/vvkisil/MoebInv-notebooks/blob/master/Introduction/Software_installation_GUI_integration.ipynb).* If you do not have a local installation of  [pyGiNaC](#http://moebinv.sourceforge.net/pyGiNaC.html) then you can use a CodeOcean capsule [Ref.5](#refKisil21b).\n",
    "\n",
    "There is also the [processed HTML](http://v-v-kisil.scienceontheweb.net/SSR-group-computations/ssr_group.html).\n",
    "\n",
    "<a id=\"ToC\"></a>\n",
    "#### Table of contents of this notebook\n",
    "\n",
    "+ [Initialisation, auxiliary functions and variables](#initialisation)\n",
    "\n",
    "+ [SSR group](#ssrGroup)\n",
    "  - [Lie algebra of the SSR group](#LieAlgebra)\n",
    "  - [Exponential map](#exponentialMap)\n",
    "    * [Elements conversion](#elementsConversion)\n",
    "  - [Lie group definition](#LieGroup)\n",
    "  \n",
    "+ [Subgroups and homogeneous spaces](#subgroupsHS)\n",
    "  - [Maximal abelian subgroup](#maxabelianSubgroup)\n",
    "  - [The centre of the SSR group](#centreSSRGroup)\n",
    "\n",
    "+ [Induced representations of the SSR group](#indeycedRepresentations)\n",
    "  - [Definition of the symbolic functions](#definitionFunctions)\n",
    "  - [Representations of the SSR group induced from the centre](#inductionCentre)\n",
    "    * [Infinitesimal (derived) representations](#infinitesimalCentre)\n",
    "  - [The representation induced from the maximal abelian subgroup](#inducedMaximal)  \n",
    "+ [Coherent states](#coherentStates)\n",
    "  - [Identifying the vacuum vectors](#identifyingVacuum)\n",
    "  - [Case of non-zero derivative in R direction (Er ≠ 0)](#transmutationErNonZero)\n",
    "  - [The case of vanishing derivative in R direction (Er = 0)](#transmutationErZero)\n",
    "  - [Annihilating operators of Cauchy–Riemann type (first order)](#CRannihilator)\n",
    "    * [The phase-space pair](#CRphaseSpace)\n",
    "    * [Affine group analyticity](#CRaffineGroup)\n",
    "    * [Complex symbolic variables](#complexVariables)\n",
    "  - [Wave/Schrödinger annihilators (second order)](#secondOrderAnnihilator)\n",
    "    * [Second order annihilator for B](#secondOrderAnnihilatorB)\n",
    "    * [Second order annihilator for R](#secondOrderAnnihilatorR)\n",
    "    * [An example: wave packet](#exampleWavePacket)\n",
    "    * [An example: plane wave](#examplePlaneWave)\n",
    "+ [Metamorphism](#metamorphism)\n",
    "  - [Basic properties of the metamorphism](#metamorphismBasics)\n",
    "  - [Solving the image of the Helmholtz equation](#solvingHelmholtz)\n",
    "    * [Example: plane wave solution](#solvingPlaneWave)\n",
    "    * [Example: wave packet solution](#solvingWavePaclet)\n",
    "+ [Generic solution of the Helmholtz equation](#HelmholtzGeneric)\n",
    "  - [Cartesian coordinates representation](#CartesianRepresentation)\n",
    "  - [Plane wave from the partial solution](#partialPlaneWave)\n",
    "  - [Jacobi (Hankel) functions](#JacobiFunctions)\n",
    "  - [Fundamental solution](#fundamentalSolution)\n",
    "+ [Helmholtz 3D](#Helmholtz3D)\n",
    "  - [Generic solution of the Helmholtz equation in 3D](#generalHelmholtz3D)\n",
    "+ [References](#references)\n"
   ]
  },
  {
   "cell_type": "markdown",
   "id": "fcfcdc69-578d-42b1-b223-a37a8df7ff19",
   "metadata": {
    "collapsed": false
   },
   "source": [
    "<a id=\"initialisation\"></a>\n",
    "## Initialisation, auxiliary functions and variables \n",
    "\n",
    "Initialise the system by loading `pyGiNaC`."
   ]
  },
  {
   "cell_type": "code",
   "execution_count": null,
   "id": "35a72d8a-c134-4937-8373-2ede2588b5a7",
   "metadata": {
    "collapsed": false
   },
   "outputs": [],
   "source": [
    "from ginac import *\n",
    "from IPython.display import Latex\n",
    "#latex_off()\n",
    "latex_on()"
   ]
  },
  {
   "cell_type": "markdown",
   "id": "7a35f8f3-c5ec-4d8e-b0f5-0c3f35274b22",
   "metadata": {
    "collapsed": false
   },
   "source": [
    "Fine-tine $\\LaTeX$ output of calculations."
   ]
  },
  {
   "cell_type": "code",
   "execution_count": null,
   "id": "d60887c4-ca13-4e83-b27c-e6d21f195ba5",
   "metadata": {
    "autoscroll": false,
    "collapsed": false,
    "ein.hycell": false,
    "ein.tags": "worksheet-0",
    "slideshow": {
     "slide_type": "-"
    }
   },
   "outputs": [],
   "source": [
    "def bool_highlighted(ginac):\n",
    "    \"\"\" Print in bold fase boolean value \"\"\"\n",
    "    if is_latex_on():\n",
    "        ginac = ginac.replace(\"True\", \"\\\\textbf{True}\")\n",
    "        ginac = ginac.replace(\"False\", \"\\\\textbf{False}\")\n",
    "        return Latex(ginac)\n",
    "    else:\n",
    "        ginac = ginac.replace(\"True\", \"_True_\")\n",
    "        ginac = ginac.replace(\"False\", \"_False_\")\n",
    "        return str(ginac)\n",
    "\n",
    "def print_plain(String, Expr):\n",
    "    \"\"\" One-off output without LaTeX formatting \"\"\"\n",
    "    was_latex = is_latex_on()\n",
    "    latex_off()\n",
    "    print(String, Expr)\n",
    "    if (was_latex):\n",
    "        latex_on()"
   ]
  },
  {
   "cell_type": "markdown",
   "id": "1b629190-dc44-497c-91a5-c211eb9effa7",
   "metadata": {
    "collapsed": false,
    "ein.tags": "worksheet-0",
    "slideshow": {
     "slide_type": "-"
    }
   },
   "source": [
    "We will need to use the following algebraic transformations regularly to simplify expressions"
   ]
  },
  {
   "cell_type": "code",
   "execution_count": null,
   "id": "f3b92980-a373-4f64-853e-205a8ed905e1",
   "metadata": {
    "autoscroll": false,
    "collapsed": false,
    "ein.hycell": false,
    "ein.tags": "worksheet-0",
    "slideshow": {
     "slide_type": "-"
    }
   },
   "outputs": [],
   "source": [
    "power_laws = {power(wild(9),wild(10))*wild(11)*power(wild(9),wild(12))\\\n",
    "              : power(wild(9), (wild(10)+wild(12)))*wild(11), \\\n",
    "    power(wild(1),wild(2))*power(wild(1),wild(3)) : power(wild(1),(wild(2)+wild(3))),\\\n",
    "    power(power(wild(0),wild(1)),wild(2)) : power(wild(0),wild(1)*wild(2))}\n",
    "extra_power_laws = {power(wild(8),wild(10))*wild(11)*power(wild(9),wild(10))\\\n",
    "                    : power(wild(8)*wild(9), wild(10))*wild(11),\\\n",
    "                    power(wild(1),wild(2))*power(wild(3),wild(2))\\\n",
    "                    : power(wild(1)*wild(3), wild(2))}\n",
    "exponent_laws = {power(exp(wild(5)), wild(6))  :  exp(wild(5)*wild(6)), \\\n",
    "                 exp(wild(0))*exp(wild(1)) : exp(wild(0)+wild(1)), \\\n",
    "                 exp(wild(2))*wild(3)*exp(wild(4)) : exp(wild(2)+wild(4))*wild(3)}\n",
    "\n",
    "def apply_laws(Expr, with_powers = False, options = 0):\n",
    "    \"\"\"\n",
    "    Apply advanced transformation eules to the expression Expr.\n",
    "    By default it includes exponent laws.\n",
    "    If with_powers set to True, then additionally power laws are applied as well.\n",
    "    Additional options to GiNaC subs method can be provided also.\n",
    "    \"\"\"\n",
    "    X = Expr.normal()\\\n",
    "        .subs({pow(exp(wild(5)),-1) : exp(-wild(5))})\\\n",
    "        .subs(exponent_laws, options).normal()\\\n",
    "        .expand().subs(exponent_laws, options).normal()\n",
    "    if with_powers:\n",
    "        return X.expand().subs(power_laws, options).normal()\n",
    "    else:\n",
    "        return X"
   ]
  },
  {
   "cell_type": "markdown",
   "id": "a285a31b-2983-453b-b8a0-439fbce08818",
   "metadata": {
    "collapsed": false
   },
   "source": [
    "Some mnemonic values for logical parameters."
   ]
  },
  {
   "cell_type": "code",
   "execution_count": null,
   "id": "8ea27bd6-14a8-47eb-a5e9-ac97eaea8e83",
   "metadata": {
    "collapsed": false
   },
   "outputs": [],
   "source": [
    "with_power_laws = True\n",
    "Left_action = True\n",
    "Right_action = False"
   ]
  },
  {
   "cell_type": "markdown",
   "id": "05034fb9-3cc1-4522-9592-c96cdbe5579a",
   "metadata": {
    "collapsed": false
   },
   "source": [
    "[Back to ToC](#ToC)"
   ]
  },
  {
   "cell_type": "markdown",
   "id": "6e56e308-ec9f-43de-9302-1eb6b895f286",
   "metadata": {
    "collapsed": false
   },
   "source": [
    "<a id=\"ssrGroup\"></a>\n",
    "## SSR group\n",
    "\n",
    "First, we construct the machinery to work with SSR group. The process is as follows:\n",
    "\n",
    "1. We realise the [Lie algebra](#LieAlgebra) through matrices to represent known commutators.\n",
    "2. The [exponential map](#exponentialMap) is used to find the group law\n",
    "3. The obtained expressions are implemented into procedures for speed."
   ]
  },
  {
   "cell_type": "markdown",
   "id": "3c473790-e629-4d6b-81cd-59014c873f88",
   "metadata": {
    "collapsed": false,
    "ein.tags": "worksheet-0",
    "slideshow": {
     "slide_type": "-"
    }
   },
   "source": [
    "<a id=\"LieAlgebra\"></a>\n",
    "### Lie algebra of the SSR group\n",
    "\n",
    "Some initial setting: names of vector fields in the Lie algebra basis."
   ]
  },
  {
   "cell_type": "code",
   "execution_count": null,
   "id": "31cac8eb-90fc-4079-814b-94e3ba2ddb17",
   "metadata": {
    "autoscroll": false,
    "collapsed": false,
    "ein.hycell": false,
    "ein.tags": "worksheet-0",
    "slideshow": {
     "slide_type": "-"
    }
   },
   "outputs": [],
   "source": [
    "fields = ['S', 'X', 'Y', 'B', 'R']"
   ]
  },
  {
   "cell_type": "markdown",
   "id": "e80b44d3-5b5b-4895-b378-f37648fba47c",
   "metadata": {
    "collapsed": false,
    "ein.tags": "worksheet-0",
    "slideshow": {
     "slide_type": "-"
    }
   },
   "source": [
    "We start from the matrix representation of the Lie algebra."
   ]
  },
  {
   "cell_type": "code",
   "execution_count": null,
   "id": "f5e2c9d5-d635-4d14-9d00-d449d35db51b",
   "metadata": {
    "collapsed": false
   },
   "outputs": [],
   "source": [
    "B0=symbolic_matrix(4,4,\"b\")\n",
    "X=matrix([[0,0,1,0],[0,0,0,1],[0,0,0,0],[0,0,0,0]])\n",
    "Y=matrix([[0,-1,0,0],[0,0,0,0],[0,0,0,1],[0,0,0,0]])\n",
    "S=matrix([[0,0,0,2],[0,0,0,0],[0,0,0,0],[0,0,0,0]])\n",
    "R=matrix([[0,0,0,0],[0,1,0,0],[0,0,-1,0],[0,0,0,0]])\n",
    "B=matrix([[0,0,0,0],[0,0,-1,0],[0,0,0,0],[0,0,0,0]])"
   ]
  },
  {
   "cell_type": "markdown",
   "id": "35ba2ab1-5049-4423-9c63-0b919723e743",
   "metadata": {
    "collapsed": false
   },
   "source": [
    "*Excercise*. We check that the commutators of the representing matrices are right."
   ]
  },
  {
   "cell_type": "code",
   "execution_count": null,
   "id": "de525c0d-999c-4abe-95b7-742b3b45ecf5",
   "metadata": {
    "collapsed": false
   },
   "outputs": [],
   "source": [
    "display(bool_highlighted(\"[X,Y]=S: \"+f'${(X*Y-Y*X-S).evalm().is_zero_matrix()}$'))\n",
    "display(bool_highlighted(\"[R,X]=X: \"+f'${(R*X-X*R-X).evalm().is_zero_matrix()}$'))\n",
    "display(bool_highlighted(\"[R,Y]=-Y: \"+f'${(R*Y-Y*R+Y).evalm().is_zero_matrix()}$'))\n",
    "display(bool_highlighted(\"[R,S]=0: \"+f'${(R*S-S*R).evalm().is_zero_matrix()}$'))\n",
    "display(bool_highlighted(\"[B,X]=0: \"+f'${(B*X-X*B).evalm().is_zero_matrix()}$'))\n",
    "display(bool_highlighted(\"[B,Y]=-X: \"+f'${(B*Y-Y*B+X).evalm().is_zero_matrix()}$'))\n",
    "(bool_highlighted(\"[R,B]=2B: \"+f'${(R*B-B*R-2*B).evalm().is_zero_matrix()}$'))"
   ]
  },
  {
   "cell_type": "markdown",
   "id": "55796d9e-77c7-444d-be83-11b327dc82cd",
   "metadata": {
    "collapsed": false
   },
   "source": [
    "*Excercise*. We also check nilpotency of the basis elements, \\(R\\) shall be the\n",
    "only exception."
   ]
  },
  {
   "cell_type": "code",
   "execution_count": null,
   "id": "969bb832-beef-4ad0-b519-ff280ba6b31c",
   "metadata": {
    "autoscroll": false,
    "collapsed": false,
    "ein.hycell": false,
    "ein.tags": "worksheet-0",
    "scrolled": true,
    "slideshow": {
     "slide_type": "-"
    }
   },
   "outputs": [],
   "source": [
    "vectors={\"S\": S, \"X\": X, \"Y\" : Y, \"R\" : R, \"B\" : B}\n",
    "for v in vectors:\n",
    "    display(bool_highlighted(f'{v} is nilpotent: ${pow(vectors[v],2).evalm().is_zero_matrix()}$'))"
   ]
  },
  {
   "cell_type": "markdown",
   "id": "b6cfd5ac-6355-4399-a1ce-fb7b711dd5b5",
   "metadata": {
    "collapsed": false
   },
   "source": [
    "[Back to ToC](#ToC)"
   ]
  },
  {
   "cell_type": "markdown",
   "id": "92bd38ec-ad02-4b9e-ba72-b158e032d035",
   "metadata": {
    "collapsed": false,
    "ein.tags": "worksheet-0",
    "slideshow": {
     "slide_type": "-"
    }
   },
   "source": [
    "<a id=\"exponentialMap\"></a>\n",
    "### Exponential map\n",
    "\n",
    "The SSR group is constructed through the exponential map of the above Lie\n",
    "algebra.  Here is a matrix for a generic element."
   ]
  },
  {
   "cell_type": "code",
   "execution_count": null,
   "id": "564f13a7-113e-4e51-b556-155e0c1a01d2",
   "metadata": {
    "autoscroll": false,
    "collapsed": false,
    "ein.hycell": false,
    "ein.tags": "worksheet-0",
    "slideshow": {
     "slide_type": "-"
    }
   },
   "outputs": [],
   "source": [
    "s=realsymbol(\"s\")\n",
    "x=realsymbol(\"x\")\n",
    "y=realsymbol(\"y\")\n",
    "r=possymbol(\"r\")\n",
    "b=realsymbol(\"b\")\n",
    "u=realsymbol(\"u\")\n",
    "u2=realsymbol(\"u2\")\n",
    "I4=unit_matrix(4)\n",
    "expR=matrix([[1,0,0,0],[0,r,0,0],[0,0,1/r,0],[0,0,0,1]])\n",
    "g=((I4+s*S)*(I4+y*Y)*(I4+x*X)*(I4+b*B)*expR).evalm()\n",
    "Latex(f'Generic SSR group element: ${g}$')"
   ]
  },
  {
   "cell_type": "markdown",
   "id": "24c67302-a086-4319-b188-5b4de0c5387b",
   "metadata": {
    "collapsed": false,
    "ein.tags": "worksheet-0",
    "slideshow": {
     "slide_type": "-"
    }
   },
   "source": [
    "More generally,we represent a generic element of the Schrödinger–Jacobi group, the group SSR is its subgroup, cf. [Ref.6](#EichlerZagier85), Thm.6.1."
   ]
  },
  {
   "cell_type": "code",
   "execution_count": null,
   "id": "975e653b-f4c9-4979-815d-61612de465cf",
   "metadata": {
    "autoscroll": false,
    "collapsed": false,
    "ein.hycell": false,
    "ein.tags": "worksheet-0",
    "slideshow": {
     "slide_type": "-"
    }
   },
   "outputs": [],
   "source": [
    "a=realsymbol(\"a\")\n",
    "b=realsymbol(\"b\")\n",
    "c=realsymbol(\"c\")\n",
    "d=realsymbol(\"d\")\n",
    "\n",
    "Sch=((I4+s*S)*(I4+y*Y)*(I4+x*X)*matrix([[1,0,0,0],[0,a,b,0],[0,c,d,0],[0,0,0,1]])).evalm()\n",
    "Latex(f'Generic Schrödinger–Jacobi group element: ${Sch}$')"
   ]
  },
  {
   "cell_type": "markdown",
   "id": "7411be0d-8603-4fd0-94d0-4214d56aabaf",
   "metadata": {
    "collapsed": false
   },
   "source": [
    "[Back to ToC](#ToC)"
   ]
  },
  {
   "cell_type": "markdown",
   "id": "7a963b82-a215-4da9-b942-ccca48267027",
   "metadata": {
    "collapsed": false,
    "ein.tags": "worksheet-0",
    "slideshow": {
     "slide_type": "-"
    }
   },
   "source": [
    "<a id=\"elementsConversion\"></a>\n",
    "#### Elements conversion\n",
    "\n",
    "We define several convenience routines, which convert between different forms of the SSR group.\n",
    "\n",
    "The next routine converts a tuple into the matrix representing of the respective SSR element. "
   ]
  },
  {
   "cell_type": "code",
   "execution_count": null,
   "id": "6ada11d3-0620-45f3-a82b-397823e33804",
   "metadata": {
    "autoscroll": false,
    "collapsed": false,
    "ein.hycell": false,
    "ein.tags": "worksheet-0",
    "slideshow": {
     "slide_type": "-"
    }
   },
   "outputs": [],
   "source": [
    "def tuple_to_ssr_matrix(s, x, y, b, r=1):\n",
    "    \"\"\"Convert a 4/5-tuple into a matrix representing SSR group\"\"\" \n",
    "    return matrix([[1,-y*r, (x+b*y)/r, 2*s-x*y],\\\n",
    "                    [ 0, r, -b/r, x],\\\n",
    "                    [ 0, 0, 1/r, y],\\\n",
    "                    [ 0, 0, 0, 1]])"
   ]
  },
  {
   "cell_type": "markdown",
   "id": "a2343c3e-a9d6-41a0-baab-0ddbdbea37af",
   "metadata": {
    "collapsed": false,
    "ein.tags": "worksheet-0",
    "slideshow": {
     "slide_type": "-"
    }
   },
   "source": [
    "Alternatively we make an SSR element as a vector from a list or elements"
   ]
  },
  {
   "cell_type": "code",
   "execution_count": null,
   "id": "5b0ff732-89d8-4681-b6a7-2e60bc7fc100",
   "metadata": {
    "autoscroll": false,
    "collapsed": false,
    "ein.hycell": false,
    "ein.tags": "worksheet-0",
    "slideshow": {
     "slide_type": "-"
    }
   },
   "outputs": [],
   "source": [
    "def ssr_element(*args):\n",
    "    \"\"\" Create an element of the SSR group a vector from a list or elements. \"\"\"\n",
    "    if len(args) == 1:\n",
    "        if type(args) is list:\n",
    "            return matrix([].append(args))\n",
    "        elif type(args) is cginac.matrix:\n",
    "            return args\n",
    "    elif len(args) == 4:\n",
    "        return matrix([[args[0], args[1], args[2], args[3], 1]])\n",
    "    elif len(args) == 5:\n",
    "        return matrix([[args[0], args[1], args[2], args[3], args[4]]])\n",
    "    else:\n",
    "        print(\"Do not recognise an argument type\")"
   ]
  },
  {
   "cell_type": "markdown",
   "id": "8324696d-a27d-46db-aee5-43b64cb56931",
   "metadata": {
    "collapsed": false,
    "ein.tags": "worksheet-0",
    "slideshow": {
     "slide_type": "-"
    }
   },
   "source": [
    "Also we make SSR matrix from a vector or a list."
   ]
  },
  {
   "cell_type": "code",
   "execution_count": null,
   "id": "ecf68397-7cd6-45f9-8613-d8671f4e8e2e",
   "metadata": {
    "autoscroll": false,
    "collapsed": false,
    "ein.hycell": false,
    "ein.tags": "worksheet-0",
    "slideshow": {
     "slide_type": "-"
    }
   },
   "outputs": [],
   "source": [
    "def to_ssr_matrix(L):\n",
    "    \"\"\" Make SSR matrix from a vector or a list.\"\"\"\n",
    "    if L.nops() == 4:\n",
    "        return tuple_to_ssr_matrix(L.op(0), L.op(1), L.op(2), L.op(3), 1)\n",
    "    else:\n",
    "        return tuple_to_ssr_matrix(L.op(0), L.op(1), L.op(2), L.op(3), L.op(4))"
   ]
  },
  {
   "cell_type": "markdown",
   "id": "a8cfdcca-69ff-4a97-ae42-d867ef75ace7",
   "metadata": {
    "collapsed": false,
    "ein.tags": "worksheet-0",
    "slideshow": {
     "slide_type": "-"
    }
   },
   "source": [
    "The converse operation: from matrix to the group element."
   ]
  },
  {
   "cell_type": "code",
   "execution_count": null,
   "id": "5fd9c34b-ab9f-474d-9763-9e854b60e937",
   "metadata": {
    "autoscroll": false,
    "collapsed": false,
    "ein.hycell": false,
    "ein.tags": "worksheet-0",
    "slideshow": {
     "slide_type": "-"
    }
   },
   "outputs": [],
   "source": [
    "def from_ssr_matrix(M1):\n",
    "    \"\"\"Convert a suitable 4x4 matrix into 5-tuple for the SSR matrix\"\"\" \n",
    "    M=evalm(M1)\n",
    "    if (not ((M.op(1) + M.op(2*4+3)*M.op(4+1)).normal().is_zero() and \\\n",
    "        (M.op(2)*M.op(4+1)-M.op(4+3)-M.op(1)*M.op(4+2)).normal().is_zero())):\n",
    "        print(\"Matrix is of the wrong form\")\n",
    "        return [0, 0, 0, 0]\n",
    "    else:\n",
    "        return matrix([[((M.op(3)+M.op(4+3)*M.op(2*4+3))/2).normal(), M.op(4+3), M.op(2*4+3), -M.op(4+2)*M.op(4+1), M.op(4+1)]])"
   ]
  },
  {
   "cell_type": "markdown",
   "id": "556db9d5-2649-42cc-87fb-4e37e3df4fed",
   "metadata": {
    "collapsed": false,
    "ein.tags": "worksheet-0",
    "slideshow": {
     "slide_type": "-"
    }
   },
   "source": [
    "Define some generic elements of SSR group for the symbolic computations."
   ]
  },
  {
   "cell_type": "code",
   "execution_count": null,
   "id": "29f50b92-0d4b-4a39-becd-932716f8dd9e",
   "metadata": {
    "autoscroll": false,
    "collapsed": false,
    "ein.hycell": false,
    "ein.tags": "worksheet-0",
    "slideshow": {
     "slide_type": "-"
    }
   },
   "outputs": [],
   "source": [
    "G0=matrix([[s,x,y,b,1]])\n",
    "G=matrix([[s,x,y,b,r]])\n",
    "\n",
    "s1=realsymbol(\"s'\")\n",
    "x1=realsymbol(\"x'\")\n",
    "y1=realsymbol(\"y'\")\n",
    "b1=realsymbol(\"b'\")\n",
    "r1=possymbol(\"r'\")\n",
    "\n",
    "G1=matrix([[s1,x1,y1,b1,r1]])\n",
    "G10=matrix([[s1,x1,y1,b1,1]])\n",
    "\n",
    "s2=realsymbol(\"s''\")\n",
    "x2=realsymbol(\"x''\")\n",
    "y2=realsymbol(\"y''\")\n",
    "b2=realsymbol(\"b''\")\n",
    "r2=possymbol(\"r''\")\n",
    "\n",
    "G2=matrix([[s2,x2,y2,b2,r2]])\n",
    "G20=matrix([[s2,x2,y2,b2,1]])"
   ]
  },
  {
   "cell_type": "markdown",
   "id": "8625518e-4529-4494-a854-f578526c25e5",
   "metadata": {
    "collapsed": false
   },
   "source": [
    "[Back to ToC](#ToC)"
   ]
  },
  {
   "cell_type": "markdown",
   "id": "3c7f4838-c40b-4168-aea1-55ffd4249f93",
   "metadata": {
    "collapsed": false,
    "ein.tags": "worksheet-0",
    "slideshow": {
     "slide_type": "-"
    }
   },
   "source": [
    "<a id=\"LieGroup\"></a>\n",
    "### Lie group definition\n",
    "\n",
    "We look for the SSR group law in term of the canonical coordinates.\n",
    "\n",
    "First define two elements for helper routines: their outputs produce a valid Python code. The output is used to define the group law in a routine below. The direct definition will execute slightly faster."
   ]
  },
  {
   "cell_type": "code",
   "execution_count": null,
   "id": "a067a000-16c9-4427-80c7-b4a3d528bde3",
   "metadata": {
    "collapsed": false
   },
   "outputs": [],
   "source": [
    "gs=realsymbol(\"G.op(0)\")\n",
    "gx=realsymbol(\"G.op(1)\")\n",
    "gy=realsymbol(\"G.op(2)\")\n",
    "gb=realsymbol(\"G.op(3)\")\n",
    "gr=realsymbol(\"G.op(4)\")\n",
    "Gop=matrix([[gs,gx,gy,gb,gr]])\n",
    "\n",
    "g1s=realsymbol(\"G1.op(0)\")\n",
    "g1x=realsymbol(\"G1.op(1)\")\n",
    "g1y=realsymbol(\"G1.op(2)\")\n",
    "g1b=realsymbol(\"G1.op(3)\")\n",
    "g1r=realsymbol(\"G1.op(4)\")\n",
    "\n",
    "G1op=matrix([[g1s,g1x,g1y,g1b,g1r]])"
   ]
  },
  {
   "cell_type": "markdown",
   "id": "dc21b6bf-0a29-4e8f-98c5-5b6603105653",
   "metadata": {
    "collapsed": false
   },
   "source": [
    "We calculate the group law in the above coordinates and output in plain notations."
   ]
  },
  {
   "cell_type": "code",
   "execution_count": null,
   "id": "d6bb6a2c-730b-44c3-90ee-5fbb975a5962",
   "metadata": {
    "autoscroll": false,
    "collapsed": false,
    "ein.hycell": false,
    "ein.tags": "worksheet-0",
    "slideshow": {
     "slide_type": "-"
    }
   },
   "outputs": [],
   "source": [
    "print_plain(\"Product: \",  from_ssr_matrix(to_ssr_matrix(Gop) * to_ssr_matrix(G1op)))\n",
    "    \n",
    "Latex(\"Product: $%s$\" % evalm(to_ssr_matrix(G) * to_ssr_matrix(G1)))"
   ]
  },
  {
   "cell_type": "markdown",
   "id": "e7a00d87-a7f0-42fc-a3aa-91f811d9d2a9",
   "metadata": {
    "collapsed": false,
    "ein.tags": "worksheet-0",
    "slideshow": {
     "slide_type": "-"
    }
   },
   "source": [
    "We cut & paste the above output to define the multiplication on the group in the next routine:"
   ]
  },
  {
   "cell_type": "code",
   "execution_count": null,
   "id": "3fab141b-be4c-4d2d-a69c-022700d7c161",
   "metadata": {
    "autoscroll": false,
    "collapsed": false,
    "ein.hycell": false,
    "ein.tags": "worksheet-0",
    "slideshow": {
     "slide_type": "-"
    }
   },
   "outputs": [],
   "source": [
    "def ssr_mul(G, G1):\n",
    "    \"\"\" SSR group multiplication of two elements\"\"\" \n",
    "    if type(G) is list:\n",
    "        if len(G) == 4:\n",
    "            G.append(1)\n",
    "        return matrix([[(2*G[1]*G1[2]*G[4]+2*G1[0]*G[4]**2-G[3]*G1[2]**2+2*G[4]**2*G[0])/2*G[4]**(-2),\\\n",
    "                        G[1]-G[3]*G1[2]*G[4]**(-1)+G1[1]*G[4],\\\n",
    "                        G[2]+G1[2]*G[4]**(-1),\\\n",
    "                        G1[3]*G[4]**2+G[3],\\\n",
    "                        G1[4]*G[4]]])\n",
    "    return matrix([[-G.op(4)**(-2)*(G.op(3)*G1.op(2)**2-2*G.op(0)*G.op(4)**2-2*G1.op(2)*G.op(4)*G.op(1)-2*G.op(4)**2*G1.op(0))/2,\\\n",
    "                        G1.op(1)*G.op(4)-G.op(3)*G1.op(2)*G.op(4)**(-1)+G.op(1),\\\n",
    "                        G1.op(2)*G.op(4)**(-1)+G.op(2),\\\n",
    "                        G.op(4)*(G.op(4)*G1.op(3)*G1.op(4)**(-1)+G.op(3)*G.op(4)**(-1)*G1.op(4)**(-1))*G1.op(4),G.op(4)*G1.op(4)]]).normal()    "
   ]
  },
  {
   "cell_type": "markdown",
   "id": "2909efc5-7544-44d9-8d4f-c264a0b30b16",
   "metadata": {
    "collapsed": false
   },
   "source": [
    "New formulae are used to print reduced multiplication law."
   ]
  },
  {
   "cell_type": "code",
   "execution_count": null,
   "id": "a396bc87-110b-49c0-9f43-dcfd139a51a2",
   "metadata": {
    "autoscroll": false,
    "collapsed": false,
    "ein.hycell": false,
    "ein.tags": "worksheet-0",
    "slideshow": {
     "slide_type": "-"
    }
   },
   "outputs": [],
   "source": [
    "display(bool_highlighted(f'Restriction to shear (sub)group: ${ssr_mul(G,G1).subs({r : 1, r1 : 1})}$'))\n",
    "bool_highlighted(f'Group multiplication: ${ssr_mul(G,G1)}$')"
   ]
  },
  {
   "cell_type": "markdown",
   "id": "3e5d246a-0f98-4bf9-825a-e4884f2fbee2",
   "metadata": {
    "collapsed": false,
    "ein.tags": "worksheet-0",
    "slideshow": {
     "slide_type": "-"
    }
   },
   "source": [
    "*Exercise*. We check if the above definition is accurate and agrees with the original formula."
   ]
  },
  {
   "cell_type": "code",
   "execution_count": null,
   "id": "73011352-e252-49ea-9f84-bdd607cf606e",
   "metadata": {
    "autoscroll": false,
    "collapsed": false,
    "ein.hycell": false,
    "ein.tags": "worksheet-0",
    "slideshow": {
     "slide_type": "-"
    }
   },
   "outputs": [],
   "source": [
    "display(bool_highlighted(\"Multiplication the same as from matrices: $%s$\" % evalm(from_ssr_matrix(to_ssr_matrix(G) * to_ssr_matrix(G1))-ssr_mul(G,G1)).normal().is_zero_matrix()))\n",
    "bool_highlighted(\"Check associativity: $%s$\" % evalm(ssr_mul(G,ssr_mul(G1,G2))-ssr_mul(ssr_mul(G,G1),G2)).normal().is_zero_matrix())"
   ]
  },
  {
   "cell_type": "markdown",
   "id": "b0b761b6-d670-4cb1-8eba-91be078fa827",
   "metadata": {
    "collapsed": false
   },
   "source": [
    "*Exercise*. Check the identity element in the SSR group."
   ]
  },
  {
   "cell_type": "code",
   "execution_count": null,
   "id": "2ee4faba-4e26-458a-b4fe-edbd0eacc26d",
   "metadata": {
    "collapsed": false
   },
   "outputs": [],
   "source": [
    "ssr_identity = matrix([[0, 0, 0, 0, 1]])\n",
    "display(bool_highlighted(f'Identity from left: ${(ssr_mul(ssr_identity, G) - G).is_zero()}$' ))\n",
    "bool_highlighted(f'Identity from right: ${(ssr_mul(G, ssr_identity) - G).is_zero()}$' )"
   ]
  },
  {
   "cell_type": "markdown",
   "id": "d5b7e72d-124a-4a51-baf3-5550652573d5",
   "metadata": {
    "collapsed": false
   },
   "source": [
    "Now we produce a string, which can be used to define the inverse element."
   ]
  },
  {
   "cell_type": "code",
   "execution_count": null,
   "id": "96fd61f6-dfa8-4392-b079-e14fdfa70ccb",
   "metadata": {
    "collapsed": false
   },
   "outputs": [],
   "source": [
    "print_plain('Group inverse: ', from_ssr_matrix(pow(to_ssr_matrix(Gop),-1)))"
   ]
  },
  {
   "cell_type": "markdown",
   "id": "56cd7938-84e5-46ae-bdde-274822ab211d",
   "metadata": {
    "collapsed": false,
    "ein.tags": "worksheet-0",
    "slideshow": {
     "slide_type": "-"
    }
   },
   "source": [
    "The last output can be used to create a direct routine SSR inverse:"
   ]
  },
  {
   "cell_type": "code",
   "execution_count": null,
   "id": "a4fa4b4b-84f3-484a-b1f4-a5a9b70f33f9",
   "metadata": {
    "collapsed": false
   },
   "outputs": [],
   "source": [
    "def ssr_inverse(G):\n",
    "    \"\"\" SSR group inverse element\"\"\"\n",
    "    if type(G) is list:\n",
    "        if len(G) == 4:\n",
    "            G.append(1)\n",
    "        return matrix([[G[3]*G[2]**2/2+G[1]*G[2]-G[0],-(G[1]+G[3]*G[2])*G[4]**(-1),-G[2]*G[4],-G[3]*G[4]**(-1),G[4]**(-1)]])\n",
    "    else:\n",
    "        return matrix([[G.op(1)*G.op(2)-G.op(0)+G.op(3)*G.op(2)**2/2,-G.op(4)**(-1)*(G.op(1)+G.op(3)*G.op(2)),-G.op(4)*G.op(2),-G.op(3)*G.op(4)**(-2),G.op(4)**(-1)]])"
   ]
  },
  {
   "cell_type": "markdown",
   "id": "496d4e39-2275-4e26-bbbb-bf8e854c9950",
   "metadata": {
    "collapsed": false,
    "ein.tags": "worksheet-0",
    "slideshow": {
     "slide_type": "-"
    }
   },
   "source": [
    "Check the inverse method:"
   ]
  },
  {
   "cell_type": "code",
   "execution_count": null,
   "id": "cd7ae23b-5cca-4d96-a55d-82f121a953df",
   "metadata": {
    "autoscroll": false,
    "collapsed": false,
    "ein.hycell": false,
    "ein.tags": "worksheet-0",
    "slideshow": {
     "slide_type": "-"
    }
   },
   "outputs": [],
   "source": [
    "display(bool_highlighted(f'Inverse in matrix terms coincides: ${evalm(from_ssr_matrix(pow(to_ssr_matrix(G),-1))-ssr_inverse(G)).is_zero()}$'))\n",
    "display(bool_highlighted(f'Left inverse: ${(ssr_mul(G,ssr_inverse(G))-ssr_identity).is_zero()}$'))\n",
    "bool_highlighted(f'Right inverse: ${(ssr_mul(ssr_inverse(G),G)-ssr_identity).is_zero()}$')\n",
    "Latex(f'Inverse is: ${ssr_inverse(G)}$')"
   ]
  },
  {
   "cell_type": "markdown",
   "id": "2bedea19-a6b8-4634-b0cd-122381241836",
   "metadata": {
    "collapsed": false
   },
   "source": [
    "We calculate the left action on the group:"
   ]
  },
  {
   "cell_type": "code",
   "execution_count": null,
   "id": "0670f063-92a1-4467-a3c5-844cf8405862",
   "metadata": {
    "collapsed": false
   },
   "outputs": [],
   "source": [
    "bool_highlighted(f'${ssr_mul(ssr_inverse(G1),G2)}$')"
   ]
  },
  {
   "cell_type": "markdown",
   "id": "2532ea1d-07a7-4760-8b39-ec00a7be4a62",
   "metadata": {
    "collapsed": false
   },
   "source": [
    "[Back to ToC](#ToC)"
   ]
  },
  {
   "cell_type": "markdown",
   "id": "12f541c3-a2b6-4f4a-967e-9d230cd8f1db",
   "metadata": {
    "collapsed": false
   },
   "source": [
    "<a id=\"subgroupsHS\"></a>\n",
    "## Subgroups and homogeneous spaces\n",
    "\n",
    "We calculate the SSR actions on two homogeneous spaces $G/H$, where $H$ is either\n",
    "\n",
    "+ the maximal abelian subgroup of the SSR group; or\n",
    "+ the centre of the SSR group.\n",
    "\n",
    "We use techniques and notations from [Ref.1](#refAlmalkiKisil19)."
   ]
  },
  {
   "cell_type": "markdown",
   "id": "9b5e709e-f377-4a36-8c97-5de0fe3beea7",
   "metadata": {
    "collapsed": false
   },
   "source": [
    "[Back to ToC](#ToC)"
   ]
  },
  {
   "cell_type": "markdown",
   "id": "869a61d8-73c3-477f-8e3c-a874fa6722be",
   "metadata": {
    "collapsed": false,
    "ein.tags": "worksheet-0",
    "slideshow": {
     "slide_type": "-"
    }
   },
   "source": [
    "<a id=\"maxabelianSubgroup\"></a>\n",
    "### Maximal abelian subgroup\n",
    "\n",
    "Here we define the maximal abelian subgroup and the respective maps:\n",
    "\n",
    "+ projection $p: G \\rightarrow G/H$;\n",
    "+ section $s: G/H \\rightarrow G$;\n",
    "+ the complementary map $r: G \\rightarrow H$."
   ]
  },
  {
   "cell_type": "code",
   "execution_count": null,
   "id": "ea858d28-768c-453f-9255-fbbf50036522",
   "metadata": {
    "collapsed": false
   },
   "outputs": [],
   "source": [
    "def ssr_r_map(G):\n",
    "    \"\"\" r map for the SSR group homogeneous space and the maximal abelean subgroup\"\"\"  \n",
    "    return matrix([[G.op(0), G.op(1), 0, G.op(3), G.op(4)]])\n",
    "\n",
    "def ssr_p_map(G):\n",
    "    \"\"\" p map (natural projection) for the SSR group homogeneous space and the maximal abelean subgroup\"\"\"  \n",
    "    return ssr_mul(G, ssr_inverse(ssr_r_map(G)))\n",
    "\n",
    "def ssr_p_map_param(G):\n",
    "    \"\"\" p map (natural projection) in the parametrised form  for the SSR group homogeneous space and the maximal abelean subgroup\"\"\"  \n",
    "    return ssr_p_map(G).op(2)\n",
    "\n",
    "def ssr_s_map(y):\n",
    "    \"\"\" s map (section) for the SSR group homogeneous space and the maximal abelean subgroup\"\"\"  \n",
    "    return matrix([[0, 0, y, 0, 1]])"
   ]
  },
  {
   "cell_type": "markdown",
   "id": "e3df7911-6ebf-456e-af84-1e8f7a5e9ebc",
   "metadata": {
    "collapsed": false
   },
   "source": [
    "*Exercise*. Print the maps  and check the compatibility."
   ]
  },
  {
   "cell_type": "code",
   "execution_count": null,
   "id": "47ece6f8-bed9-44f3-acc5-cf78ef93b953",
   "metadata": {
    "autoscroll": false,
    "collapsed": false,
    "ein.hycell": false,
    "ein.tags": "worksheet-0",
    "slideshow": {
     "slide_type": "-"
    }
   },
   "outputs": [],
   "source": [
    "display(Latex(f'Map $p({G})={ssr_p_map(G)}$'))\n",
    "display(Latex(f'Map $s({y})={ssr_s_map(y)}$'))\n",
    "display(Latex(f'Map $r({G})={ssr_r_map(G)}$'))\n",
    "display(bool_highlighted(f'Maps agree: $y=p(s(y)): {(y - ssr_p_map_param(ssr_s_map(y))).is_zero()}$'))\n",
    "bool_highlighted(f'Maps agree: $g=s(p(g))r(g): {evalm(G - ssr_mul(ssr_p_map(G),ssr_r_map(G))).is_zero()}$')"
   ]
  },
  {
   "cell_type": "markdown",
   "id": "503557ae-a623-410b-9db8-79df0cd3e4d3",
   "metadata": {
    "collapsed": false
   },
   "source": [
    "The group action $G: G/H \\rightarrow G/H$ on the homogeneous space. "
   ]
  },
  {
   "cell_type": "code",
   "execution_count": null,
   "id": "d8c8e515-393a-4ef7-a963-24baf5a7ed05",
   "metadata": {
    "autoscroll": false,
    "collapsed": false,
    "ein.hycell": false,
    "ein.tags": "worksheet-0",
    "slideshow": {
     "slide_type": "-"
    }
   },
   "outputs": [],
   "source": [
    "display(Latex(\"Action: $%s$\" % ssr_p_map_param(ssr_mul(ssr_inverse(G0), ssr_s_map(y1)))))\n",
    "Latex(\"Char: $%s$\" % ssr_r_map(ssr_mul(ssr_inverse(G0), ssr_s_map(y1))))"
   ]
  },
  {
   "cell_type": "markdown",
   "id": "60c14027-46a5-4164-8e59-7b8898543a5e",
   "metadata": {
    "collapsed": false,
    "ein.tags": "worksheet-0",
    "slideshow": {
     "slide_type": "-"
    }
   },
   "source": [
    "Derivatives of the character of the representation."
   ]
  },
  {
   "cell_type": "code",
   "execution_count": null,
   "id": "bcbef2c5-ab8a-4a87-8519-c70306e1e8f1",
   "metadata": {
    "autoscroll": false,
    "collapsed": false,
    "ein.hycell": false,
    "ein.tags": "worksheet-0",
    "slideshow": {
     "slide_type": "-"
    }
   },
   "outputs": [],
   "source": [
    "h=realsymbol(\"h\", \"\\hbar\")\n",
    "h2=realsymbol(\"h2\", \"h_2\")\n",
    "def chi(G):\n",
    "    \"\"\" General character of the SSR group for the induction of representations \"\"\" \n",
    "    return exp(2*Pi*I*(h2*G.op(3)+h*G.op(0)))\n",
    "\n",
    "display(bool_highlighted(\"ds: $%s$\" % chi(ssr_r_map(ssr_mul(ssr_inverse(G0), ssr_s_map(y1)))).diff(s).subs({s:0, x:0, y:0, b:0, r:1})))\n",
    "display(bool_highlighted(\"dx: $%s$\" % chi(ssr_r_map(ssr_mul(ssr_inverse(G0), ssr_s_map(y1)))).diff(x).subs({s:0, x:0, y:0, b:0, r:1})))\n",
    "display(bool_highlighted(\"dy: $%s$\" % chi(ssr_r_map(ssr_mul(ssr_inverse(G0), ssr_s_map(y1)))).diff(y).subs({s:0, x:0, y:0, b:0, r:1})))\n",
    "bool_highlighted(\"db: $%s$\" % chi(ssr_r_map(ssr_mul(ssr_inverse(G0), ssr_s_map(y1)))).diff(b).subs({s:0, x:0, y:0, b:0, r:1}))"
   ]
  },
  {
   "cell_type": "markdown",
   "id": "a52dfb5f-fb99-4408-b95e-a54852fef653",
   "metadata": {
    "collapsed": false
   },
   "source": [
    "[Back to ToC](#ToC)"
   ]
  },
  {
   "cell_type": "markdown",
   "id": "348ffb3d-faec-4253-bec5-f8782a9cdb0f",
   "metadata": {
    "collapsed": false,
    "ein.tags": "worksheet-0",
    "slideshow": {
     "slide_type": "-"
    }
   },
   "source": [
    "<a id=\"centreSSRGroup\"></a>\n",
    "### The centre of the SSR group\n",
    "\n",
    "Now we repeat the same steps to define homogeneous space for the centre of the SSR group."
   ]
  },
  {
   "cell_type": "code",
   "execution_count": null,
   "id": "f9f16aaa-2b4a-429c-8284-82d11be5150c",
   "metadata": {
    "collapsed": false
   },
   "outputs": [],
   "source": [
    "def ssr_r0_map(G):\n",
    "    \"\"\" r map for the SSR group homogeneous space and its center \"\"\"  \n",
    "    return matrix([[G.op(0),0, 0, 0, 1]])\n",
    "\n",
    "def ssr_p0_map(G):\n",
    "    \"\"\" p map (natural projection) for the SSR group homogeneous space and its center \"\"\"  \n",
    "    return ssr_mul(G, ssr_inverse(ssr_r0_map(G)))\n",
    "\n",
    "def ssr_p0_map_param(G):\n",
    "    \"\"\" p map (natural projection) in parametrised form for the SSR group homogeneous space and its center \"\"\"  \n",
    "    Y = ssr_p0_map(G)\n",
    "    return matrix([[Y.op(1), Y.op(2), Y.op(3), Y.op(4)]])\n",
    "\n",
    "def ssr_s0_map(*args):\n",
    "    \"\"\" s map (section) for the SSR group homogeneous space and its center \"\"\"  \n",
    "    if len(args)==1:\n",
    "        if type(args[0]) is list:\n",
    "            return matrix([[0, args[0][0], args[0][1], args[0][2], args[0][3]]])\n",
    "        elif type(args[0]) is cginac.matrix:\n",
    "            return matrix([[0, args[0].op(0), args[0].op(1), args[0].op(2), args[0].op(3)]])\n",
    "    elif len(args)==3:\n",
    "        return matrix([[0, args[0], args[1], args[2], 1]])\n",
    "    elif len(args)==4:\n",
    "        return matrix([[0, args[0], args[1], args[2], args[3]]])\n",
    "    else:\n",
    "        print(\"Do not know how to handle this number of parameters\")"
   ]
  },
  {
   "cell_type": "markdown",
   "id": "8707e137-cfe2-4643-ba87-95ee1ca37808",
   "metadata": {
    "collapsed": false
   },
   "source": [
    "*Exercise*. Print the maps  and check the compatibility."
   ]
  },
  {
   "cell_type": "code",
   "execution_count": null,
   "id": "635b642b-5e22-4059-bde6-94c5505a2fbf",
   "metadata": {
    "autoscroll": false,
    "collapsed": false,
    "ein.hycell": false,
    "ein.tags": "worksheet-0",
    "slideshow": {
     "slide_type": "-"
    }
   },
   "outputs": [],
   "source": [
    "display(Latex(f'p-map: $p({G})={ssr_p0_map(G)}$'))\n",
    "display(Latex(f'r-map: $r({G})={ssr_r0_map(G)}$'))\n",
    "display(Latex(f's-map: $s({x},{y},{b},{r})={ssr_s0_map([x,y,b,r])}$'))\n",
    "display(bool_highlighted(f's-map is p-map inverse: $x=p(s(x)): {evalm(matrix([[x,y,b,r]])-ssr_p0_map_param(ssr_s0_map([x,y,b,r]))).is_zero()}$'))\n",
    "bool_highlighted(f'Maps agree: ${bool(evalm(G - ssr_mul(ssr_p0_map(G), ssr_r0_map(G)))==0)}$')"
   ]
  },
  {
   "cell_type": "markdown",
   "id": "1816e075-e231-46cb-bb13-1a9370624005",
   "metadata": {
    "collapsed": false,
    "ein.tags": "worksheet-0",
    "slideshow": {
     "slide_type": "-"
    }
   },
   "source": [
    "The action of the SSR group on the $\\mathbb{R}^4$ from the centre."
   ]
  },
  {
   "cell_type": "code",
   "execution_count": null,
   "id": "b52b20b8-1516-4f76-a2aa-6b9b81df63fe",
   "metadata": {
    "autoscroll": false,
    "collapsed": false,
    "ein.hycell": false,
    "ein.tags": "worksheet-0",
    "slideshow": {
     "slide_type": "-"
    }
   },
   "outputs": [],
   "source": [
    "display(bool_highlighted(\"half-Action: $%s$\" % ssr_p0_map_param(ssr_mul(G0, ssr_s0_map(x1,y1,b1,1)))))\n",
    "display(bool_highlighted(\"Action: $%s$\" % ssr_p0_map_param(ssr_mul(ssr_inverse(G0), ssr_s0_map(x1,y1,b1,1)))))\n",
    "bool_highlighted(\"Char: $%s$\" % ssr_r0_map(ssr_mul(ssr_inverse(G0), ssr_s0_map(x1,y1,b1,1))))"
   ]
  },
  {
   "cell_type": "markdown",
   "id": "0b797341-e0fa-4c5a-9527-38c0ff409168",
   "metadata": {
    "collapsed": false
   },
   "source": [
    "[Back to ToC](#ToC)"
   ]
  },
  {
   "cell_type": "markdown",
   "id": "b125cf7f-a66f-4215-96bf-598af1aaa134",
   "metadata": {
    "collapsed": false
   },
   "source": [
    "<a id=\"indeycedRepresentations\"></a>\n",
    "## Induced representations of the SSR group\n",
    "\n",
    "For the above two subgroups (the centre and the maximal abelian) we write down the induced representations."
   ]
  },
  {
   "cell_type": "markdown",
   "id": "3d932de3-0c42-48d2-9746-b7777bcb37a2",
   "metadata": {
    "collapsed": false,
    "ein.tags": "worksheet-0",
    "slideshow": {
     "slide_type": "-"
    }
   },
   "source": [
    "<a id=\"definitionFunctions\"></a>\n",
    "### Definition of the symbolic functions\n",
    "\n",
    "First we need define generic functions `f1`,...,`f6` of several variables to test properties of representations."
   ]
  },
  {
   "cell_type": "code",
   "execution_count": null,
   "id": "09e97529-88e9-4ac1-96dd-a38386e767f0",
   "metadata": {
    "autoscroll": false,
    "collapsed": false,
    "ein.hycell": false,
    "ein.tags": "worksheet-0",
    "slideshow": {
     "slide_type": "-"
    }
   },
   "outputs": [],
   "source": [
    "f1_serial = function.register_new(\"f1\", 1, \"f_1\")\n",
    "\n",
    "def f1(param):\n",
    "    \"\"\" A function of one variable \"\"\"\n",
    "    return function(f1_serial, param)\n",
    "\n",
    "f1p_serial = function.register_new(\"f1p\", 1, \"f_{1p}\")\n",
    "\n",
    "def f1p(param):\n",
    "    \"\"\" Another function of one variable \"\"\"\n",
    "    return function(f1p_serial, param)\n",
    "\n",
    "f2_serial = function.register_new(\"f2\", 2, \"f_2\")\n",
    "\n",
    "def f2(param1, param2):\n",
    "    \"\"\" A function of two variables \"\"\"\n",
    "    return function(f2_serial, param1, param2)\n",
    "\n",
    "f2p_serial = function.register_new(\"f2p\", 2, \"f_{2p}\")\n",
    "\n",
    "def f2p(param1, param2):\n",
    "    \"\"\" Another function of two variables \"\"\"\n",
    "    return function(f2p_serial, param1, param2)\n",
    "\n",
    "f3_serial = function.register_new(\"f3\", 3, \"f_3\")\n",
    "\n",
    "def f3(param1, param2, param3):\n",
    "    \"\"\" A function of three variables \"\"\"\n",
    "    return function(f3_serial, param1, param2, param3)\n",
    "\n",
    "f4_serial = function.register_new(\"f4\", 4, \"f_4\")\n",
    "\n",
    "def f4(*args):\n",
    "    \"\"\" A function of four variables which can be either provided individually \n",
    "    or as an enumerable object\"\"\"\n",
    "    if len(args)==1:\n",
    "        M = args[0]\n",
    "        return function(f4_serial, M.op(0), M.op(1), M.op(2), M.op(3))\n",
    "    elif len(args)==4:\n",
    "        return function(f4_serial, args[0], args[1], args[2], args[3])\n",
    "    else:\n",
    "        print(\"Wrong number of argumentsfor f4\")\n",
    "\n",
    "f5_serial = function.register_new(\"f5\", 5, \"f_5\")\n",
    "\n",
    "def f5(param1, param2, param3, param4, param5):\n",
    "    \"\"\" A function of tive variables \"\"\"\n",
    "    return function(f5_serial, param1, param2, param3, param4, param5)\n",
    "\n",
    "f6_serial = function.register_new(\"f6\", 6, \"f_6\")\n",
    "\n",
    "def f6(param1, param2, param3, param4, param5, param6):\n",
    "    \"\"\" A function of six variables \"\"\"\n",
    "    return function(f6_serial, param1, param2, param3, param4, param5, param6)"
   ]
  },
  {
   "cell_type": "markdown",
   "id": "a09e1f52-e094-4fd4-92f0-1c8e61270014",
   "metadata": {
    "collapsed": false
   },
   "source": [
    "[Back to ToC](#ToC)"
   ]
  },
  {
   "cell_type": "markdown",
   "id": "7e30a611-633a-4280-bafe-16f4c507d6aa",
   "metadata": {
    "collapsed": false
   },
   "source": [
    "<a id=\"inductionCentre\"></a>\n",
    "### Representations of the SSR group induced from the centre\n",
    "\n",
    "First we define the regular vrepresentations of the SSR group."
   ]
  },
  {
   "cell_type": "code",
   "execution_count": null,
   "id": "a786ca7e-1e39-47ae-9540-52379ea04a49",
   "metadata": {
    "collapsed": false
   },
   "outputs": [],
   "source": [
    "def rho_regular(f, G1, derived = Left_action, g=matrix([[s,x,y,b,r]])):\n",
    "    \"\"\" \n",
    "    The regular representations on the SSR group \n",
    "    The first pareameter define the function to be acted and \n",
    "    the last argument describes coordinates on the SSR group used in the function.\n",
    "    The parameter of the shift is the second argument.\n",
    "    The ation is either on the left  (derived=True) or on the right (derived=False)\n",
    "    \"\"\"\n",
    "    if derived:\n",
    "        G2 = ssr_mul(ssr_inverse(G1), g)\n",
    "    else:\n",
    "        G2 = ssr_mul(g, G1)\n",
    "    return f.subs({g[0]: G2[0], g[1] : G2[1], g[2] : G2[2], g[3] : G2[3], g[4] : G2[4]})"
   ]
  },
  {
   "cell_type": "markdown",
   "id": "ea784e60-4f69-4bc5-8618-89bf0e6f294b",
   "metadata": {
    "collapsed": false,
    "ein.tags": "worksheet-0",
    "slideshow": {
     "slide_type": "-"
    }
   },
   "source": [
    "Based on the previous construction of homogeneous space we define the representation."
   ]
  },
  {
   "cell_type": "code",
   "execution_count": null,
   "id": "26598852-eec1-49cf-b9db-9c603c5af7bb",
   "metadata": {
    "autoscroll": false,
    "collapsed": false,
    "ein.hycell": false,
    "ein.tags": "worksheet-0",
    "slideshow": {
     "slide_type": "-"
    }
   },
   "outputs": [],
   "source": [
    "def rho0(f, G1, derived = Left_action, g=matrix([[x,y,b,r]])):\n",
    "    \"\"\" \n",
    "    The representation of the SSR group induced from the centre. \n",
    "    The first pareameter define the function to be acted and \n",
    "    the last argument describes coordinates on the homogeneous space used in the function.\n",
    "    The parameter of the shift is the second argument.\n",
    "    The ation is either on the left  (derived=True) or on the right (derived=False)\n",
    "    \"\"\"\n",
    "    if derived:\n",
    "        G2 = ssr_mul(ssr_inverse(G1), ssr_s0_map(g))\n",
    "    else:\n",
    "        G2 = ssr_mul(ssr_s0_map(g), G1)\n",
    "\n",
    "    return exp(-2*Pi*I*h*G2.op(0)) \\\n",
    "    * f.subs({g[0] : G2[1], g[1] : G2[2], g[2] : G2[3], g[3] : G2[4]})"
   ]
  },
  {
   "cell_type": "markdown",
   "id": "bc312710-c583-46f8-99a2-c28f66ddeeb8",
   "metadata": {
    "collapsed": false,
    "ein.tags": "worksheet-0",
    "slideshow": {
     "slide_type": "-"
    }
   },
   "source": [
    "Print the expression of the representation."
   ]
  },
  {
   "cell_type": "code",
   "execution_count": null,
   "id": "cef41acf-38c9-4e15-97b6-7ea8dc6d8868",
   "metadata": {
    "autoscroll": false,
    "collapsed": false,
    "ein.hycell": false,
    "ein.tags": "worksheet-0",
    "slideshow": {
     "slide_type": "-"
    }
   },
   "outputs": [],
   "source": [
    "display(Latex(\"The representation: $%s$\" % rho0(f4(x1, y1, b1, r1), G, Left_action, matrix([[x1, y1, b1, r1]]))))\n",
    "Latex(\"The right action: $%s$\" % rho0(f4(x, y, b, r), G1, Right_action))"
   ]
  },
  {
   "cell_type": "markdown",
   "id": "735d8e2e-147f-47fd-a28b-ab74e298d2a1",
   "metadata": {
    "collapsed": false,
    "ein.tags": "worksheet-0",
    "slideshow": {
     "slide_type": "-"
    }
   },
   "source": [
    "*Exercise*. Check the associativity (the group homomorphism) of the right action."
   ]
  },
  {
   "cell_type": "code",
   "execution_count": null,
   "id": "0370df06-f82f-4a22-bcf0-2a473d98d6e6",
   "metadata": {
    "autoscroll": false,
    "collapsed": false,
    "ein.hycell": false,
    "ein.tags": "worksheet-0",
    "slideshow": {
     "slide_type": "-"
    }
   },
   "outputs": [],
   "source": [
    "Answer = (rho0(rho0(f4(x, y, b, r), G1, Right_action), G2, Right_action)/rho0(f4(x, y, b, r), ssr_mul(G2,G1), Right_action))\n",
    "Answer = apply_laws(Answer)\n",
    "bool_highlighted(f'Group homomorphism/associativity of the right action: ${(Answer-1).is_zero()}$')"
   ]
  },
  {
   "cell_type": "markdown",
   "id": "6a735124-dcc5-417e-b502-e02b1678c6d2",
   "metadata": {
    "collapsed": false,
    "ein.tags": "worksheet-0",
    "slideshow": {
     "slide_type": "-"
    }
   },
   "source": [
    "*Exercise*. Check the associativity (the group homomorphism) the representation."
   ]
  },
  {
   "cell_type": "code",
   "execution_count": null,
   "id": "d2170eb8-412c-44b7-bf4a-6b8886e7e463",
   "metadata": {
    "autoscroll": false,
    "collapsed": false,
    "ein.hycell": false,
    "ein.tags": "worksheet-0",
    "slideshow": {
     "slide_type": "-"
    }
   },
   "outputs": [],
   "source": [
    "Answer = (rho0(rho0(f4(x, y, b, r), G1), G2)/rho0(f4(x, y, b, r), ssr_mul(G2,G1)))\n",
    "Answer = apply_laws(Answer)\n",
    "bool_highlighted(f'Group homomorphism/associativity of the representation: ${(Answer-1).is_zero()}$')"
   ]
  },
  {
   "cell_type": "markdown",
   "id": "6cd53734-dc58-47fd-bf72-5ea62f82ee82",
   "metadata": {
    "collapsed": false
   },
   "source": [
    "[Back to ToC](#ToC)"
   ]
  },
  {
   "cell_type": "markdown",
   "id": "aa37e735-ea40-440d-8943-d78dab88c53a",
   "metadata": {
    "collapsed": false,
    "ein.tags": "worksheet-0",
    "slideshow": {
     "slide_type": "-"
    }
   },
   "source": [
    "<a id=\"infinitesimalCentre\"></a>\n",
    "#### Infinitesimal (derived) representations of the SSR group induced from the centre\n",
    "\n",
    "We define the routines for calculate infinitesimal derived representations as well"
   ]
  },
  {
   "cell_type": "code",
   "execution_count": null,
   "id": "31d7775d-7c19-4d70-b443-8f23eab5d312",
   "metadata": {
    "autoscroll": false,
    "collapsed": false,
    "ein.hycell": false,
    "ein.tags": "worksheet-0",
    "slideshow": {
     "slide_type": "-"
    }
   },
   "outputs": [],
   "source": [
    "def der(Rho, f, i, Derived=True, g = 0):\n",
    "    \"\"\"\n",
    "    Derived representation/Lie derivative for a SSR group representation given as the first parameter.\n",
    "    The second argument is the function to act on. \n",
    "    The third parameter is the index of the basis element in the Lie algebra of the SSR group.\n",
    "    The fourth parameter tells either to use the derived representation (the left action) \n",
    "    or Lie derivative (the right action).\n",
    "    The last parameter is a list of variables in the function. Its zero value is to use the defaults from the used representation.\n",
    "    \"\"\"\n",
    "    t = realsymbol(\"t\")\n",
    "    T = matrix([[0, 0, 0, 0, 1]])\n",
    "    if i<4:\n",
    "        T[i] = t\n",
    "    else:\n",
    "        T[4] = exp(t)\n",
    "\n",
    "    if (g == 0):\n",
    "        return Rho(f, T, Derived).diff(t).subs({t : 0}).normal()\n",
    "    else:\n",
    "        return Rho(f, T, Derived, g).diff(t).subs({t : 0}).normal()        "
   ]
  },
  {
   "cell_type": "markdown",
   "id": "1a09d2dd-190c-406f-8833-90c660ddda0b",
   "metadata": {
    "collapsed": false,
    "ein.tags": "worksheet-0",
    "slideshow": {
     "slide_type": "-"
    }
   },
   "source": [
    "The procedure to find first order differential operator of a function"
   ]
  },
  {
   "cell_type": "code",
   "execution_count": null,
   "id": "90fa969b-9976-4dd7-a650-e0978d978171",
   "metadata": {
    "autoscroll": false,
    "collapsed": false,
    "ein.hycell": false,
    "ein.tags": "worksheet-0",
    "slideshow": {
     "slide_type": "-"
    }
   },
   "outputs": [],
   "source": [
    "def first_order_vec(Rho, Func, Coef, Derived = Left_action, g = 0):\n",
    "    \"\"\"\n",
    "    First order differential operatror which is the linear combination of the derived representations.\n",
    "    The first argument is a SSR group representation to use.\n",
    "    The second argument is the function to act on. \n",
    "    The third parameter is the vector of coefficients for the linear combination.\n",
    "    The firth parameter says either to use the derived representation or the Lie derivative.\n",
    "    The last parameter is a list of variables in the function. Its zero value is to use the defaults from the used representation.\n",
    "    \"\"\"\n",
    "    vect = []\n",
    "    if type(Coef) is list:\n",
    "        vect = Coef\n",
    "    else:\n",
    "        for i in range(Coef.nops()):\n",
    "            vect.append(Coef.op(i))\n",
    "    result = 0\n",
    "    for i in range(len(vect)):\n",
    "        result = result + vect[i]*der(Rho, Func, i, Derived, g)\n",
    "    return result"
   ]
  },
  {
   "cell_type": "markdown",
   "id": "b9918d05-ddc5-4405-b916-689dd900b4af",
   "metadata": {
    "collapsed": false,
    "ein.tags": "worksheet-0",
    "slideshow": {
     "slide_type": "-"
    }
   },
   "source": [
    "This is the procedure to check commutator relations between vector fields."
   ]
  },
  {
   "cell_type": "code",
   "execution_count": null,
   "id": "76bb3857-f431-494e-9d91-923ab21d56d0",
   "metadata": {
    "autoscroll": false,
    "collapsed": false,
    "ein.hycell": false,
    "ein.tags": "worksheet-0",
    "slideshow": {
     "slide_type": "-"
    }
   },
   "outputs": [],
   "source": [
    "def check_commutator(Rho, Func, i, j, Coef, Derived = Left_action, g = 0):\n",
    "    \"\"\"\n",
    "    Check commutators of the Lie algebra basis elements with index i and j\n",
    "    for the representation Rho. \n",
    "    A symbolic function Func of the right bumber of variables need to be supplied.\n",
    "    The right value of the commutator (as a list of coefficients over the Lie algebra) is supplied in Coef parameter.\n",
    "    Two last parameters has the same meaning as in the derived representation function.\n",
    "    \"\"\"\n",
    "    Val = (der(Rho, der(Rho, Func, j, Derived, g), i, Derived, g)\\\n",
    "        - der(Rho, der(Rho, Func, i, Derived, g), j, Derived, g)\\\n",
    "        - first_order_vec(Rho, Func, Coef, Derived, g)).normal()\n",
    "    return Val"
   ]
  },
  {
   "cell_type": "markdown",
   "id": "3f1efb69-6eb8-462c-98cf-c96d7f039267",
   "metadata": {
    "collapsed": false,
    "ein.tags": "worksheet-0",
    "slideshow": {
     "slide_type": "-"
    }
   },
   "source": [
    "Here is the table of non-zero commutators to check:"
   ]
  },
  {
   "cell_type": "code",
   "execution_count": null,
   "id": "8b157bb3-8ce6-4189-86e6-9c26aa6040ba",
   "metadata": {
    "autoscroll": false,
    "collapsed": false,
    "ein.hycell": false,
    "ein.tags": "worksheet-0",
    "slideshow": {
     "slide_type": "-"
    }
   },
   "outputs": [],
   "source": [
    "Commutators = [ [1, 2, [1,0,0,0,0] ],\\\n",
    "                [4, 1, [0,1,0,0,0] ],\\\n",
    "                [4, 2, [0,0,-1,0,0] ],\\\n",
    "                [4, 3, [0,0,0,2,0] ],\\\n",
    "                [3, 1, [0,0,0,0,0] ],\\\n",
    "                [3, 2, [0,-1,0,0,0] ] ]\n",
    "\n",
    "def check_all_commutator(Rho, Func, Derived = Left_action):\n",
    "    \"\"\" A wrapper to check all commuytators in the SSR group. \"\"\"\n",
    "    title = [\"Checking Derived representation\", \"Checking Lie derivatives\"]\n",
    "    for j in range(2):\n",
    "        print(title[j])\n",
    "        for i in range(len(Commutators)):\n",
    "            display(bool_highlighted(\"$\\qquad$ Check $[%s,%s]$ is correct: $%s$\" % (fields[Commutators[i][0]], fields[Commutators[i][1]],\\\n",
    "                                                                              check_commutator(Rho, Func, Commutators[i][0], Commutators[i][1], Commutators[i][2], j==0).is_zero())))"
   ]
  },
  {
   "cell_type": "markdown",
   "id": "626d6968-2786-4ab5-9685-0c735782f549",
   "metadata": {
    "collapsed": false,
    "ein.tags": "worksheet-0",
    "slideshow": {
     "slide_type": "-"
    }
   },
   "source": [
    "Output of the derived representations and Lie derivatives:"
   ]
  },
  {
   "cell_type": "code",
   "execution_count": null,
   "id": "88bf2e6b-a336-4e56-9fe3-fbcdccaf87ef",
   "metadata": {
    "autoscroll": false,
    "collapsed": false,
    "ein.hycell": false,
    "ein.tags": "worksheet-0",
    "slideshow": {
     "slide_type": "-"
    }
   },
   "outputs": [],
   "source": [
    "print(\"Derived representations:\")\n",
    "for i in range(5):\n",
    "    display(Latex(f\"$\\qquad$ d[{fields[i]}] = ${der(rho0, f4(x, y, b, r), i)}$\"))\n",
    "\n",
    "print(\"Lie derivatives:\")\n",
    "for i in range(5):\n",
    "    display(Latex(f\"$\\qquad$ L[{fields[i]}] = ${der(rho0, f4(x, y, b, r), i, Right_action)}$\"))"
   ]
  },
  {
   "cell_type": "markdown",
   "id": "fb055d2f-b967-455c-af44-e534cf8d67fd",
   "metadata": {
    "collapsed": false,
    "ein.tags": "worksheet-0",
    "slideshow": {
     "slide_type": "-"
    }
   },
   "source": [
    "We are checking all commutators for these vector fields:"
   ]
  },
  {
   "cell_type": "code",
   "execution_count": null,
   "id": "e05c5a1b-482b-4e6f-8f12-d8dba12e0079",
   "metadata": {
    "autoscroll": false,
    "collapsed": false,
    "ein.hycell": false,
    "ein.tags": "worksheet-0",
    "slideshow": {
     "slide_type": "-"
    }
   },
   "outputs": [],
   "source": [
    "check_all_commutator(rho0, f4(x,y,b,r))"
   ]
  },
  {
   "cell_type": "markdown",
   "id": "64ed0673-fc36-40ff-afb3-f2c7b1710bfe",
   "metadata": {
    "collapsed": false
   },
   "source": [
    "[Back to ToC](#ToC)"
   ]
  },
  {
   "cell_type": "markdown",
   "id": "b78cdabc-88ef-41be-b985-deb7aa777ba0",
   "metadata": {
    "collapsed": false,
    "ein.tags": "worksheet-0",
    "slideshow": {
     "slide_type": "-"
    }
   },
   "source": [
    "<a id=\"inducedMaximal\"></a>\n",
    "### The representation induced from the maximal abelian subgroup \n",
    "\n",
    "This representation acts on the real line:"
   ]
  },
  {
   "cell_type": "code",
   "execution_count": null,
   "id": "374c51d9-6466-4339-95b5-3d7696a0b67c",
   "metadata": {
    "autoscroll": false,
    "collapsed": false,
    "ein.hycell": false,
    "ein.tags": "worksheet-0",
    "slideshow": {
     "slide_type": "-"
    }
   },
   "outputs": [],
   "source": [
    "def rho(f, G1, derived = Left_action, g=u):\n",
    "    \"\"\" \n",
    "    The representation of the SSR group induced from the maximal abelean subgroup. \n",
    "    The first pareameter define the function to be acted and \n",
    "    the last argument describes the variable used in the function.\n",
    "    The parameter of the shift is the second argument.\n",
    "    The ation is either on the left  (derived=True) or on the right (derived=False)\n",
    "    \"\"\"\n",
    "    if derived:\n",
    "        G2 = ssr_mul(ssr_inverse(G1), ssr_s_map(g))\n",
    "    else:\n",
    "        G2 = ssr_mul(ssr_s_map(g), G1)\n",
    " \n",
    "    return exp(-2*Pi*I*h*ssr_r_map(G2).op(0)) \\\n",
    "    * pow(G2.op(4),  - numeric(1,2)) * f.subs({g : ssr_p_map_param(G2)})"
   ]
  },
  {
   "cell_type": "markdown",
   "id": "75fb94d2-f72c-477e-bd4c-2060abd28189",
   "metadata": {
    "collapsed": false
   },
   "source": [
    "Print the formula for the representation"
   ]
  },
  {
   "cell_type": "code",
   "execution_count": null,
   "id": "998d67f7-3400-4c2a-b538-00519739b172",
   "metadata": {
    "autoscroll": false,
    "collapsed": false,
    "ein.hycell": false,
    "ein.tags": "worksheet-0",
    "slideshow": {
     "slide_type": "-"
    }
   },
   "outputs": [],
   "source": [
    "Latex(\"The representation is: $%s$\" % rho(f1(y1), G, True, y1))"
   ]
  },
  {
   "cell_type": "markdown",
   "id": "dfa9a9a9-c774-40d3-a8ad-2190573d13aa",
   "metadata": {
    "collapsed": false,
    "ein.tags": "worksheet-0",
    "slideshow": {
     "slide_type": "-"
    }
   },
   "source": [
    "Check associativity (group homomorphism) for the right action, this shall fail."
   ]
  },
  {
   "cell_type": "code",
   "execution_count": null,
   "id": "2d9f91bb-76a4-4c46-960d-dc4d868fcdce",
   "metadata": {
    "collapsed": false
   },
   "outputs": [],
   "source": [
    "Answer = rho(rho(f1(u), G1, Right_action), G2, Right_action)/rho(f1(u), ssr_mul(G2,G1), Right_action)\n",
    "Answer = apply_laws(Answer)\n",
    "Latex(f'Right action associativity fails: ${Answer}$')"
   ]
  },
  {
   "cell_type": "markdown",
   "id": "fade4504-e233-4289-a268-e7c17ed5070f",
   "metadata": {
    "collapsed": false
   },
   "source": [
    "Check associativity (group homomorphism) for the representation."
   ]
  },
  {
   "cell_type": "code",
   "execution_count": null,
   "id": "9f8bc84b-c055-43ed-af15-583482c72f93",
   "metadata": {
    "autoscroll": false,
    "collapsed": false,
    "ein.hycell": false,
    "ein.tags": "worksheet-0",
    "slideshow": {
     "slide_type": "-"
    }
   },
   "outputs": [],
   "source": [
    "Answer = rho(rho(f1(u), G1, Left_action), G2, Left_action)/rho(f1(u), ssr_mul(G2,G1), Left_action)\n",
    "Answer = apply_laws(Answer)\n",
    "bool_highlighted(f'Left action associativity holds: ${(Answer-1).is_zero()}$')\n"
   ]
  },
  {
   "cell_type": "code",
   "execution_count": null,
   "id": "ede32b51-d9a2-4865-af0e-46a66edd6a45",
   "metadata": {
    "autoscroll": false,
    "collapsed": false,
    "ein.hycell": false,
    "ein.tags": "worksheet-0",
    "slideshow": {
     "slide_type": "-"
    }
   },
   "outputs": [],
   "source": [
    "print(\"Derived representation\")\n",
    "for i in range(5):\n",
    "    display(bool_highlighted(f\"$\\qquad$ d[{fields[i]}] = ${der(rho, f1(u), i)}$\"))\n",
    "\n",
    "print(\"Lie deribvatioves\")\n",
    "for i in range(5):\n",
    "    display(bool_highlighted(f\"$\\qquad$ L[{fields[i]}] = ${der(rho, f1(u), i, Right_action)}$\"))    "
   ]
  },
  {
   "cell_type": "markdown",
   "id": "16876301-cafd-4acc-83dc-78d1832292ff",
   "metadata": {
    "collapsed": false,
    "ein.tags": "worksheet-0",
    "slideshow": {
     "slide_type": "-"
    }
   },
   "source": [
    "We check commutators of those field, for the Lie derivative errors can\n",
    "be ignored."
   ]
  },
  {
   "cell_type": "code",
   "execution_count": null,
   "id": "c06e40d6-82c0-4449-a15c-7e82ef0c3acf",
   "metadata": {
    "autoscroll": false,
    "collapsed": false,
    "ein.hycell": false,
    "ein.tags": "worksheet-0",
    "slideshow": {
     "slide_type": "-"
    }
   },
   "outputs": [],
   "source": [
    "check_all_commutator(rho, f1(u))"
   ]
  },
  {
   "cell_type": "markdown",
   "id": "ec4b1263-5b36-415b-9944-d87c9c6017ad",
   "metadata": {
    "collapsed": false
   },
   "source": [
    "[Back to ToC](#ToC)"
   ]
  },
  {
   "cell_type": "markdown",
   "id": "63d8bdcb-290d-4249-83bf-631783ebd783",
   "metadata": {
    "collapsed": false
   },
   "source": [
    "<a id=\"coherentStates\"></a>\n",
    "## Coherent states\n",
    "\n",
    "We are studying the suitable coherent state transforms for the above representation. "
   ]
  },
  {
   "cell_type": "markdown",
   "id": "04d235e2-a25b-429d-b621-e70d2d8419f2",
   "metadata": {
    "collapsed": false,
    "ein.tags": "worksheet-0",
    "slideshow": {
     "slide_type": "-"
    }
   },
   "source": [
    "<a id=\"identifyingVacuum\"></a>\n",
    "### Identifying the vacuum vectors\n",
    "\n",
    "We find the differential equation for vacuum. To construct useful coherent states for the induced covariant transform a vacuum vector needs to satisfy a couple of conditions, see [Ref.2](#refKisil15), [Ref.3](#refKisil17):\n",
    "\n",
    "+ be joint eigenfunction for all representation operators $\\rho(h)$ with $h$ in some subgroup $H$ (the Perelomov's condition).\n",
    "+ be a null solution to certain annihilation operators (analyticity condition) [Ref.2](#refKisil15).\n",
    "\n",
    "We are searching for all vacuums satisfying to both conditions."
   ]
  },
  {
   "cell_type": "markdown",
   "id": "d8ec693a-edef-46d1-a5b7-84d1fbea8a38",
   "metadata": {
    "collapsed": false,
    "ein.tags": "worksheet-0",
    "slideshow": {
     "slide_type": "-"
    }
   },
   "source": [
    "The following parameters will be used to simplify expressions related\n",
    "to vacuum vector."
   ]
  },
  {
   "cell_type": "code",
   "execution_count": null,
   "id": "5f311229-edb5-4ae1-b254-05a6203a2be3",
   "metadata": {
    "autoscroll": false,
    "collapsed": false,
    "ein.hycell": false,
    "ein.tags": "worksheet-0",
    "slideshow": {
     "slide_type": "-"
    }
   },
   "outputs": [],
   "source": [
    "Es = realsymbol(\"Es\", \"E_s\")\n",
    "Ex = realsymbol(\"Ex\", \"E_x\")\n",
    "Ey = realsymbol(\"Ey\", \"E_y\")\n",
    "Er = realsymbol(\"Er\", \"E_r\")\n",
    "Eb = realsymbol(\"Eb\", \"E_b\")\n",
    "sigma = realsymbol(\"sigma\")\n",
    "tau = realsymbol(\"tau\")\n",
    "E_vals = {Eb : sigma*Er, Ex : (Er*tau-sigma)/2}\n",
    "E_homogeneous = {Es : 0, Ey : 1}"
   ]
  },
  {
   "cell_type": "markdown",
   "id": "c54cb2fa-4687-47fb-b3d7-48a6fd8db497",
   "metadata": {
    "collapsed": false,
    "ein.tags": "worksheet-0",
    "slideshow": {
     "slide_type": "-"
    }
   },
   "source": [
    "Here is the complex operator annihilating the vacuum vector:"
   ]
  },
  {
   "cell_type": "code",
   "execution_count": null,
   "id": "7a834c1d-7acd-4e10-8ac5-83fc0c838793",
   "metadata": {
    "autoscroll": false,
    "collapsed": false,
    "ein.hycell": false,
    "ein.tags": "worksheet-0",
    "slideshow": {
     "slide_type": "-"
    }
   },
   "outputs": [],
   "source": [
    "## A direct input\n",
    "#Annihilator = ((Ex*der(rho, f1(u), 1) + I*der(rho, f1(u), 2) + Er*der(rho, f1(u), 4) + I*Eb*der(rho, f1(u), 3))).normal().collect([f1(u),diff(f1(u),u)])\n",
    "## Using the routines\n",
    "Operator = matrix([[I*Es, Ex, I*Ey, I*Eb, Er]])\n",
    "Annihilator = first_order_vec(rho, f1(u), Operator).normal().collect([f1(u),diff(f1(u),u)])\n",
    "display(bool_highlighted(f'Annihilator of vacuum: ${Annihilator}$'))\n",
    "Latex(f'Annihilator of vacuum substituted: ${Annihilator.subs(E_vals).normal().collect([f1(u),diff(f1(u),u)])}$')"
   ]
  },
  {
   "cell_type": "markdown",
   "id": "c3e5a929-9a32-4c9b-8d92-3785cdcaddaf",
   "metadata": {
    "collapsed": false,
    "ein.tags": "worksheet-0",
    "slideshow": {
     "slide_type": "-"
    }
   },
   "source": [
    "We define two vacuum vectors, they are correspond to cases `Er=0` (for `V0`) and non-zero `Er` (for `V1`):"
   ]
  },
  {
   "cell_type": "code",
   "execution_count": null,
   "id": "98cb60fe-be35-4199-9134-4ed5c693d421",
   "metadata": {
    "autoscroll": false,
    "collapsed": false,
    "ein.hycell": false,
    "ein.tags": "worksheet-0",
    "slideshow": {
     "slide_type": "-"
    }
   },
   "outputs": [],
   "source": [
    "a = realsymbol (\"a\")\n",
    "V1 = exp(-Pi*I*h*(2*Ex*Er+Eb*Ey)/Er/Er*u-Pi*h*Eb/Er/2*pow(u,2)) \\\n",
    "    * pow(Er*u-I*Ey, -numeric(1,2)+2*Pi*h*Es/Er+Pi*h*Ey/pow(Er,3)*(2*Ex*Er+Eb*Ey))\n",
    "V0 = exp(-Pi*h*I*Eb/3*pow(u,3)/Ey + Pi*h*Ex*pow(u,2)/Ey + 2*Pi*I*h*Es*u/Ey)\n",
    "\n",
    "display(Latex(f'Vacuum for $E_r\\\\neq 0$: ${V1}$'))\n",
    "display(Latex(f'Vacuum for $E_r\\\\neq 0$ with substitution: ${V1.subs(E_vals).normal()}$'))\n",
    "Latex(f'Vacuum for $E_r = 0$: ${V0}$')"
   ]
  },
  {
   "cell_type": "markdown",
   "id": "61fb34e6-a3d0-4d6d-9670-e85be13b89b5",
   "metadata": {
    "collapsed": false,
    "ein.tags": "worksheet-0",
    "slideshow": {
     "slide_type": "-"
    }
   },
   "source": [
    "Check that they are solutions of the derived representations:"
   ]
  },
  {
   "cell_type": "code",
   "execution_count": null,
   "id": "f77f3eaa-89ea-4751-a11d-6d0b507790ce",
   "metadata": {
    "autoscroll": false,
    "collapsed": false,
    "ein.hycell": false,
    "ein.tags": "worksheet-0",
    "slideshow": {
     "slide_type": "-"
    }
   },
   "outputs": [],
   "source": [
    "bool_highlighted(f'V0 is annihilated by the Operator: ${first_order_vec(rho, V0, Operator.subs({Er : 0})).normal().is_zero()}$')"
   ]
  },
  {
   "cell_type": "code",
   "execution_count": null,
   "id": "b73f6dda-c88f-4ce6-92b1-cbddebb7615d",
   "metadata": {
    "autoscroll": false,
    "collapsed": false,
    "ein.hycell": false,
    "ein.tags": "worksheet-0",
    "slideshow": {
     "slide_type": "-"
    }
   },
   "outputs": [],
   "source": [
    "bool_highlighted(f'V1 is annihilated by the Operator: ${first_order_vec(rho, V1, Operator).normal().is_zero()}$')"
   ]
  },
  {
   "cell_type": "markdown",
   "id": "7d5cda7b-f9d6-4e04-9c66-108c1b8e19ba",
   "metadata": {
    "collapsed": false
   },
   "source": [
    "[Back to ToC](#ToC)"
   ]
  },
  {
   "cell_type": "markdown",
   "id": "e632681a-ac15-425a-8a41-6e626e4d2bc2",
   "metadata": {
    "collapsed": false,
    "ein.tags": "worksheet-0",
    "slideshow": {
     "slide_type": "-"
    }
   },
   "source": [
    "<a id=\"transmutationErNonZero\"></a>\n",
    "### Case of non-zero derivative in R direction (`Er ≠ 0`)\n",
    "\n",
    "We can consider two different cases for the above two different vacuum vectors depending on either `Er` is zero or not.."
   ]
  },
  {
   "cell_type": "markdown",
   "id": "5bc07fd6-167b-4dbd-8626-dcd28d8cb2cf",
   "metadata": {
    "collapsed": false,
    "ein.tags": "worksheet-0",
    "slideshow": {
     "slide_type": "-"
    }
   },
   "source": [
    "We calculate the coherent state through the group action on the vacuums:"
   ]
  },
  {
   "cell_type": "code",
   "execution_count": null,
   "id": "d3a9a31e-ac2c-460f-974f-56e2e87f7e99",
   "metadata": {
    "autoscroll": false,
    "collapsed": false,
    "ein.hycell": false,
    "ein.tags": "worksheet-0",
    "slideshow": {
     "slide_type": "-"
    }
   },
   "outputs": [],
   "source": [
    "display(Latex(\"Coherent states for $E_r\\\\neq 0$: $%s$\" % \\\n",
    "                 apply_laws(rho(V1, G, Left_action).subs(E_vals).subs(E_homogeneous))))\n",
    "display(Latex(\"Coherent states for $E_r=0$: $%s$\" % \\\n",
    "         apply_laws(rho(V0, G, Left_action).subs({Er : 0}).subs(E_homogeneous))))\n",
    "Latex(\"Coherent states for $E_r=0$ with substitution quadratic: $%s$\" % \\\n",
    "         apply_laws(rho(V0, G, Left_action).subs(E_homogeneous).subs({Er : 0, Eb : 0})))"
   ]
  },
  {
   "cell_type": "markdown",
   "id": "d3dfb892-9a0e-4b49-832a-161c1430d736",
   "metadata": {
    "collapsed": false
   },
   "source": [
    "Show that for certain combinations of coefficients from `V0` and `V1` we get the same Gaussian."
   ]
  },
  {
   "cell_type": "code",
   "execution_count": null,
   "id": "8491b103-696a-46af-a1ad-8138247d5b1e",
   "metadata": {
    "collapsed": false
   },
   "outputs": [],
   "source": [
    "E_first = {Es : 0, Ex : -1, Ey : 1, Eb : 0, Er : 0}\n",
    "E_second = {Es: 1/h/Pi/4, Ex : 0, Ey : 0, Eb : 2, Er : 1}\n",
    "if ((V0.subs(E_first) - V1.subs(E_second)).normal().is_zero()):\n",
    "    display(Latex(\"Both cases $E_r=0$ and $E_r\\\\neq 0$ with some substitution produce the Gaussian: $%s$\" % \\\n",
    "          V0.subs(E_first)))"
   ]
  },
  {
   "cell_type": "markdown",
   "id": "23b70b89-3a9e-46a1-991e-cc14d976207e",
   "metadata": {
    "collapsed": false,
    "ein.tags": "worksheet-0",
    "slideshow": {
     "slide_type": "-"
    }
   },
   "source": [
    "It shows that without a loss of generality we can put $\\sigma = 1$ and\n",
    "$\\tau = 0$, or $E_b = E_r$ and $E_x = -1/2$."
   ]
  },
  {
   "cell_type": "code",
   "execution_count": null,
   "id": "bbe1e4a1-1f22-41aa-bbac-ef17f550e64b",
   "metadata": {
    "autoscroll": false,
    "collapsed": false,
    "ein.hycell": false,
    "ein.tags": "worksheet-0",
    "slideshow": {
     "slide_type": "-"
    }
   },
   "outputs": [],
   "source": [
    "E_narrow = {Es : 0, Ex : -numeric(1,2), Ey : 1, Eb : Er}\n",
    "E_strict = {Es : 0, Ex : -numeric(1,2), Ey : 1, Eb : 1, Er : 1}\n",
    "Kernel = apply_laws(rho(V1.subs(E_strict), matrix([[s,x,y,b,r]]), Left_action))\n",
    "Latex(\"The kernel: $%s$\" % Kernel)"
   ]
  },
  {
   "cell_type": "markdown",
   "id": "cbf1af79-956d-43b0-977f-ae0ed3d197ea",
   "metadata": {
    "collapsed": false,
    "ein.tags": "worksheet-0",
    "slideshow": {
     "slide_type": "-"
    }
   },
   "source": [
    "This is the function which need to be integrated in $u$ to obtain the\n",
    "reproducing kernel of the image space."
   ]
  },
  {
   "cell_type": "code",
   "execution_count": null,
   "id": "1e94dc15-182f-4685-9b1d-750657aefc5a",
   "metadata": {
    "autoscroll": false,
    "collapsed": false,
    "ein.hycell": false,
    "ein.tags": "worksheet-0",
    "slideshow": {
     "slide_type": "-"
    }
   },
   "outputs": [],
   "source": [
    "Repro_pre = apply_laws(V1.subs(E_strict)*conjugate(Kernel))\n",
    "Latex(\"The pre-reproducing kernel: $%s$\" % Repro_pre)"
   ]
  },
  {
   "cell_type": "markdown",
   "id": "a78bc584-ca58-4531-8d72-0c1d8ddebb94",
   "metadata": {
    "collapsed": false,
    "ein.tags": "worksheet-0",
    "slideshow": {
     "slide_type": "-"
    }
   },
   "source": [
    "The image space shall be annihilated by the operator:"
   ]
  },
  {
   "cell_type": "code",
   "execution_count": null,
   "id": "fc595ae8-91f1-41ff-ab98-80c45b0fc15b",
   "metadata": {
    "autoscroll": false,
    "collapsed": false,
    "ein.hycell": false,
    "ein.tags": "worksheet-0",
    "slideshow": {
     "slide_type": "-"
    }
   },
   "outputs": [],
   "source": [
    "Image_annihilator = first_order_vec(rho0, f4(x, y, b, r), conjugate(Operator)).normal() \\\n",
    "    .collect([f4(x, y, b, r), diff(f4(x, y, b, r),x), diff(f4(x, y, b, r),y), diff(f4(x, y, b, r),b), diff(f4(x, y, b, r),r)])\n",
    "display(Latex(f'Annihilator of the image space: ${Image_annihilator}$'))\n",
    "Latex(f'Annihilator of the image space substituted: ${Image_annihilator.subs(E_vals).normal().collect([f4(x, y, b, r), diff(f4(x, y, b, r),x), diff(f4(x, y, b, r),y), diff(f4(x, y, b, r),b), diff(f4(x, y, b, r),r)])}$')"
   ]
  },
  {
   "cell_type": "markdown",
   "id": "367c55eb-287e-4d19-82c9-6fdb3d0db577",
   "metadata": {
    "collapsed": false,
    "ein.tags": "worksheet-0",
    "slideshow": {
     "slide_type": "-"
    }
   },
   "source": [
    "The restricted value is:"
   ]
  },
  {
   "cell_type": "code",
   "execution_count": null,
   "id": "033c4189-8543-45db-8262-f5b3ee991d1b",
   "metadata": {
    "autoscroll": false,
    "collapsed": false,
    "ein.hycell": false,
    "ein.tags": "worksheet-0",
    "slideshow": {
     "slide_type": "-"
    }
   },
   "outputs": [],
   "source": [
    "display(Latex(f'Annihilator of the image space narrow: ${Image_annihilator.subs(E_narrow).normal().collect([f4(x, y, b, r), diff(f4(x, y, b, r),x), diff(f4(x, y, b, r),y), diff(f4(x, y, b, r),b), diff(f4(x, y, b, r),r)])}$'))\n",
    "Latex(f'Annihilator of the image space strict: ${Image_annihilator.subs(E_strict).normal().collect([f4(x, y, b, r), diff(f4(x, y, b, r),x), diff(f4(x, y, b, r),y), diff(f4(x, y, b, r),b), diff(f4(x, y, b, r),r)])}$')"
   ]
  },
  {
   "cell_type": "markdown",
   "id": "6aad1edb-1bb5-4ee1-8e8f-fbdd9b0f23f9",
   "metadata": {
    "collapsed": false,
    "ein.tags": "worksheet-0",
    "slideshow": {
     "slide_type": "-"
    }
   },
   "source": [
    "Check if the kernel is annihilated by operator:"
   ]
  },
  {
   "cell_type": "code",
   "execution_count": null,
   "id": "e8ec3f5d-439c-447f-8c0a-19350ae120ae",
   "metadata": {
    "autoscroll": false,
    "collapsed": false,
    "ein.hycell": false,
    "ein.tags": "worksheet-0",
    "slideshow": {
     "slide_type": "-"
    }
   },
   "outputs": [],
   "source": [
    "MyKernel = Kernel.normal()\n",
    "Answer = (first_order_vec(rho_regular, MyKernel, Operator.subs(E_strict), Right_action)/MyKernel*sqrt(r)).expand().normal()\n",
    "display(bool_highlighted(f'Kernel is analytic: ${Answer.is_zero()}$'))"
   ]
  },
  {
   "cell_type": "markdown",
   "id": "617ad49b-0038-4f0a-89f5-89e28a191595",
   "metadata": {
    "collapsed": false
   },
   "source": [
    "[Back to ToC](#ToC)"
   ]
  },
  {
   "cell_type": "markdown",
   "id": "f8296414-97ad-4bbf-a462-e81306d6854f",
   "metadata": {
    "collapsed": false,
    "ein.tags": "worksheet-0",
    "slideshow": {
     "slide_type": "-"
    }
   },
   "source": [
    "<a id=\"transmutationErZero\"></a>\n",
    "### The case of vanishing derivative in R direction (`Er = 0`)\n",
    "\n",
    "For our purposes it is enough to consider the simplest possible case."
   ]
  },
  {
   "cell_type": "code",
   "execution_count": null,
   "id": "41c87e9c-e483-4f9f-a7d3-76919ac1a8a2",
   "metadata": {
    "autoscroll": false,
    "collapsed": false,
    "ein.hycell": false,
    "ein.tags": "worksheet-0",
    "slideshow": {
     "slide_type": "-"
    }
   },
   "outputs": [],
   "source": [
    "Kernel = conjugate(rho(V0.subs(E_first), matrix([[0,x,y,b,r]]), True))\\\n",
    "         .subs(exponent_laws).normal()\n",
    "Latex(\"The kernel: $%s$\" % Kernel)"
   ]
  },
  {
   "cell_type": "markdown",
   "id": "df320b91-e707-40b0-94ba-f4384fc198fd",
   "metadata": {
    "collapsed": false,
    "ein.tags": "worksheet-0",
    "slideshow": {
     "slide_type": "-"
    }
   },
   "source": [
    "Manually inserted kernel, shall be the same as calculated"
   ]
  },
  {
   "cell_type": "code",
   "execution_count": null,
   "id": "ee19d1af-71fc-465a-af2e-315482854f5a",
   "metadata": {
    "autoscroll": false,
    "collapsed": false,
    "ein.hycell": false,
    "ein.tags": "worksheet-0",
    "slideshow": {
     "slide_type": "-"
    }
   },
   "outputs": [],
   "source": [
    "MyKernel = sqrt(r)*exp(-Pi*h*((r**2-I*b)*pow(u-y,2)+2*I*(u-y)*x))\n",
    "bool_highlighted(f'The manual kernel is correct: ${(apply_laws((Kernel/MyKernel).subs(E_first))-1).is_zero()}$')"
   ]
  },
  {
   "cell_type": "markdown",
   "id": "57a2963a-d406-469a-bda3-8ef1ee31b36c",
   "metadata": {
    "collapsed": false
   },
   "source": [
    "Manually type the kernel in the reduced form and check it correctness:"
   ]
  },
  {
   "cell_type": "code",
   "execution_count": null,
   "id": "6d98d108-56fd-4bac-9473-a7521c80c005",
   "metadata": {
    "collapsed": false
   },
   "outputs": [],
   "source": [
    "#Denom1 = (sqrt(r)*pow(-I+r*(u-y), -numeric(1,2))).normal()\n",
    "MyKernel = (exp(Pi*h*(-(r**2+I*b)*pow(u-y,2)+2*I*(u-y)*x))*sqrt(r)).normal()\n",
    "Delta = apply_laws(conjugate(MyKernel)/Kernel, with_power_laws)\n",
    "MyKernel = (exp(Pi*h*(-(r**2-I*b)*pow(u-y,2)-2*I*(u-y)*x))*sqrt(r)).normal()\n",
    "bool_highlighted(f'Manual kernel is correct: ${(Delta-1).is_zero()}$')"
   ]
  },
  {
   "cell_type": "markdown",
   "id": "94696235-3912-4aae-a1a7-99a8d4fa78b1",
   "metadata": {
    "collapsed": false
   },
   "source": [
    "We calculate the reproducing kernel $K=\\langle \\phi_{g_1},\n",
    "\\phi_{g_2}\\rangle = \\langle \\phi_{0}, \\phi_{g_1^{-1}g_2}\\rangle$. It\n",
    "is the shift on the group of the image of the vacuum $e^{-\\pi h u^2}$\n",
    ", which is the function $\\sqrt{\\frac{r}{b+i(r^2+1)}} \\exp(-\\pi h y^2)\n",
    "\\exp(-\\pi h (x-iy)/(r^2+1-ib))$. "
   ]
  },
  {
   "cell_type": "code",
   "execution_count": null,
   "id": "043af2ff-d742-4c3e-86c0-e072a7f60e42",
   "metadata": {
    "collapsed": false
   },
   "outputs": [],
   "source": [
    "vacuum =  sqrt(r1/(b1+I*(r1**2+1))) * exp(-Pi * h * y1**2) * exp(-Pi * h * pow(x1-I*y1,2)/(r1**2+1-I*b1))\n",
    "#display(str(f'{apply_laws(rho0(vacuum, (matrix([[0,x,y,b,r]])), Left_action, matrix([[x1,y1,b1,r1]])).normal()).normal()}'))\n",
    "Latex(\"The kernel: $%s$\" % rho0(vacuum, (matrix([[0,x,y,b,r]])), Left_action, matrix([[x1,y1,b1,r1]])).normal())"
   ]
  },
  {
   "cell_type": "markdown",
   "id": "71aadc2c-3f2b-4c25-a981-20a56438fbc3",
   "metadata": {
    "collapsed": false
   },
   "source": [
    "[Back to ToC](#ToC)"
   ]
  },
  {
   "cell_type": "markdown",
   "id": "2aec932a-e499-41c8-a7cc-f7fd43453cd7",
   "metadata": {
    "collapsed": false
   },
   "source": [
    "<a id=\"CRannihilator\"></a>\n",
    "### Annihilating operators of Cauchy–Riemann type (first order)\n",
    "\n",
    "There is two pairs of complex coordinates which define a sort of analyticity. We call the respective operators of Cauchy–Riemann type."
   ]
  },
  {
   "cell_type": "markdown",
   "id": "509dd017-59b0-4e61-ab38-01a7b74c324e",
   "metadata": {
    "collapsed": false,
    "ein.tags": "worksheet-0",
    "slideshow": {
     "slide_type": "-"
    }
   },
   "source": [
    "<a id=\"CRphaseSpace\"></a>\n",
    "#### The phase-space pair\n",
    "\n",
    "We check that it satisfies the analyticity condition for the variable $z=x + (b+i r^2)y$.."
   ]
  },
  {
   "cell_type": "code",
   "execution_count": null,
   "id": "cd6dc823-337f-48c8-bce2-6b1fe243bf7b",
   "metadata": {
    "autoscroll": false,
    "collapsed": false,
    "ein.hycell": false,
    "ein.tags": "worksheet-0",
    "slideshow": {
     "slide_type": "-"
    }
   },
   "outputs": [],
   "source": [
    "Answer = (first_order_vec(rho0, Kernel, conjugate(Operator.subs(E_first)), Right_action)/MyKernel*sqrt(r)).expand().normal()\n",
    "bool_highlighted(f'Kernel satisfies the first analyticity condition: ${Answer.is_zero()}$')\n",
    "#Latex(f'Kernel satisfies the first analyticity condition: {Answer}')"
   ]
  },
  {
   "cell_type": "markdown",
   "id": "6d29d285-e8f7-4cc3-a545-55e3bfc00336",
   "metadata": {
    "collapsed": false,
    "ein.tags": "worksheet-0",
    "slideshow": {
     "slide_type": "-"
    }
   },
   "source": [
    "The form of the annihilated operator:"
   ]
  },
  {
   "cell_type": "code",
   "execution_count": null,
   "id": "e9782680-e6d3-4f5d-a58a-0610084df7e0",
   "metadata": {
    "autoscroll": false,
    "collapsed": false,
    "ein.hycell": false,
    "ein.tags": "worksheet-0",
    "slideshow": {
     "slide_type": "-"
    }
   },
   "outputs": [],
   "source": [
    "def Cauchy_first(Func):\n",
    "    \"\"\" First Cauchy-Riemann type operator on the image space \"\"\"\n",
    "    return -first_order_vec(rho0, Func, conjugate(Operator.subs(E_first)), Right_action)\n",
    "\n",
    "Image_annihilator = Cauchy_first(f4(x, y, b, r)).normal().expand() \\\n",
    "    .collect([f4(x, y, b, r), diff(f4(x, y, b, r),x), diff(f4(x, y, b, r),y), diff(f4(x, y, b, r),b), diff(f4(x, y, b, r),r)])\n",
    "bool_highlighted(f'Annihilator of the image space strict: ${Image_annihilator}$')"
   ]
  },
  {
   "cell_type": "markdown",
   "id": "2c8fd775-7427-4f5a-8d8b-85bfef678fb0",
   "metadata": {
    "collapsed": false
   },
   "source": [
    "For the better performance some basic expressions need to be stored in\n",
    "the normalised form."
   ]
  },
  {
   "cell_type": "code",
   "execution_count": null,
   "id": "ff515817-072f-4290-8045-d65613ad84b4",
   "metadata": {
    "collapsed": false
   },
   "outputs": [],
   "source": [
    "zn = (x+(b+I*r**2)*y).normal()\n",
    "wn = (b+I*r**2).normal()"
   ]
  },
  {
   "cell_type": "markdown",
   "id": "4462bf9f-8692-4ad0-9b4f-7179c0f5c7c4",
   "metadata": {
    "collapsed": false
   },
   "source": [
    "The generic solution of this equation:"
   ]
  },
  {
   "cell_type": "code",
   "execution_count": null,
   "id": "e74061ff-834a-48f6-9233-e6b38e39b9b6",
   "metadata": {
    "collapsed": false
   },
   "outputs": [],
   "source": [
    "Generic_factor = (sqrt(r)*exp(-Pi*I*h*x*x/wn)).normal()\n",
    "Generic_first = Generic_factor*f2(zn, wn)\n",
    "Image_annihilator = Cauchy_first(Generic_first).normal()\n",
    "bool_highlighted(f'Annihilator of the image space phase-space pair: ${Image_annihilator.is_zero()}$')"
   ]
  },
  {
   "cell_type": "markdown",
   "id": "9f6add92-04af-4dbd-923c-3e2c511e499b",
   "metadata": {
    "collapsed": false
   },
   "source": [
    "[Back to ToC](#ToC)"
   ]
  },
  {
   "cell_type": "markdown",
   "id": "1835ff08-d530-4e64-a5d3-f0930b0dae77",
   "metadata": {
    "collapsed": false,
    "ein.tags": "worksheet-0",
    "slideshow": {
     "slide_type": "-"
    }
   },
   "source": [
    "<a id=\"CRaffineGroup\"></a>\n",
    "#### Affine group analyticity\n",
    "\n",
    "The second pair of variables connected by the first-order relations:"
   ]
  },
  {
   "cell_type": "code",
   "execution_count": null,
   "id": "14786e0e-ba62-48be-b406-f1ac4bd31b2e",
   "metadata": {
    "autoscroll": false,
    "collapsed": false,
    "ein.hycell": false,
    "ein.tags": "worksheet-0",
    "slideshow": {
     "slide_type": "-"
    }
   },
   "outputs": [],
   "source": [
    "Answer = (first_order_vec(rho, V0.subs(E_first), Operator.subs(E_second))).expand().normal()\n",
    "bool_highlighted(f'Vacuum is annihilated by the second operator: ${Answer.is_zero()}$')"
   ]
  },
  {
   "cell_type": "code",
   "execution_count": null,
   "id": "3e00baea-18a6-46d4-9690-16375bb530d7",
   "metadata": {
    "autoscroll": false,
    "collapsed": false,
    "ein.hycell": false,
    "ein.tags": "worksheet-0",
    "slideshow": {
     "slide_type": "-"
    }
   },
   "outputs": [],
   "source": [
    "def Cauchy_second(Func):\n",
    "    \"\"\" The second Cauchy-Riemann type operator on the image space \"\"\"\n",
    "    return first_order_vec(rho0, Func, conjugate(matrix([[1/h/Pi/4,0,0,2,-I]])), Right_action)\n",
    "\n",
    "Answer = Cauchy_second(MyKernel).expand().normal()\n",
    "bool_highlighted(f'Kernel satisfies the second analyticity condition: ${Answer.is_zero()}$')"
   ]
  },
  {
   "cell_type": "markdown",
   "id": "833b4c2a-df2a-42f5-a3bb-0430dfca71c3",
   "metadata": {
    "collapsed": false,
    "ein.tags": "worksheet-0",
    "slideshow": {
     "slide_type": "-"
    }
   },
   "source": [
    "This is the respective differential operator:"
   ]
  },
  {
   "cell_type": "code",
   "execution_count": null,
   "id": "b2c341ff-7aea-4b1b-88ed-63cd1f93df12",
   "metadata": {
    "autoscroll": false,
    "collapsed": false,
    "ein.hycell": false,
    "ein.tags": "worksheet-0",
    "slideshow": {
     "slide_type": "-"
    }
   },
   "outputs": [],
   "source": [
    "Answer = Cauchy_second(f4(x,y,b,r)).expand().normal()\n",
    "Latex(f'Annihilator of the image space strict: ${Answer}$')"
   ]
  },
  {
   "cell_type": "markdown",
   "id": "a0db0dec-1d65-4d04-8400-42d75dec3832",
   "metadata": {
    "collapsed": false
   },
   "source": [
    "Check the generic solution of both analyticity conditions:"
   ]
  },
  {
   "cell_type": "code",
   "execution_count": null,
   "id": "e6e57c17-3478-435f-a0d7-c004ea370d03",
   "metadata": {
    "collapsed": false
   },
   "outputs": [],
   "source": [
    "Image_annihilator = Cauchy_second(Generic_first).expand().normal()\n",
    "bool_highlighted(f'Check the second analyticity condition: ${Image_annihilator.is_zero()}$')"
   ]
  },
  {
   "cell_type": "markdown",
   "id": "4d197c82-fdb4-464f-8c1f-1efb772fd93e",
   "metadata": {
    "collapsed": false
   },
   "source": [
    "[Back to ToC](#ToC)"
   ]
  },
  {
   "cell_type": "markdown",
   "id": "dc6600df-12b0-440d-8d69-ebbe84fe4464",
   "metadata": {
    "collapsed": false
   },
   "source": [
    "<a id=\"complexVariables\"></a>\n",
    "#### Complex symbolic variables\n",
    "\n",
    "The above first-order differential operators prompts introduction of pairs of complex variables, which we symbolically denote by the following symbolic variables."
   ]
  },
  {
   "cell_type": "code",
   "execution_count": null,
   "id": "7ebd820a-8686-4b30-8d4a-eb45f0d1ea54",
   "metadata": {
    "collapsed": false
   },
   "outputs": [],
   "source": [
    "Z = symbol(\"Z\", \"z\")\n",
    "W = symbol(\"W\", \"w\")\n",
    "complex_vars = {Z : zn, W : wn}\n",
    "\n",
    "Z1 = symbol(\"Z1\", \"z_1\")\n",
    "Z2 = symbol(\"Z2\", \"z_2\")\n",
    "W1 = symbol(\"W1\", \"w_1\")\n",
    "W2 = symbol(\"W2\", \"w_2\")\n",
    "\n",
    "z2n = (x2+(b2+I*r2**2)*y2).normal()\n",
    "w2n = (b2+I*r2**2).normal()\n",
    "complex_vars1 = {Z1 : zn, W1 : wn}\n",
    "\n",
    "complex_vars2 = {Z1 : zn, W1 : wn,  Z2 : z2n, W2 : w2n}"
   ]
  },
  {
   "cell_type": "markdown",
   "id": "d3362097-eac3-4520-810c-b648166d1573",
   "metadata": {
    "collapsed": false
   },
   "source": [
    "[Back to ToC](#ToC)"
   ]
  },
  {
   "cell_type": "markdown",
   "id": "06849fee-1b4b-4efa-9bb7-102422230a62",
   "metadata": {
    "collapsed": false
   },
   "source": [
    "<a id=\"secondOrderAnnihilator\"></a>\n",
    "### Wave/Schrödinger annihilators (second order)\n",
    "\n",
    "Search for the second-order relations. "
   ]
  },
  {
   "cell_type": "markdown",
   "id": "6e690475-4601-4407-bca7-6260b5832deb",
   "metadata": {
    "collapsed": false,
    "ein.tags": "worksheet-0",
    "slideshow": {
     "slide_type": "-"
    }
   },
   "source": [
    "<a id=\"secondOrderAnnihilatorB\"></a>\n",
    "#### Second order annihilator for $B$\n",
    "\n",
    "First we do it for the vector field $B$. The particular property of the representation is $X^2+2SB=0$:"
   ]
  },
  {
   "cell_type": "code",
   "execution_count": null,
   "id": "29a6abf4-d887-4c4e-b2ab-fd16e1a570ca",
   "metadata": {
    "autoscroll": false,
    "collapsed": false,
    "ein.hycell": false,
    "ein.tags": "worksheet-0",
    "slideshow": {
     "slide_type": "-"
    }
   },
   "outputs": [],
   "source": [
    "Answer = ((der(rho, der(rho, f1(u), 1), 1) + 2*der(rho, der(rho, f1(u), 3), 0)))\\\n",
    "    .subs(exponent_laws).normal()\n",
    "bool_highlighted(f'Representation of $X^2+2SB$ is zero: ${Answer.is_zero()}$')"
   ]
  },
  {
   "cell_type": "markdown",
   "id": "be6d3efc-cbdd-41ac-9d42-8616f0db47eb",
   "metadata": {
    "collapsed": false
   },
   "source": [
    "Therefore we can define the respective structural condition for the image."
   ]
  },
  {
   "cell_type": "code",
   "execution_count": null,
   "id": "2f70afd2-abc5-4e21-a55d-f28f8ea10f04",
   "metadata": {
    "autoscroll": false,
    "collapsed": false,
    "ein.hycell": false,
    "ein.tags": "worksheet-0",
    "slideshow": {
     "slide_type": "-"
    }
   },
   "outputs": [],
   "source": [
    "def Structural(Func, g = matrix([[x,y,b,r]])):\n",
    "    \"\"\" The structural condition on the image space \"\"\"\n",
    "    return -(der(rho0, der(rho0, Func, 1, Right_action, g), 1, Right_action, g) \\\n",
    "            + 2*der(rho0, der(rho0, Func, 3, Right_action, g), 0, Right_action, g))\n",
    "\n",
    "Answer = (Structural(MyKernel)/Generic_factor)\\\n",
    "    .subs(exponent_laws).expand().normal()\n",
    "bool_highlighted(f'Annihilated by the first second-order operator: ${Answer.is_zero()}$')"
   ]
  },
  {
   "cell_type": "markdown",
   "id": "59867490-5748-4294-a23b-38cec5cfd802",
   "metadata": {
    "collapsed": false
   },
   "source": [
    "The form of the annihilating operator."
   ]
  },
  {
   "cell_type": "code",
   "execution_count": null,
   "id": "5a7ffa58-6dc4-4e8c-8888-3d12453aac35",
   "metadata": {
    "autoscroll": false,
    "collapsed": false,
    "ein.hycell": false,
    "ein.tags": "worksheet-0",
    "slideshow": {
     "slide_type": "-"
    }
   },
   "outputs": [],
   "source": [
    "Answer = Structural(f4(x,y,b,r)).subs(exponent_laws).normal()\n",
    "Latex(f'The form of the operator: ${Answer}$')"
   ]
  },
  {
   "cell_type": "markdown",
   "id": "4c6da734-3d7f-447b-8486-9adb01e23ca2",
   "metadata": {
    "collapsed": false
   },
   "source": [
    "We will often prefer to have expressions in complex variables, The\n",
    "next method makes such a substitution:"
   ]
  },
  {
   "cell_type": "code",
   "execution_count": null,
   "id": "083adc95-262d-415f-abe3-ee31f55dd1c6",
   "metadata": {
    "collapsed": false
   },
   "outputs": [],
   "source": [
    "def to_complex(Expr):\n",
    "    \"\"\" Convert coordinates on the homogeneous space to complex form\"\"\"\n",
    "    return Expr.subs({x : Z -(b+I*r**2)*y}).subs({b : W -I*r**2})\\\n",
    "        .subs({x2 : Z2 -(b2+I*r2**2)*y2}).subs({b2 : W2 -I*r2**2}).normal()"
   ]
  },
  {
   "cell_type": "markdown",
   "id": "98358517-a54e-4127-a20e-7bc3cce3a25c",
   "metadata": {
    "collapsed": false
   },
   "source": [
    "Structural action on the generic solution is:"
   ]
  },
  {
   "cell_type": "code",
   "execution_count": null,
   "id": "cd272b69-03a4-43fc-bdcb-2ce765e83220",
   "metadata": {
    "collapsed": false
   },
   "outputs": [],
   "source": [
    "f2_derivatives = [f2(Z,W), diff(f2(Z,W),Z), diff(f2(Z,W),W),\\\n",
    "        diff(diff(f2(Z,W),Z),Z), diff(diff(f2(Z,W),W),Z), diff(diff(f2(Z,W),W),W)]\n",
    "Generic_first_derivatives = list(map(lambda d : d.subs(complex_vars), f2_derivatives))\n",
    "        \n",
    "Answer = apply_laws(Structural(Generic_first)/sqrt(r)/exp(-Pi*h*x*x/(r**2-I*b))*(r**2-I*b)**2)\n",
    "Answer = to_complex(Answer).expand().collect(f2_derivatives)\n",
    "Latex(f'Action on the generic solution : ${Answer}$')"
   ]
  },
  {
   "cell_type": "markdown",
   "id": "4b7690f7-3bca-4422-9c01-85f1f07e1838",
   "metadata": {
    "collapsed": false
   },
   "source": [
    "We check that the above equation has the simpler form."
   ]
  },
  {
   "cell_type": "code",
   "execution_count": null,
   "id": "9a31db7e-d1a2-405f-bd10-2347509f7740",
   "metadata": {
    "collapsed": false
   },
   "outputs": [],
   "source": [
    "def Structural_complex(Func):\n",
    "    \"\"\" The structural condition on the image space in the complex form \"\"\"\n",
    "    return W*diff(diff(Func,Z),Z)\\\n",
    "    - 4*Pi*I*h*Z*diff(Func,Z)\\\n",
    "    - 4*Pi*I*h*W*diff(Func,W)\\\n",
    "    - 2*Pi*I*h*Func\n",
    "\n",
    "display(Latex(f'Simplified equation: ${Structural_complex(f2(Z, W))}$'))\n",
    "\n",
    "bool_highlighted(f'The simplified equation is correct: ${(Answer- r**2*W*Structural_complex(f2(Z, W))).normal().is_zero()}$')"
   ]
  },
  {
   "cell_type": "markdown",
   "id": "281d478a-7d18-4be6-a370-d3ee52619f8c",
   "metadata": {
    "collapsed": false
   },
   "source": [
    "We check that a change of variables produces a simpler equation:"
   ]
  },
  {
   "cell_type": "code",
   "execution_count": null,
   "id": "42d14eed-76af-40bd-808f-4583c753d938",
   "metadata": {
    "collapsed": false
   },
   "outputs": [],
   "source": [
    "Answer = (Structural_complex(1/sqrt(W)*f2(1/W, Z/W))*sqrt(W)).expand()\\\n",
    "          .subs(power_laws).normal()\n",
    "Latex(f'Schroodinger equation for free particle: ${Answer*W}$')"
   ]
  },
  {
   "cell_type": "markdown",
   "id": "3008bd80-caa3-4d91-8cb2-a4b149852c19",
   "metadata": {
    "collapsed": false
   },
   "source": [
    "[Back to ToC](#ToC)"
   ]
  },
  {
   "cell_type": "markdown",
   "id": "34c4c7d7-f4d0-4870-8772-89bc69022655",
   "metadata": {
    "collapsed": false,
    "ein.tags": "worksheet-0",
    "slideshow": {
     "slide_type": "-"
    }
   },
   "source": [
    "<a id=\"secondOrderAnnihilatorR\"></a>\n",
    "#### Second order annihilator for $R$\n",
    "\n",
    "Now a similar relation for the vector field $R$, that is $XY+YX+2SR = 2XY +2SR - S$. It comes from the\n",
    "following property of the representation."
   ]
  },
  {
   "cell_type": "code",
   "execution_count": null,
   "id": "97793308-4594-4f77-88c4-2260ca4a8e1a",
   "metadata": {
    "collapsed": false
   },
   "outputs": [],
   "source": [
    "Answer = (der(rho, der(rho, f1(u), 2), 1)+der(rho, der(rho, f1(u), 1), 2) + 2*der(rho, der(rho, f1(u), 4), 0))\\\n",
    "    .subs(exponent_laws).normal()\n",
    "bool_highlighted(f'Representation of $XY+YX+2SR$ is zero: ${Answer.is_zero()}$')"
   ]
  },
  {
   "cell_type": "markdown",
   "id": "1845f891-a465-41d7-9820-bad0a7cb5a24",
   "metadata": {
    "collapsed": false
   },
   "source": [
    "Then we can verify the respective operator on the kernel."
   ]
  },
  {
   "cell_type": "code",
   "execution_count": null,
   "id": "f2d5231f-ac00-43d5-9e8c-3d7638fde062",
   "metadata": {
    "autoscroll": false,
    "collapsed": false,
    "ein.hycell": false,
    "ein.tags": "worksheet-0",
    "slideshow": {
     "slide_type": "-"
    }
   },
   "outputs": [],
   "source": [
    "def Structural_second(Rho, Func, Derived = Left_action):\n",
    "    \"\"\" The second structural condition on the image space \"\"\"\n",
    "    return der(Rho, der(Rho, Func, 2, Derived), 1, Derived) + der(Rho, der(Rho, Func, 1, Derived), 2, Derived) \\\n",
    "            + 2 * der(Rho, der(Rho, Func, 4, Derived), 0, Derived)\n",
    "\n",
    "Answer = (Structural_second(rho, V0.subs(E_first), Left_action)*sqrt(r)).subs(exponent_laws).subs(power_laws).normal()\n",
    "bool_highlighted(f'Kernel is annihilated by $XY+YX+2SR$ is: ${Answer.is_zero()}$')"
   ]
  },
  {
   "cell_type": "markdown",
   "id": "bed383da-a73d-4932-8ba3-7b2c20a501ba",
   "metadata": {
    "collapsed": false
   },
   "source": [
    "The respective operator on the image space is:"
   ]
  },
  {
   "cell_type": "code",
   "execution_count": null,
   "id": "09471663-e7c7-42b8-b3f0-089bdd7bf2ae",
   "metadata": {
    "autoscroll": false,
    "collapsed": false,
    "ein.hycell": false,
    "ein.tags": "worksheet-0",
    "slideshow": {
     "slide_type": "-"
    }
   },
   "outputs": [],
   "source": [
    "Answer = apply_laws(Structural_second(rho0, MyKernel, Right_action)/Generic_factor)\n",
    "bool_highlighted(f'The image space is annihilated by the second second-order relation: ${Answer.is_zero()}$')"
   ]
  },
  {
   "cell_type": "markdown",
   "id": "d52f5d51-8747-4aa0-942d-673cdfa9f3f3",
   "metadata": {
    "collapsed": false
   },
   "source": [
    "The explicit expression of this operator:"
   ]
  },
  {
   "cell_type": "code",
   "execution_count": null,
   "id": "368386ac-171a-4303-b52e-02933f241029",
   "metadata": {
    "autoscroll": false,
    "collapsed": false,
    "ein.hycell": false,
    "ein.tags": "worksheet-0",
    "slideshow": {
     "slide_type": "-"
    }
   },
   "outputs": [],
   "source": [
    "Answer = Structural_second(rho0, f4(x,y,b,r), Right_action).subs(exponent_laws).subs(power_laws).normal()\n",
    "Latex(f'The form of the second second-order operator: ${Answer}$')"
   ]
  },
  {
   "cell_type": "markdown",
   "id": "47049bcf-fde8-4446-a08c-d344762fea3e",
   "metadata": {
    "collapsed": false
   },
   "source": [
    "Its restriction to the generic solution of the first-order system"
   ]
  },
  {
   "cell_type": "code",
   "execution_count": null,
   "id": "16777a0a-cb5b-49f9-8e0b-d73d0bc64eee",
   "metadata": {
    "collapsed": false
   },
   "outputs": [],
   "source": [
    "Answer = Structural_second(rho0, Generic_first, Right_action) /Generic_factor*(r**2-I*b)**2\n",
    "Answer = to_complex(apply_laws(Answer, True)).expand().collect(f2_derivatives)\n",
    "Latex(f'Action on the generic solution : ${Answer}$')"
   ]
  },
  {
   "cell_type": "markdown",
   "id": "6c34d1ca-00f1-462c-ae84-041bae89ddb1",
   "metadata": {
    "collapsed": false
   },
   "source": [
    "Check that it is reduces to the same equation on the image space as\n",
    "the first second-order equation. "
   ]
  },
  {
   "cell_type": "code",
   "execution_count": null,
   "id": "a8ed7eaf-a96d-466c-9d2a-1c252902e9d8",
   "metadata": {
    "collapsed": false
   },
   "outputs": [],
   "source": [
    "Check = (I*Answer/r**2- 2 * wn*Structural_complex(f2(Z, W))).subs(complex_vars).normal()\\\n",
    "    .subs(power_laws).normal()\\\n",
    "    .collect(Generic_first_derivatives)\n",
    "bool_highlighted(f'The equation is the same: ${Check.is_zero()}$')"
   ]
  },
  {
   "cell_type": "markdown",
   "id": "cad607a4-59e5-4bcc-9d80-1e73c70de5b8",
   "metadata": {
    "collapsed": false
   },
   "source": [
    "[Back to ToC](#ToC)"
   ]
  },
  {
   "cell_type": "markdown",
   "id": "b83cac19-a8e6-48e4-a39b-676c9a5d9dd3",
   "metadata": {
    "collapsed": false
   },
   "source": [
    "<a id=\"examplePlaneWave\"></a>\n",
    "### An example: plane wave\n",
    "\n",
    "We work out the example of a plane wave."
   ]
  },
  {
   "cell_type": "code",
   "execution_count": null,
   "id": "ab4a04ec-d82d-4189-b0ea-6958b51feb48",
   "metadata": {
    "collapsed": false
   },
   "outputs": [],
   "source": [
    "k = symbol(\"k\")\n",
    "\n",
    "Plane_wave1d = sqrt(r)/sqrt(b+I*r**2)*exp(-2*Pi*I*k*y)*exp(-Pi*h*(x+k/h)**2/(r**2 - I*b))\n",
    "display(Latex(f'Plane wave: ${Plane_wave1d}$'))\n",
    "Answer = to_complex(apply_laws(Plane_wave1d/Generic_factor))\n",
    "display(Latex(f'Plane wave in complex form: ${Answer}$'))"
   ]
  },
  {
   "cell_type": "markdown",
   "id": "787d81df-c712-42ab-a866-76665b2fcfe8",
   "metadata": {
    "collapsed": false
   },
   "source": [
    "We check that the plane wave transform satisfies all the requirement\n",
    "for the image space. "
   ]
  },
  {
   "cell_type": "code",
   "execution_count": null,
   "id": "ad227458-7552-44d9-a729-fd407b750ee7",
   "metadata": {
    "collapsed": false
   },
   "outputs": [],
   "source": [
    "display(bool_highlighted(f'First analicity: ${to_complex(apply_laws(Cauchy_first(Plane_wave1d))).is_zero()}$'))\n",
    "display(bool_highlighted(f'Second analicity: ${to_complex(apply_laws(Cauchy_second(Plane_wave1d)*sqrt(wn))).is_zero()}$'))\n",
    "bool_highlighted(f'Structural: ${to_complex(apply_laws(Structural(Plane_wave1d))).is_zero()}$')"
   ]
  },
  {
   "cell_type": "markdown",
   "id": "6cc3c191-d4d6-4ef0-8ac8-e8d61e002ebf",
   "metadata": {
    "collapsed": false
   },
   "source": [
    "[Back to ToC](#ToC)"
   ]
  },
  {
   "cell_type": "markdown",
   "id": "ec9ff2c5-fc50-4261-a43d-525eb180a4fe",
   "metadata": {
    "collapsed": false
   },
   "source": [
    "<a id=\"exampleWavePacket\"></a>\n",
    "#### An example: wave packet\n",
    "\n",
    "We work out the example of a wave packet."
   ]
  },
  {
   "cell_type": "code",
   "execution_count": null,
   "id": "4722581d-c09e-4375-90f9-634c7353d418",
   "metadata": {
    "collapsed": false
   },
   "outputs": [],
   "source": [
    "sigma = possymbol(\"sigma\")\n",
    "lam = realsymbol(\"lambda\")\n",
    "\n",
    "packet_factor = ((b*h+I*h*r**2+I*sigma)/h).normal()\n",
    "\n",
    "Wave_packet_1d = sqrt(r)/sqrt(packet_factor)*exp(-2*Pi*I*lam*y-Pi*sigma*y**2)\\\n",
    "    *exp(-Pi*h*(x+(lam-I*sigma*y)/h)**2/(r**2+sigma/h - I*b))\n",
    "display(Latex(f'Wave packet: ${Wave_packet_1d}$'))\n",
    "Answer = to_complex(apply_laws(Wave_packet_1d/Generic_factor))\n",
    "display(Latex(f'Plane wave in complex form: ${Answer}$'))"
   ]
  },
  {
   "cell_type": "markdown",
   "id": "6782748f-43da-4057-a47e-f0e69f12c2cc",
   "metadata": {
    "collapsed": false
   },
   "source": [
    "We check that the wave packet transform satisfies all the requirement\n",
    "for the image space. "
   ]
  },
  {
   "cell_type": "code",
   "execution_count": null,
   "id": "f78dc7bf-5a3c-49b0-a88a-d9585217b293",
   "metadata": {
    "collapsed": false
   },
   "outputs": [],
   "source": [
    "display(bool_highlighted(f'First analicity: ${to_complex(apply_laws(Cauchy_first(Wave_packet_1d))).is_zero()}$'))\n",
    "display(bool_highlighted(f'Second analicity: ${to_complex(apply_laws(Cauchy_second(Wave_packet_1d)*sqrt(wn))).is_zero()}$'))\n",
    "bool_highlighted(f'Structural: ${to_complex(apply_laws(Structural(Wave_packet_1d)/sqrt(packet_factor), True)).is_zero()}$')"
   ]
  },
  {
   "cell_type": "markdown",
   "id": "07400562-7be8-4bcb-aae1-9e0b14f416d9",
   "metadata": {
    "collapsed": false
   },
   "source": [
    "These examples will be continued in the context of the Helmholtz equation.\n",
    "\n",
    "[Back to ToC](#ToC)"
   ]
  },
  {
   "cell_type": "markdown",
   "id": "98dc2585-6b9f-45b9-bb6f-1ab0e402fe07",
   "metadata": {
    "collapsed": false
   },
   "source": [
    "<a id=\"metamorphism\"></a>\n",
    "## Metamorphism\n",
    "Metamorphism is the covariant transform for the above defined coherent states. \n"
   ]
  },
  {
   "cell_type": "markdown",
   "id": "e2e10916-0932-44ea-adf0-963ca4f09c06",
   "metadata": {
    "collapsed": false,
    "ein.tags": "worksheet-0",
    "slideshow": {
     "slide_type": "-"
    }
   },
   "source": [
    "<a id=\"metamorphismBasics\"></a>\n",
    "### Basic properties of the metamorphism\n",
    "\n",
    "Calculate the image of the derivative of the delta function:"
   ]
  },
  {
   "cell_type": "code",
   "execution_count": null,
   "id": "9970153c-97fe-4f6d-a281-5f7dd28459ef",
   "metadata": {
    "autoscroll": false,
    "collapsed": false,
    "ein.hycell": false,
    "ein.tags": "worksheet-0",
    "slideshow": {
     "slide_type": "-"
    }
   },
   "outputs": [],
   "source": [
    "Answer = der(rho0, MyKernel, 2, True).subs(exponent_laws).subs(power_laws).subs({u : 0}).normal()\n",
    "Latex(f'${Answer}$')"
   ]
  },
  {
   "cell_type": "markdown",
   "id": "08ad4a50-a6cb-4188-ad31-daaeb0314029",
   "metadata": {
    "collapsed": false,
    "ein.tags": "worksheet-0",
    "slideshow": {
     "slide_type": "-"
    }
   },
   "source": [
    "We look for the order reduction of the derivatives using variable\n",
    "coefficients indeterminate"
   ]
  },
  {
   "cell_type": "code",
   "execution_count": null,
   "id": "bf51bcdd-6d14-4885-816a-6c2e3910b6e0",
   "metadata": {
    "collapsed": false
   },
   "outputs": [],
   "source": [
    "X=realsymbol(\"X\")\n",
    "Y=realsymbol(\"Y\")\n",
    "B=realsymbol(\"B\")\n",
    "R=possymbol(\"R\")\n",
    "F=realsymbol(\"F\")\n",
    "\n",
    "f4_derivatives = [f4(x, y, b, r), diff(f4(x, y, b, r),x), diff(f4(x, y, b, r),y), diff(f4(x, y, b, r),b), diff(f4(x, y, b, r),r),\\\n",
    "        diff(diff(f4(x, y, b, r),x),x), diff(diff(f4(x, y, b, r),y),x), diff(diff(f4(x, y, b, r),b),x), diff(diff(f4(x, y, b, r),r),x),\\\n",
    "        diff(diff(f4(x, y, b, r),y),y), diff(diff(f4(x, y, b, r),b),y), diff(diff(f4(x, y, b, r),r),y),\\\n",
    "        diff(diff(f4(x, y, b, r),b),b), diff(diff(f4(x, y, b, r),r),b),\\\n",
    "        diff(diff(f4(x, y, b, r),r),r)]\n",
    "correction_val1 = {X : -I*r*b+2*I*r*b+b**2/r-r**3-b**2/r, Y : I*r,  B : 0, R : 0, F : 2*I*b+b**2/r/r-r**2}\n",
    "\n",
    "correction_val = {Y : I*r, X : -I*r*b+2*I*r*b+b**2/r-r**3-b**2/r, B : 0, R : 0, F : 2*I*b+b**2/r/r-r**2}\n",
    "\n",
    "Dz = Cauchy_first(f4(x, y, b, r))\n",
    "Answer = (der(rho0, der(rho0, f4(x,y,b,r), 2, True), 2, True) \\\n",
    "          - X*Dz.diff(x)  - Y*Dz.diff(y)  - B*Dz.diff(b) - R*Dz.diff(r)\\\n",
    "          - F*Structural(f4(x,y,b,r)))\\\n",
    "          .subs(correction_val)\\\n",
    "          .subs(exponent_laws).normal().expand()\\\n",
    "\t.collect(f4_derivatives)\n",
    "display(Latex(f'The form of the operator: ${Answer}$'))\n",
    "Latex('For the values: ' + ', '.join(map(lambda a: f'${a}={correction_val[a]}$', correction_val.keys())))"
   ]
  },
  {
   "cell_type": "markdown",
   "id": "77ba8b84-9da8-4123-86ed-2a7a4134b466",
   "metadata": {
    "collapsed": false
   },
   "source": [
    "We check that our calculation was correct"
   ]
  },
  {
   "cell_type": "code",
   "execution_count": null,
   "id": "574a0a1b-4ba7-4740-b338-d8f570b46387",
   "metadata": {
    "autoscroll": false,
    "collapsed": false,
    "ein.hycell": false,
    "ein.tags": "worksheet-0",
    "slideshow": {
     "slide_type": "-"
    }
   },
   "outputs": [],
   "source": [
    "Answer = (der(rho0, der(rho0, f4(x,y,b,r), 2, True), 2, True) \\\n",
    "          + I*r*((b+I*r**2)*Dz.diff(x)  - Dz.diff(y))\\\n",
    "          + (b+I*r**2)**2/r**2*Structural(f4(x,y,b,r)))\\\n",
    "          .subs(exponent_laws).normal().expand()\\\n",
    "\t.collect(f4_derivatives)\n",
    "Latex(f'The form of the operator: ${Answer}$')"
   ]
  },
  {
   "cell_type": "markdown",
   "id": "84f050c8-ac45-4420-8a1e-331fe3367f14",
   "metadata": {
    "collapsed": false
   },
   "source": [
    "Now we look on the action of this operator on the generic solution:"
   ]
  },
  {
   "cell_type": "code",
   "execution_count": null,
   "id": "a3240566-e4c4-4369-b83a-27e92bc31a6d",
   "metadata": {
    "collapsed": false
   },
   "outputs": [],
   "source": [
    "Dz_special = Cauchy_first(Generic_first)\n",
    "\n",
    "Answer = apply_laws((der(rho0, der(rho0, Generic_first, 2, True), 2, True) \\\n",
    "          + I*r*((b+I*r**2)*Dz_special.diff(x)  - Dz_special.diff(y))\\\n",
    "          + (b+I*r**2)**2/r**2*Structural(Generic_first))\\\n",
    "            /Generic_factor)\n",
    "\n",
    "Answer = to_complex(Answer).expand().collect(f2_derivatives)\n",
    "Latex(f'The complexified form of the operator on the generic solution: ${Answer}$')"
   ]
  },
  {
   "cell_type": "markdown",
   "id": "5e2c78d5-4ceb-4c65-a45a-cfe331849675",
   "metadata": {
    "collapsed": false
   },
   "source": [
    "Check the simpler form of this operator:"
   ]
  },
  {
   "cell_type": "code",
   "execution_count": null,
   "id": "986619aa-998d-4885-9cb3-6519c048ea71",
   "metadata": {
    "collapsed": false
   },
   "outputs": [],
   "source": [
    "def Second_der_oper(Func, z = Z, w = W):\n",
    "    return  2*z*diff(Func, z) \\\n",
    "        + 2*w*diff(Func, w) \\\n",
    "        + Func\n",
    "\n",
    "def Second_der_trans(Func, z = Z, w = W):\n",
    "    return 2*Pi*I*h*w*Second_der_oper(Func, z, w)\n",
    "\n",
    "display(Latex('The transmuted second derivative on the generic solution: $%s$' %\\\n",
    "                 Second_der_trans(f2(Z,W))))\n",
    "bool_highlighted(f'The simpler expression is correct: ${(Answer- Second_der_trans(f2(Z,W))).normal().is_zero()}$')"
   ]
  },
  {
   "cell_type": "markdown",
   "id": "60548e2d-3e37-4484-83be-f0fcb105fee3",
   "metadata": {
    "collapsed": false
   },
   "source": [
    "[Back to ToC](#ToC)"
   ]
  },
  {
   "cell_type": "markdown",
   "id": "7fd3a8f5-7fe6-4413-8fef-dd3f0b75a3f5",
   "metadata": {
    "collapsed": false
   },
   "source": [
    "<a id=\"solvingHelmholtz\"></a>\n",
    "### Solving the image of the Helmholtz equation\n",
    "\n",
    "Using the Euler operator we can reduce the equation to a simpler one\n",
    "for a function `f2`of two variables only."
   ]
  },
  {
   "cell_type": "code",
   "execution_count": null,
   "id": "9e85a378-d06b-4cf0-b442-00f7322b4644",
   "metadata": {
    "collapsed": false
   },
   "outputs": [],
   "source": [
    "def Helmholtz(Func, K = k**2):\n",
    "    \"\"\" The helmholtz operator on function Func with the square L of the wave parameter \"\"\"\n",
    "    return diff(diff(Func, y), y) + diff(diff(Func, y2), y2) + K * Func\n",
    "\n",
    "def Helmholtz_trans(Func, K = k**2):\n",
    "    \"\"\" The transmuted form of the Helmholts operartor, which acts on the image space \"\"\"\n",
    "    return Second_der_trans(Func, Z1, W1) \\\n",
    "        + Second_der_trans(Func, Z2, W2) \\\n",
    "        + K * Func"
   ]
  },
  {
   "cell_type": "markdown",
   "id": "faa43334-82ba-47c6-a646-6f560255da85",
   "metadata": {
    "collapsed": false
   },
   "source": [
    "<a id=\"solvingPlaneWave\"></a>\n",
    "#### Example: plane wave solution\n",
    "\n",
    "We check that a product of two plane waves solves the Helmholtz equation."
   ]
  },
  {
   "cell_type": "code",
   "execution_count": null,
   "id": "e0081dd8-27ab-4619-a0d2-b111ad931ac8",
   "metadata": {
    "collapsed": false
   },
   "outputs": [],
   "source": [
    "k1=realsymbol(\"k1\", \"k_1\")\n",
    "k2=realsymbol(\"k2\", \"k_2\")\n",
    "Plane_wave = Plane_wave1d.subs({k : k1}) * Plane_wave1d.subs({x : x2, y : y2, b : b2, r : r2, k : k2})\n",
    "\n",
    "Answer = apply_laws(to_complex(Plane_wave1d/Generic_factor), True)\n",
    "Latex(f'Plane wave expression complex: ${Answer}$')"
   ]
  },
  {
   "cell_type": "markdown",
   "id": "5a2d8f89-5323-4c84-877a-d9bdee4c1464",
   "metadata": {
    "collapsed": false
   },
   "source": [
    "We use the above output to enter the plane wave in the complex form:"
   ]
  },
  {
   "cell_type": "code",
   "execution_count": null,
   "id": "42877f29-a46e-4192-9fb3-a0be3ba333cc",
   "metadata": {
    "collapsed": false
   },
   "outputs": [],
   "source": [
    "Plane_wave_complex1d = exp((-2*Pi*I*h*k*Z-Pi*I*k**2)/(h*W))*W**numeric(-1,2)"
   ]
  },
  {
   "cell_type": "code",
   "execution_count": null,
   "id": "c9a1c603-3cf4-4775-93fa-ce158a301dab",
   "metadata": {
    "collapsed": false
   },
   "outputs": [],
   "source": [
    "Answer = apply_laws(der(rho0, der(rho0, Plane_wave1d, 2), 2)/Plane_wave1d, True)\n",
    "display(Latex(f'Eigenvalue of the second derivative on the plane wave: ${Answer}$')) \n",
    "\n",
    "Answer = apply_laws(Second_der_trans(Plane_wave_complex1d) / Plane_wave_complex1d, True)\n",
    "Latex(f'${Answer}$')"
   ]
  },
  {
   "cell_type": "code",
   "execution_count": null,
   "id": "bd451fe3-48f3-40a4-9bd4-463f579951c1",
   "metadata": {
    "collapsed": false
   },
   "outputs": [],
   "source": [
    "Plane_wave_complex = Plane_wave_complex1d.subs({Z : Z1, W : W1, k : k1}) *Plane_wave_complex1d.subs({Z : Z2, W : W2, k : k2})\n",
    "\n",
    "Full_Plane_wave = Generic_factor*Plane_wave_complex.subs(complex_vars2)\n",
    "\n",
    "Answer = apply_laws(Helmholtz(Full_Plane_wave, 4*Pi**2*(k1**2+k2**2))/Full_Plane_wave, True)\n",
    "\n",
    "display(Latex(f'Plane wave: ${Full_Plane_wave}$'))\n",
    "display(bool_highlighted(f'Full Helnholtz solution: ${Answer.is_zero()}$'))\n",
    "\n",
    "Answer = apply_laws(Helmholtz_trans(Plane_wave_complex,  4*Pi**2*(k1**2+k2**2))/Plane_wave_complex)\n",
    "bool_highlighted(f'Reduced Helmholtz solution: ${Answer.is_zero()}$')"
   ]
  },
  {
   "cell_type": "markdown",
   "id": "1c91ce16-aedf-4cf0-8fbd-da093ee70831",
   "metadata": {
    "collapsed": false
   },
   "source": [
    "[Back to ToC](#ToC)"
   ]
  },
  {
   "cell_type": "markdown",
   "id": "85035841-b2a4-403b-80fc-bd3278c864a0",
   "metadata": {
    "collapsed": false
   },
   "source": [
    "<a id=\"solvingWavePaclet\"></a>\n",
    "#### Example: wave packet solution\n",
    "\n",
    "We check that a product of two plane waves solves the Helmholtz equation."
   ]
  },
  {
   "cell_type": "code",
   "execution_count": null,
   "id": "be6271ce-6281-4ab2-931b-b190a32226a5",
   "metadata": {
    "collapsed": false
   },
   "outputs": [],
   "source": [
    "Wave_packet = Wave_packet_1d.subs({k : k1}) * Wave_packet_1d.subs({x : x2, y : y2, b : b2, r : r2, k : k2})\n",
    "\n",
    "Answer = apply_laws(to_complex(Wave_packet_1d/Generic_factor), True)\n",
    "Latex(f'Plane wave expression complex: ${Answer}$')"
   ]
  },
  {
   "cell_type": "markdown",
   "id": "102e99b7-6c7d-4a62-a140-498e7dc3c8f3",
   "metadata": {
    "collapsed": false
   },
   "source": [
    "We use the above output to enter the plane wave in the complex form:"
   ]
  },
  {
   "cell_type": "code",
   "execution_count": null,
   "id": "304526dd-8118-4fd8-8149-2ecf68d97302",
   "metadata": {
    "collapsed": false
   },
   "outputs": [],
   "source": [
    "Wave_packet_complex_1d = sqrt(h/(h*W+I*sigma)) \\\n",
    "    * exp(-(Pi*lam**2/W+2*Pi*h*lam*Z/W-Pi*I*h*sigma*Z**2/W**2)/(sigma/W-I*h))\n",
    "FAC=(h+I*sigma*W).normal()\n",
    "SOL=(sqrt(h)/sqrt(FAC) \\\n",
    "             * exp(-(I*(Pi*lam**2-k**2/(8*Pi))*W+2*I*Pi*h*lam*Z+Pi*h*sigma*Z**2)/FAC))\\\n",
    "             .subs({lam : k1/(2*Pi)})\n",
    "display(Latex(f'${apply_laws((SOL).diff(W)/SOL,True)}$'))\n",
    "bool_highlighted(f'Complex form is correct: ${(Answer-Wave_packet_complex_1d).normal().is_zero()}$')"
   ]
  },
  {
   "cell_type": "markdown",
   "id": "48265fc5-0bad-4afb-9815-5160d6648f0e",
   "metadata": {
    "collapsed": false
   },
   "source": [
    "The next chunk needs an improvement as well."
   ]
  },
  {
   "cell_type": "code",
   "execution_count": null,
   "id": "33006e27-ae2f-4e24-9d66-8f047c3adc64",
   "metadata": {
    "collapsed": false
   },
   "outputs": [],
   "source": [
    "Wave_packet_complex = Wave_packet_complex_1d.subs({Z : Z1, W : W1, lam : k1/(2*Pi)}) *Wave_packet_complex_1d.subs({Z : Z2, W : W2, lam : k2/(2*Pi)})\n",
    "\n",
    "Full_Wave_packet = Generic_factor*Wave_packet_complex.subs(complex_vars2)\n",
    "\n",
    "Answer = apply_laws(Helmholtz(Full_Wave_packet, 4*Pi**2*(k1**2+k2**2))/Full_Wave_packet, True)\n",
    "\n",
    "#display(Latex(f'Wave packet: ${Full_Wave_packet}$'))\n",
    "#display(str(f'True Helnholtz solution: {Answer}'))\n",
    "#display(str(f'True Helnholtz solution: {Answer.is_zero()}'))\n",
    "\n",
    "Answer = apply_laws(Helmholtz_trans(Wave_packet_complex,  4*Pi**2*(k1**2+k2**2))/Wave_packet_complex)\n",
    "#display(Latex(f'${Answer}$'))\n",
    "#bool_highlighted(f'Reduced Helmholtz solution: ${Answer.is_zero()}$')"
   ]
  },
  {
   "cell_type": "markdown",
   "id": "c7cec8a4-6e56-4d12-9078-b5691f909098",
   "metadata": {
    "collapsed": false
   },
   "source": [
    "[Back to ToC](#ToC)"
   ]
  },
  {
   "cell_type": "markdown",
   "id": "a5583443-2cf0-496f-827d-5b549f98eca9",
   "metadata": {
    "collapsed": false
   },
   "source": [
    "<a id=\"HelmholtzGeneric\"></a>\n",
    "## Generic solution of the Helmholtz equation\n",
    "\n",
    "We find and check the generic solution to the Helmholtz equation obtained from the metamorphism."
   ]
  },
  {
   "cell_type": "markdown",
   "id": "bf1aaf9f-036f-4e60-a82a-cd78517c54de",
   "metadata": {
    "collapsed": false
   },
   "source": [
    "<a id=\"CartesianRepresentation\"></a>\n",
    "### Cartesian coordinates representation\n",
    "\n",
    "Here we present the generic solution expressed in Cartesian coordinates."
   ]
  },
  {
   "cell_type": "code",
   "execution_count": null,
   "id": "4370b8f9-972f-499d-8cb6-a1c323768f85",
   "metadata": {
    "collapsed": false
   },
   "outputs": [],
   "source": [
    "Helmholtz_factor = exp(k**2/(8*Pi*I*h)*(W1**(-1)+W2**(-1)))/sqrt(W1)/sqrt(W2)\n",
    "Solution = Helmholtz_factor*f3(W2**(-1)-W1**(-1), Z1/W1, Z2/W2)\n",
    "display(Latex(f'The solution is: ${Solution}$'))\n",
    "Answer = (Helmholtz_trans(Solution)).normal()\n",
    "bool_highlighted(f'Solution is correct: ${Answer.is_zero()}$')"
   ]
  },
  {
   "cell_type": "markdown",
   "id": "0bcd3e3b-7083-495e-943b-3f2049242099",
   "metadata": {
    "collapsed": false
   },
   "source": [
    "Find the form of the structural condition on this solution:"
   ]
  },
  {
   "cell_type": "code",
   "execution_count": null,
   "id": "be98cb6f-efaa-47dc-ac85-edc42604a5bd",
   "metadata": {
    "collapsed": false
   },
   "outputs": [],
   "source": [
    "Generic_factor_double = Generic_factor * Generic_factor.subs({x : x2, y : y2, b : b2, r : r2})\n",
    "\n",
    "Full_solution = Generic_factor_double * Solution.subs(complex_vars2).normal()"
   ]
  },
  {
   "cell_type": "markdown",
   "id": "7b86bc61-1d15-4a87-8359-c4a1cf4eb5f5",
   "metadata": {
    "collapsed": false
   },
   "source": [
    "We check that the solution satisfies to both analyticity conditions:"
   ]
  },
  {
   "cell_type": "code",
   "execution_count": null,
   "id": "63014dbb-b090-40a3-915a-9877b7524756",
   "metadata": {
    "collapsed": false
   },
   "outputs": [],
   "source": [
    "Answer = apply_laws(Cauchy_first(Full_solution), True)\n",
    "display(bool_highlighted(f'The first Cauchy equation: ${Answer.is_zero()}$'))\n",
    "\n",
    "Answer = apply_laws(Cauchy_second(Full_solution), True)\n",
    "Answer = to_complex(Answer*r**(-2))\n",
    "bool_highlighted(f'The second Cauchy equation: ${Answer.is_zero()}$')"
   ]
  },
  {
   "cell_type": "markdown",
   "id": "d87f12c6-fe38-422c-b2a0-bf74c9d12758",
   "metadata": {
    "collapsed": false
   },
   "source": [
    "We find the form of the structural condition for the function `f3` in\n",
    "the generic solution, it turns to be the Schrodinger equation of a\n",
    "free particle."
   ]
  },
  {
   "cell_type": "code",
   "execution_count": null,
   "id": "ff9e7ad3-a2cb-4293-b45e-5feead8eac24",
   "metadata": {
    "collapsed": false
   },
   "outputs": [],
   "source": [
    "Answer = apply_laws(Structural(Full_solution) / Generic_factor_double / Helmholtz_factor.subs(complex_vars2), True)\n",
    "Structural1 = to_complex(Answer*r**(-2)*wn**2).normal()\n",
    "display(Latex(f'The form of the first structural condition: ${Structural1}$'))\n",
    "\n",
    "Answer = apply_laws(Structural(Full_solution, matrix([[x2,y2,b2,r2]])) / Generic_factor_double / Helmholtz_factor.subs(complex_vars2), True)\n",
    "Structural2 = to_complex(Answer*r2**(-2)*w2n**2).normal()\n",
    "Latex(f'The form of the second structural condition: ${Structural2}$')"
   ]
  },
  {
   "cell_type": "markdown",
   "id": "271ed4ed-6710-4de2-a3ea-a0422666d20c",
   "metadata": {
    "collapsed": false
   },
   "source": [
    "Finally we are checking the unmodified Helmholtz operator on the\n",
    "generic solution:"
   ]
  },
  {
   "cell_type": "code",
   "execution_count": null,
   "id": "385518d0-e0e1-485d-aaad-a12d76a08170",
   "metadata": {
    "collapsed": false
   },
   "outputs": [],
   "source": [
    "Answer = apply_laws(Helmholtz(Full_solution) / Generic_factor_double / Helmholtz_factor.subs(complex_vars2), True)\n",
    "Answer = to_complex(Answer)\n",
    "bool_highlighted('Satisfies the full Helmholtz (subject to the strucutural conditions): $%s$' % \\\n",
    "                 (Answer+Structural1+Structural2).normal().is_zero())"
   ]
  },
  {
   "cell_type": "markdown",
   "id": "bb0c6d25-52f2-4c4f-9649-2ad4e347d087",
   "metadata": {
    "collapsed": false
   },
   "source": [
    "The derivative of the generic solution for the boundary value problems."
   ]
  },
  {
   "cell_type": "code",
   "execution_count": null,
   "id": "05e51540-fc94-465c-9ee3-16da5f950801",
   "metadata": {
    "collapsed": false
   },
   "outputs": [],
   "source": [
    "Answer = apply_laws(der(rho0, Full_solution, 2, True) / Generic_factor_double / Helmholtz_factor.subs(complex_vars2), True)\n",
    "Answer = to_complex(Answer).normal()\n",
    "display(Latex(f'Derivative in Y1: ${Answer}$'))\n",
    "\n",
    "Answer = apply_laws(der(rho0, Full_solution, 2, True, matrix([[x2,y2,b2,r2]])) / Generic_factor_double / Helmholtz_factor.subs(complex_vars2), True)\n",
    "Answer = to_complex(Answer).normal()\n",
    "display(Latex(f'Derivative in Y2: ${Answer}$'))"
   ]
  },
  {
   "cell_type": "markdown",
   "id": "e764ff8e-9e4d-4944-b74f-d3c438b2ccc1",
   "metadata": {
    "collapsed": false
   },
   "source": [
    "[Back to ToC](#ToC)"
   ]
  },
  {
   "cell_type": "markdown",
   "id": "d022262e-e854-4379-ba6d-ea8929dd9115",
   "metadata": {
    "collapsed": false
   },
   "source": [
    "<a id=\"partialPlaneWave\"></a>\n",
    "### Plane wave from the partial solution\n",
    "\n",
    "We start from a partial solutions of the structural conditions to\n",
    "re-create a plane wave."
   ]
  },
  {
   "cell_type": "code",
   "execution_count": null,
   "id": "ee9f2406-8fbb-4add-817a-1daaab7d1f23",
   "metadata": {
    "collapsed": false
   },
   "outputs": [],
   "source": [
    "Partial_Schrodinger1 = exp(((k1**2-k**2/2))/(4*Pi*I*h)*W1**(-1) - I*k1*Z1/W1)\n",
    "Partial_Schrodinger2 = exp(((k2**2-k**2/2))/(4*Pi*I*h)*W2**(-1) - I*k2*Z2/W2)\n",
    "Partial_plane_wave = (Helmholtz_factor*Partial_Schrodinger1 * Partial_Schrodinger2).subs({k**2 : k1**2+k2**2})\n",
    "\n",
    "Answer = apply_laws(Partial_plane_wave/(exp((k1**2+k2**2)/(8*Pi*I*h)*(W1**(-1)+W2**(-1)))/sqrt(W1)/sqrt(W2)\\\n",
    "                              *exp(((k1**2-k2**2))/(8*I*h*Pi)*(W1**(-1)-W2**(-1)) - I*k1*Z1/W1 - I*k2*Z2/W2)), True)\n",
    "display(bool_highlighted(f'Wave has the required form: ${(Answer-1).is_zero()}$'))\n",
    "\n",
    "Answer = apply_laws(Helmholtz_trans(Partial_plane_wave, k1**2+k2**2)*sqrt(wn)*sqrt(w2n), True)\n",
    "bool_highlighted(f'Satisfies Transmuted Helmholz: ${Answer.is_zero()}$')"
   ]
  },
  {
   "cell_type": "markdown",
   "id": "30dd890e-ea91-440a-8713-7a2bc10dbebb",
   "metadata": {
    "collapsed": false
   },
   "source": [
    "We make checks of the structural conditions and full Helmholtz for the full plane wave."
   ]
  },
  {
   "cell_type": "code",
   "execution_count": null,
   "id": "e4693eb7-d77d-4f56-bbd4-46c06d10b12e",
   "metadata": {
    "collapsed": false
   },
   "outputs": [],
   "source": [
    "Partial_solution = Generic_factor_double * Partial_plane_wave.subs(complex_vars2).normal()\n",
    "Answer = apply_laws(Structural(Partial_solution)/Generic_factor_double*sqrt(wn)*sqrt(w2n), True)\n",
    "Answer = to_complex(Answer*r**(-2))\n",
    "display(bool_highlighted(f'Wave satisfies the Structural condition in the first set of variables: ${Answer.is_zero()}$'))\n",
    "\n",
    "Answer = apply_laws(Structural(Partial_solution, matrix([[x2,y2,b2,r2]]))/Generic_factor_double*sqrt(wn)*sqrt(w2n), True)\n",
    "Answer = to_complex(Answer*r**(-2))\n",
    "bool_highlighted(f'Wave satisfies the Structural condition in the second set of variables: ${Answer.is_zero()}$')"
   ]
  },
  {
   "cell_type": "code",
   "execution_count": null,
   "id": "c1ed1186-8048-42c7-8bc3-327db088b02e",
   "metadata": {
    "collapsed": false
   },
   "outputs": [],
   "source": [
    "Answer =apply_laws(Helmholtz(Partial_solution, k1**2+k2**2)*sqrt(wn)*sqrt(w2n)*sqrt(r)*sqrt(r2))\n",
    "bool_highlighted(f'It is a full Helholtz solution: ${Answer.is_zero()}$')"
   ]
  },
  {
   "cell_type": "markdown",
   "id": "07d7d774-b104-4d3a-a1f9-09919e4f2dec",
   "metadata": {
    "collapsed": false
   },
   "source": [
    "[Back to ToC](#ToC)"
   ]
  },
  {
   "cell_type": "markdown",
   "id": "dec15334-612a-4e53-87b3-9317843eae87",
   "metadata": {
    "collapsed": false
   },
   "source": [
    "<a id=\"JacobiFunctions\"></a>\n",
    "### Jacobi (Hankel) functions\n"
   ]
  },
  {
   "cell_type": "code",
   "execution_count": null,
   "id": "e0e8cb59-d5dd-4900-a8e4-b3e5416ff84d",
   "metadata": {
    "collapsed": false
   },
   "outputs": [],
   "source": [
    "Answer = der(rho0, der(rho0, der(rho0, f4(x,y,b,r), 2), 2), 3) + der(rho0, der(rho0, f4(x,y,b,r), 2), 1)\\\n",
    "    + der(rho0, f4(x,y,b,r), 3) - a**2*der(rho0, f4(x,y,b,r), 0)\n",
    "display(Latex(f'Jacoby unmodified: ${Answer.expand().collect(f4_derivatives)}$'))\n",
    "\n",
    "Answer = apply_laws((der(rho0, (der(rho0, der(rho0, Generic_first, 2, True), 2, True) \\\n",
    "          + I*r*((b+I*r**2)*Dz_special.diff(x)  - Dz_special.diff(y))\\\n",
    "                     + (b+I*r**2)**2/r**2*Structural(Generic_first)\\\n",
    "), 3)\\\n",
    "                     + der(rho0, der(rho0, Generic_first, 2), 1)\\\n",
    "    + der(rho0, Generic_first, 3) - a**2*der(rho0, Generic_first, 0)\n",
    "                     )\\\n",
    "            /Generic_factor)\n",
    "\n",
    "Answer = to_complex(Answer).expand().collect(f2_derivatives)\n",
    "display(Latex(f'Jacoby equation on the image space: ${Answer}$'))"
   ]
  },
  {
   "cell_type": "markdown",
   "id": "06f4b6db-3cdb-4940-9089-96992f2fdb3b",
   "metadata": {
    "collapsed": false
   },
   "source": [
    "[Back to ToC](#ToC)"
   ]
  },
  {
   "cell_type": "markdown",
   "id": "f4715726-7c57-4a24-970b-b1b9314424fb",
   "metadata": {
    "collapsed": false
   },
   "source": [
    "<a id=\"fundamentalSolution\"></a>\n",
    "### Fundamental solution\n"
   ]
  },
  {
   "cell_type": "code",
   "execution_count": null,
   "id": "dde086e8-902f-4db2-a2d2-63d3986be2f0",
   "metadata": {
    "collapsed": false
   },
   "outputs": [],
   "source": [
    "Fundamental = pow((W2-W1)/W1/W2, numeric(-1,2))\\\n",
    "    *exp(Pi*I*h*pow(Z1/W1+Z2/W2, 2)/(W1**(-1)-W2**(-1)) -  a/(8*Pi*I*h)*(W1**(-1)-W2**(-1)) + c*Z1/W1 + d*Z2/W2)\n",
    "#    *exp(Pi*I*h*pow(Z1/W1+Z2/W2, 2)/(W1**(-1)-W2**(-1)) - k**2/(8*Pi*I*h)*(W1**(-1)-W2**(-1)))\n",
    "Full_Fundamental = Helmholtz_factor.subs({k**2 : k1**2+k2**2}) *Fundamental\n",
    "\n",
    "#Answer = apply_laws(Helmholtz_trans(Full_Fundamental, 0)/Full_Fundamental, True)\n",
    "Answer = apply_laws(Helmholtz_trans(Full_Fundamental, k1**2+k2**2)*sqrt(wn)*sqrt(w2n), True)\n",
    "bool_highlighted(f'Satisfies Transmuted Helmholz: ${Answer.is_zero()}$')"
   ]
  },
  {
   "cell_type": "markdown",
   "id": "1b041386-d30d-4ab7-9037-e5be34d2f8b4",
   "metadata": {
    "collapsed": false
   },
   "source": [
    "The next bit does not work well."
   ]
  },
  {
   "cell_type": "raw",
   "id": "9c559de6-c38e-427a-8594-28bc41afabf0",
   "metadata": {
    "collapsed": false
   },
   "source": [
    "Partial_solution = Generic_factor_double * Full_Fundamental.subs(complex_vars2)\n",
    "display(str(Partial_solution))\n",
    "Answer = apply_laws(Structural(Partial_solution)/Generic_factor_double*sqrt(wn)*sqrt(w2n), True)\n",
    "#Answer = apply_laws((4*Pi*I*h*diff(Partial_solution,b)-diff(diff(Partial_solution,x),x))\\\n",
    "#                    /Generic_factor_double*sqrt(wn)*sqrt(w2n), True)\n",
    "Answer = apply_laws(to_complex(Answer*r**(-2))\\\n",
    "                    *pow((W2-W)/W/W2, numeric(-1,2)).normal(), True)\\\n",
    "                    .subs(extra_power_laws, subs_options.algebraic)\n",
    "\n",
    "display(bool_highlighted(f'Satisfies the First structural condition: {Answer.is_zero()}'))\n",
    "display(Latex(f'Satisfies the First structural condition: ${Answer}$'))\n",
    "\n",
    "Answer = apply_laws(Structural(Partial_solution, matrix([[x2,y2,b2,r2]]))/Generic_factor_double*sqrt(wn)*sqrt(w2n), True)\n",
    "#Answer = apply_laws((4*Pi*I*h*diff(Partial_solution,b2)-diff(diff(Partial_solution,x2),x2))\\# \n",
    "#                   /Generic_factor_double*sqrt(wn)*sqrt(w2n), True)\n",
    "Answer = apply_laws(to_complex(Answer*r**(-2))\\\n",
    "                    *pow((W2-W)/W/W2, numeric(-1,2)), True)\\\n",
    "                    .subs(extra_power_laws, subs_options.algebraic)\n",
    "\n",
    "bool_highlighted(f'Satisfies the Second structural condition: ${Answer.is_zero()}$')\n",
    "Latex(f'Satisfies the Second structural condition: ${Answer}$')"
   ]
  },
  {
   "cell_type": "raw",
   "id": "9f6a5fd0-dc1b-42ae-b23b-e12423774893",
   "metadata": {
    "collapsed": false
   },
   "source": [
    "Answer = apply_laws(diff(Partial_solution,b)/Partial_solution, True)\n",
    "Answer = apply_laws((to_complex(Answer*r**(-2)).expand())\\\n",
    "                    .subs(extra_power_laws, subs_options.algebraic).normal(), True)\n",
    "\n",
    "display(Latex(f'db: ${Answer}$'))"
   ]
  },
  {
   "cell_type": "code",
   "execution_count": null,
   "id": "e1a93feb-29e9-4051-9170-72a45c9bdb5d",
   "metadata": {
    "collapsed": false
   },
   "outputs": [],
   "source": [
    "Answer =apply_laws(Helmholtz(Partial_solution, k**2)*sqrt(wn)*sqrt(w2n)*sqrt(r)*sqrt(r2)\\\n",
    "                   *sqrt(1/wn -1/w2n))\n",
    "Answer = to_complex(Answer*wn**11*r**(-2)*wn**(-9))\n",
    "\n",
    "bool_highlighted(f'It is a Full Helholtz solution: {Answer.is_zero()}')\n",
    "Latex(f'It is a Full Helholtz solution: ${Answer}$')"
   ]
  },
  {
   "cell_type": "markdown",
   "id": "d22c9094-7bae-4cc2-8afe-361c6883a7e9",
   "metadata": {
    "collapsed": false
   },
   "source": [
    "[Back to ToC](#ToC)"
   ]
  },
  {
   "cell_type": "markdown",
   "id": "c4297227-75ee-4cc1-a9d3-89357a46a2ed",
   "metadata": {
    "collapsed": false
   },
   "source": [
    "<a id=\"Helmholtz3D\"></a>\n",
    "## Helmholtz 3D\n",
    "\n",
    "Coordinates in the third dimension."
   ]
  },
  {
   "cell_type": "code",
   "execution_count": null,
   "id": "c0ca80b6-cd49-4539-ae00-170c0b282900",
   "metadata": {
    "collapsed": false
   },
   "outputs": [],
   "source": [
    "s3=realsymbol(\"s3\", \"s_3\")\n",
    "x3=realsymbol(\"x3\", \"x_3\")\n",
    "y3=realsymbol(\"y3\", \"y_3\")\n",
    "b3=realsymbol(\"b3\", \"b_3\")\n",
    "r3=possymbol(\"r3\", \"r_3\")\n",
    "\n",
    "g3=matrix([[s3, x3, y3, b3, r3]])"
   ]
  },
  {
   "cell_type": "markdown",
   "id": "e0e2cb30-1b3c-44c1-b4d8-8dfe1f10ff77",
   "metadata": {
    "collapsed": false
   },
   "source": [
    "Complex variables in the third dimension."
   ]
  },
  {
   "cell_type": "code",
   "execution_count": null,
   "id": "22e1f6d6-361c-4537-a019-34edc7883c47",
   "metadata": {
    "collapsed": false
   },
   "outputs": [],
   "source": [
    "Z3 = symbol(\"Z3\", \"z_3\")\n",
    "W3 = symbol(\"W3\", \"w_3\")\n",
    "\n",
    "z3n = (x3+(b3+I*r3**2)*y3).normal()\n",
    "w3n = (b3+I*r3**2).normal()\n",
    "\n",
    "complex_vars3 = {Z1 : zn, W1 : wn,  Z2 : z2n, W2 : w2n,  Z3 : z3n, W3 : w3n}\n",
    "\n",
    "def to_complex3(Expr):\n",
    "    \"\"\" Conversion to complex form of the triple of coordinates on the SSR group \"\"\"\n",
    "    return Expr.subs({x : Z -(b+I*r**2)*y}).subs({b : W -I*r**2})\\\n",
    "        .subs({x2 : Z2 -(b2+I*r2**2)*y2}).subs({b2 : W2 -I*r2**2})\\\n",
    "        .subs({x3 : Z3 -(b3+I*r3**2)*y3}).subs({b3 : W3 -I*r3**2}).normal()"
   ]
  },
  {
   "cell_type": "markdown",
   "id": "3931feb9-c1b3-49be-9eed-de2794765191",
   "metadata": {
    "collapsed": false
   },
   "source": [
    "We define Helmholtz operators in three dimensions:"
   ]
  },
  {
   "cell_type": "code",
   "execution_count": null,
   "id": "eeed78d8-d940-47e7-af03-b2161ff34bee",
   "metadata": {
    "collapsed": false
   },
   "outputs": [],
   "source": [
    "def Helmholtz3(Func, K = k**2):\n",
    "    \"\"\" Three dimensional Helmholtz operator \"\"\"\n",
    "    return diff(diff(Func, y), y) + diff(diff(Func, y2), y2) + diff(diff(Func, y3), y3) + K * Func\n",
    "\n",
    "def Helmholtz3_trans(Func, K = k**2):\n",
    "    \"\"\" The transmuted form of three dimensional Helmholtz operator \"\"\"\n",
    "    return Second_der_trans(Func, Z1, W1) \\\n",
    "        + Second_der_trans(Func, Z2, W2) \\\n",
    "        + Second_der_trans(Func, Z3, W3) \\\n",
    "        + K * Func"
   ]
  },
  {
   "cell_type": "markdown",
   "id": "cdab12d6-2927-4f1e-ae02-dda9ecfdb7ed",
   "metadata": {
    "collapsed": false
   },
   "source": [
    "[Back to ToC](#ToC)"
   ]
  },
  {
   "cell_type": "markdown",
   "id": "53fd7dcb-c2a1-4418-867f-bb211890454e",
   "metadata": {
    "collapsed": false
   },
   "source": [
    "<a id=\"generalHelmholtz3D\"></a>\n",
    "### Generic solution of the Helmholtz equation in 3D\n",
    "\n",
    "Check the generic solution to the Helmholtz equation "
   ]
  },
  {
   "cell_type": "code",
   "execution_count": null,
   "id": "14c73842-4285-44da-873f-d7a552051519",
   "metadata": {
    "collapsed": false
   },
   "outputs": [],
   "source": [
    "Anzatz = f6(W1, W2, W3, Z1/W1, Z2/W2, Z3/W3)\n",
    "\n",
    "Answer = Helmholtz3_trans(Anzatz).normal()\n",
    "display(Latex(f'Helmholtz3 on the anzatz: ${Answer}$'))"
   ]
  },
  {
   "cell_type": "code",
   "execution_count": null,
   "id": "056860f6-1cad-4bf7-a977-79b330bd1814",
   "metadata": {
    "collapsed": false
   },
   "outputs": [],
   "source": [
    "Helmholtz3_factor = exp(k**2/(12*Pi*I*h)*(W1**(-1)+W2**(-1)+W3**(-1)))/sqrt(W1)/sqrt(W2)/sqrt(W3)\n",
    "Solution = Helmholtz3_factor*f5(W1**(-1)-W3**(-1), W2**(-1)-W3**(-1), Z1/W1, Z2/W2, Z3/W3)\n",
    "display(Latex(f'The solution is: ${Solution}$'))\n",
    "Answer = (Helmholtz3_trans(Solution)).normal()\n",
    "bool_highlighted(f'Solution is correct: ${Answer.is_zero()}$')"
   ]
  },
  {
   "cell_type": "code",
   "execution_count": null,
   "id": "53a012fa-bada-4c29-b659-4a8e8f66c4d4",
   "metadata": {
    "collapsed": false
   },
   "outputs": [],
   "source": [
    "Generic_factor_triple = Generic_factor_double * Generic_factor.subs({x : x3, y : y3, b : b3, r : r3})\n",
    "\n",
    "Full_solution = Generic_factor_triple * Solution.subs(complex_vars3).normal()"
   ]
  },
  {
   "cell_type": "markdown",
   "id": "59fc0451-ebbb-4442-98ad-e47bee2cd07e",
   "metadata": {
    "collapsed": false
   },
   "source": [
    "We check that the solution satisfies to all three analyticity conditions:"
   ]
  },
  {
   "cell_type": "code",
   "execution_count": null,
   "id": "43d19654-36c3-49f1-844b-3d8cfe431994",
   "metadata": {
    "collapsed": false
   },
   "outputs": [],
   "source": [
    "Answer = apply_laws(Cauchy_first(Full_solution), True)\n",
    "display(bool_highlighted(f'The first Cauchy equation: ${Answer.is_zero()}$'))\n",
    "\n",
    "Answer = apply_laws(Cauchy_second(Full_solution), True)\n",
    "Answer = to_complex3(Answer*r**(-2))\n",
    "bool_highlighted(f'The second Cauchy equation: ${Answer.is_zero()}$')"
   ]
  },
  {
   "cell_type": "markdown",
   "id": "56abbc15-a513-42fa-ba72-37974a1632ee",
   "metadata": {
    "collapsed": false
   },
   "source": [
    "We find the form of the structural condition for the function `f5` in\n",
    "the generic solution, it turns to be the Schrodinger equation of a\n",
    "free particle."
   ]
  },
  {
   "cell_type": "code",
   "execution_count": null,
   "id": "7e1869a8-6883-44b1-99fc-c765ab23b3c2",
   "metadata": {
    "collapsed": false
   },
   "outputs": [],
   "source": [
    "Answer = apply_laws(Structural(Full_solution) / Generic_factor_triple / Helmholtz3_factor.subs(complex_vars3), True)\n",
    "Structural1 = to_complex3(Answer*r**(-2)*wn**2).normal()\n",
    "display(Latex(f'The form of the first structural condition: ${Structural1}$'))\n",
    "\n",
    "Answer = apply_laws(Structural(Full_solution, matrix([[x2,y2,b2,r2]])) / Generic_factor_triple / Helmholtz3_factor.subs(complex_vars3), True)\n",
    "Structural2 = to_complex3(Answer*r2**(-2)*w2n**2).normal()\n",
    "display(Latex(f'The form of the second structural condition: ${Structural2}$'))\n",
    "\n",
    "Answer = apply_laws(Structural(Full_solution, matrix([[x3,y3,b3,r3]])) / Generic_factor_triple / Helmholtz3_factor.subs(complex_vars3), True)\n",
    "Structural3 = to_complex3(Answer*r3**(-2)*w3n**2).normal()\n",
    "Latex(f' Form of the second structural condition in third dimension: ${Structural3}$')"
   ]
  },
  {
   "cell_type": "markdown",
   "id": "0091894f-aac5-4f6a-a491-c3b54bd81a7d",
   "metadata": {
    "collapsed": false
   },
   "source": [
    "[Back to ToC](#ToC)"
   ]
  },
  {
   "cell_type": "markdown",
   "id": "94d1686e-f58e-47ff-b01c-3932b963d376",
   "metadata": {
    "collapsed": false
   },
   "source": [
    "<a id=\"references\"></a>\n",
    "### References\n",
    "\n",
    "   <a id=\"refAlmalkiKisil19\"></a>\n",
    "1.  F. Almalki and V. V. Kisil, *Geometric dynamics of a harmonic oscillator, arbitrary minimal uncertainty states and the smallest step 3 nilpotent Lie group*, J. Phys. A: Math. Theor **52** (2019), 025301. [arXiv:1805.01399](https://arxiv.org/abs/1805.01399).\n",
    "\n",
    "   <a id=\"refKisil15\"></a>\n",
    "2. V. V. Kisil. Uncertainty and analyticity. In V. V. Mityushev and M. V. Ruzhansky (eds.) Current trends in analysis and its applications, pages 583–590, Springer International Publishing, 2015. E-print: [arXiv:1312.4583](https://arxiv.org/abs/1312.4583).\n",
    "\n",
    "   <a id=\"refKisil17\"></a>\n",
    "3. V. V. Kisil. Symmetry, geometry and quantization with hypercomplex numbers. In I.M.Mladenov, G. Meng, and A. Yoshioka (eds.) Geometry, integrability and quantization XVIII, pages 11–76, Bulgar. Acad. Sci., Sofia, 2017. E-print: [arXiv:1611.05650](https://arxiv.org/abs/1611.05650). \n",
    "\n",
    "   <a id=\"refKisil21c\"></a>\n",
    "4. V. V. Kisil, *Metamorphism---an Integral Transform Reducing the Order of a Differential Equation*, 2021, [arXiv:2105.12079](http://arxiv.org/abs/2105.12079).\n",
    "\n",
    "   <a id=\"refKisil21b\"></a>\n",
    "5. V. V. Kisil, *Symbolic calculation for covariant transform on the SSR group*, [CodeOcean capsule](https://codeocean.com/capsule/2676832/tree/), 2021.\n",
    "\n",
    "   <a id=\"EichlerZagier85\"></a>\n",
    "6. M. Eichler, D. Zagier, *The theory of Jacobi forms*, Birkhauser, Boston, 1985.\n",
    "\n",
    "   <a id=\"refAlqurashiKisil23a\"></a>\n",
    "7.  T. Alqurashi and V. V. Kisil, *Metamorphism as a covariant transform for the SSR group*, 2023, [arXiv:2301.05879](http://arxiv.org/abs/2301.05879).\n",
    "\n"
   ]
  },
  {
   "cell_type": "markdown",
   "id": "3ba5bbc5-f7fb-4623-b7f9-1dc72ef3bd00",
   "metadata": {
    "collapsed": false
   },
   "source": [
    "[Back to ToC](#ToC)"
   ]
  }
 ],
 "metadata": {
  "kernelspec": {
   "argv": [
    "/usr/bin/python3",
    "-m",
    "ipykernel_launcher",
    "-f",
    "{connection_file}"
   ],
   "display_name": "Python 3 (ipykernel)",
   "env": null,
   "interrupt_mode": "signal",
   "language": "python",
   "metadata": {
    "debugger": true
   },
   "name": "python3"
  },
  "language_info": {
   "codemirror_mode": {
    "name": "ipython",
    "version": 3
   },
   "file_extension": ".py",
   "mimetype": "text/x-python",
   "name": "python",
   "nbconvert_exporter": "python",
   "pygments_lexer": "ipython3",
   "version": "3.9.9"
  },
  "name": "ssr_group.ipynb"
 },
 "nbformat": 4,
 "nbformat_minor": 5
}
